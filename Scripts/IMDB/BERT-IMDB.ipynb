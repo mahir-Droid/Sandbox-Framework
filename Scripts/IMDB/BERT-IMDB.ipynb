{
 "cells": [
  {
   "cell_type": "code",
   "execution_count": 1,
   "metadata": {
    "executionInfo": {
     "elapsed": 5,
     "status": "ok",
     "timestamp": 1695324378707,
     "user": {
      "displayName": "m m",
      "userId": "12156804663229931259"
     },
     "user_tz": -360
    },
    "id": "F7toc08bpdQ1",
    "tags": []
   },
   "outputs": [],
   "source": [
    "import torch\n",
    "import torch.nn as nn\n",
    "import torch.nn.functional as F\n",
    "import numpy as np\n",
    "from transformers import BertModel, BertConfig\n",
    "\n",
    "from transformers import *\n",
    "import pandas as pd\n",
    "import numpy as np\n",
    "import seaborn as sns\n",
    "import matplotlib.pyplot as plt\n",
    "from torch.utils.data import Dataset, DataLoader\n",
    "from sklearn.model_selection import train_test_split\n",
    "from sklearn.metrics import f1_score\n",
    "import textwrap\n",
    "import math\n",
    "import seaborn as sns\n",
    "import matplotlib.pyplot as plt\n",
    "\n",
    "from IPython.display import clear_output\n",
    "import warnings\n",
    "warnings.filterwarnings('ignore')\n",
    "clear_output()"
   ]
  },
  {
   "cell_type": "code",
   "execution_count": 2,
   "metadata": {
    "executionInfo": {
     "elapsed": 15,
     "status": "ok",
     "timestamp": 1695323483676,
     "user": {
      "displayName": "m m",
      "userId": "12156804663229931259"
     },
     "user_tz": -360
    },
    "id": "MLk4JWizs4S9",
    "tags": []
   },
   "outputs": [],
   "source": [
    "df_train = pd.read_csv('/home/m_nsu/ICLR/Datasets/IMDB/train.csv')\n",
    "df_val = pd.read_csv('/home/m_nsu/ICLR/Datasets/IMDB/val.csv')\n",
    "df_test = pd.read_csv('/home/m_nsu/ICLR/Datasets/IMDB/test.csv')"
   ]
  },
  {
   "cell_type": "code",
   "execution_count": 3,
   "metadata": {
    "id": "YWiFI0a9QqEa",
    "tags": []
   },
   "outputs": [],
   "source": [
    "df_senti = pd.read_excel('/home/m_nsu/ICLR/Datasets/GoEmotion/sentiwords.xlsx')\n",
    "conditions = [\n",
    "    (df_senti['PosScore'] > df_senti['NegScore']),\n",
    "    (df_senti['PosScore'] < df_senti['NegScore']),\n",
    "    (df_senti['PosScore'] == df_senti['NegScore'])\n",
    "    ]\n",
    "\n",
    "values = ['Positive','Negative','Neutral']\n",
    "\n",
    "df_senti = df_senti[['PosScore','NegScore','Word','Definition']]\n",
    "df_senti['Sentiment'] = np.select(conditions, values)\n",
    "df_senti = df_senti.dropna(axis=0)\n",
    "df_senti.drop(columns=['PosScore', 'NegScore'], inplace=True)\n",
    "df_senti = df_senti[['Word', 'Sentiment', 'Definition']]"
   ]
  },
  {
   "cell_type": "code",
   "execution_count": 4,
   "metadata": {
    "executionInfo": {
     "elapsed": 48,
     "status": "ok",
     "timestamp": 1695323754433,
     "user": {
      "displayName": "m m",
      "userId": "12156804663229931259"
     },
     "user_tz": -360
    },
    "id": "vX1DfZpN1W01",
    "tags": []
   },
   "outputs": [],
   "source": [
    "df_train.dropna(inplace=True)"
   ]
  },
  {
   "cell_type": "code",
   "execution_count": 5,
   "metadata": {
    "colab": {
     "base_uri": "https://localhost:8080/",
     "height": 206
    },
    "executionInfo": {
     "elapsed": 49,
     "status": "ok",
     "timestamp": 1695323754437,
     "user": {
      "displayName": "m m",
      "userId": "12156804663229931259"
     },
     "user_tz": -360
    },
    "id": "e0NG9J-oq_wW",
    "outputId": "f1bb3869-364e-4c7a-8c3f-a62ce4b182c7",
    "tags": []
   },
   "outputs": [
    {
     "data": {
      "text/html": [
       "<div>\n",
       "<style scoped>\n",
       "    .dataframe tbody tr th:only-of-type {\n",
       "        vertical-align: middle;\n",
       "    }\n",
       "\n",
       "    .dataframe tbody tr th {\n",
       "        vertical-align: top;\n",
       "    }\n",
       "\n",
       "    .dataframe thead th {\n",
       "        text-align: right;\n",
       "    }\n",
       "</style>\n",
       "<table border=\"1\" class=\"dataframe\">\n",
       "  <thead>\n",
       "    <tr style=\"text-align: right;\">\n",
       "      <th></th>\n",
       "      <th>Unnamed: 0</th>\n",
       "      <th>review</th>\n",
       "      <th>sentiment</th>\n",
       "    </tr>\n",
       "  </thead>\n",
       "  <tbody>\n",
       "    <tr>\n",
       "      <th>0</th>\n",
       "      <td>48539</td>\n",
       "      <td>This was a very funny movie not Oscarworthy bu...</td>\n",
       "      <td>0</td>\n",
       "    </tr>\n",
       "    <tr>\n",
       "      <th>1</th>\n",
       "      <td>26308</td>\n",
       "      <td>I know this film has had a fairly rough ride f...</td>\n",
       "      <td>0</td>\n",
       "    </tr>\n",
       "    <tr>\n",
       "      <th>2</th>\n",
       "      <td>14603</td>\n",
       "      <td>Being stuck in bed with the flu and feeling to...</td>\n",
       "      <td>1</td>\n",
       "    </tr>\n",
       "    <tr>\n",
       "      <th>3</th>\n",
       "      <td>45794</td>\n",
       "      <td>This isnt exactly a great film but I admire th...</td>\n",
       "      <td>0</td>\n",
       "    </tr>\n",
       "    <tr>\n",
       "      <th>4</th>\n",
       "      <td>21688</td>\n",
       "      <td>It is difficult to rate a writerdirectors firs...</td>\n",
       "      <td>1</td>\n",
       "    </tr>\n",
       "  </tbody>\n",
       "</table>\n",
       "</div>"
      ],
      "text/plain": [
       "   Unnamed: 0                                             review  sentiment\n",
       "0       48539  This was a very funny movie not Oscarworthy bu...          0\n",
       "1       26308  I know this film has had a fairly rough ride f...          0\n",
       "2       14603  Being stuck in bed with the flu and feeling to...          1\n",
       "3       45794  This isnt exactly a great film but I admire th...          0\n",
       "4       21688  It is difficult to rate a writerdirectors firs...          1"
      ]
     },
     "execution_count": 5,
     "metadata": {},
     "output_type": "execute_result"
    }
   ],
   "source": [
    "df_train.head()"
   ]
  },
  {
   "cell_type": "code",
   "execution_count": 6,
   "metadata": {
    "executionInfo": {
     "elapsed": 18,
     "status": "ok",
     "timestamp": 1695323756839,
     "user": {
      "displayName": "m m",
      "userId": "12156804663229931259"
     },
     "user_tz": -360
    },
    "id": "UmEtmaFNrakz",
    "tags": []
   },
   "outputs": [],
   "source": [
    "MAX_LEN = 200\n",
    "RANDOM_SEED = 42\n",
    "device = torch.device('cuda' if torch.cuda.is_available() else 'cpu')"
   ]
  },
  {
   "cell_type": "code",
   "execution_count": 7,
   "metadata": {
    "colab": {
     "base_uri": "https://localhost:8080/"
    },
    "executionInfo": {
     "elapsed": 18,
     "status": "ok",
     "timestamp": 1695323756840,
     "user": {
      "displayName": "m m",
      "userId": "12156804663229931259"
     },
     "user_tz": -360
    },
    "id": "6oWORty0p8Xo",
    "outputId": "cb12350b-753a-4c61-c7e8-3c9427f000e9",
    "tags": []
   },
   "outputs": [
    {
     "name": "stdout",
     "output_type": "stream",
     "text": [
      "cuda\n"
     ]
    }
   ],
   "source": [
    "PRE_TRAINED_MODEL_NAME = 'bert-base-uncased'\n",
    "config = BertConfig.from_pretrained(PRE_TRAINED_MODEL_NAME)\n",
    "tokenizer = BertTokenizer.from_pretrained(PRE_TRAINED_MODEL_NAME)\n",
    "clear_output()\n",
    "print(device)"
   ]
  },
  {
   "cell_type": "code",
   "execution_count": 8,
   "metadata": {
    "id": "yDSL15DQGvrh",
    "tags": []
   },
   "outputs": [],
   "source": [
    "pre_trained_model = BertModel.from_pretrained(PRE_TRAINED_MODEL_NAME).to(device)\n",
    "clear_output()"
   ]
  },
  {
   "cell_type": "code",
   "execution_count": 9,
   "metadata": {
    "executionInfo": {
     "elapsed": 35,
     "status": "ok",
     "timestamp": 1695323767305,
     "user": {
      "displayName": "m m",
      "userId": "12156804663229931259"
     },
     "user_tz": -360
    },
    "id": "R2PbApHJGstz",
    "tags": []
   },
   "outputs": [],
   "source": [
    "def get_cls(sent):\n",
    "  encoded_review = tokenizer.encode_plus(\n",
    "  sent,\n",
    "  max_length=MAX_LEN,\n",
    "  add_special_tokens=True,\n",
    "  return_token_type_ids=False,\n",
    "  truncation = True,\n",
    "  padding='max_length',\n",
    "  return_attention_mask=True,\n",
    "  return_tensors='pt',\n",
    "  )\n",
    "  input_ids = encoded_review['input_ids'].to(device)\n",
    "  attention_mask = encoded_review['attention_mask'].to(device)\n",
    "\n",
    "  pre_trained_model.eval()\n",
    "  with torch.no_grad():\n",
    "    output = pre_trained_model(input_ids, attention_mask)\n",
    "    return torch.mean(output[0], dim=1)[0] #Output Avg pooled vector embedding of last layer"
   ]
  },
  {
   "cell_type": "code",
   "execution_count": 10,
   "metadata": {
    "executionInfo": {
     "elapsed": 33,
     "status": "ok",
     "timestamp": 1695323767305,
     "user": {
      "displayName": "m m",
      "userId": "12156804663229931259"
     },
     "user_tz": -360
    },
    "id": "dN4TFCeRzGXw",
    "tags": []
   },
   "outputs": [],
   "source": [
    "neg_words = ['ambiguous','angry','annoying','appalling','awful','barbaric','bizarre','blasphemous','brainless','chaotic','contradictory','controversy','cringe','cruel',\n",
    "             'degrading','disturbed','failed','fake','gimmick','hateful','hideous','inadequate','inappropriate','incoherent','loopholes','meaningless','obscure','offensive',\n",
    "             'pathetic','weird']\n",
    "            \n",
    "pos_words = ['acclaimed','accurate','adventurous','astonishing','authentic','beautiful','calming','catchy','charismatic','cheerish','coherent','constructrive','cool',\n",
    "             'cute','daring','eloquent','enthusiastic','romantic','flawless','humorous','inspirational','love','modern','motivated','obsession','phenomenal','relistic',\n",
    "             'refreshing','vibrant','wholesome']\n",
    "\n",
    "\n",
    "new_pos_words = ['captivating','enjoy','outstanding','thoughtful','fun', 'pleasant', 'warm', 'enticing', 'realistic','friendly']\n",
    "new_neg_words = ['biased','horrible','bored','disappointed','frustrate','hostile','ridiculous','malign','rude','unpleasant']"
   ]
  },
  {
   "cell_type": "code",
   "execution_count": 11,
   "metadata": {
    "id": "5hjM7ggAiHnM",
    "tags": []
   },
   "outputs": [],
   "source": [
    "positive_word_meaning_sentences = [\n",
    "'to praise or welcome somebody/something publicly', #acclaimed(verb)\n",
    "'correct and true in every detail', #accurate(adjective)\n",
    "'including new and interesting things, methods and ideas', #adventurous(adjective)\n",
    "'very surprising; difficult to believe',#astonishing (adjective)\n",
    "'known to be real and what somebody claims it is and not a copy',#authentic(adjective)\n",
    "'having beauty; giving pleasure to the senses or to the mind', #beautiful(adjective)\n",
    "'to make somebody/something become quiet and more relaxed, especially after strong emotion or excitement',#calming(verb)\n",
    "'pleasant and easily remembered',#catchy(adjective)\n",
    "'the powerful personal quality that some people have to attract and impress other people',#charisma(noun)\n",
    "'(of a person or their behaviour) happy and cheerful',#cheery(adjective)\n",
    "'(of ideas, thoughts, arguments, etc.) logical and well organized; easy to understand and clear',#coherent(adjective)\n",
    "'having a useful and helpful effect rather than being negative or with no purpose',#constructive(adjective)\n",
    "'used to show that you admire or approve of somebody/something because they are/it is fashionable, attractive and often different',#cool(adjective)\n",
    "'pretty and attractive',#cute(adjective)\n",
    "'brave; willing to do dangerous or unusual things; involving danger or taking risks',#daring(adjective)\n",
    "'able to use language and express your opinions well, especially when you are speaking in public',#eloquent(adjective)\n",
    "'feeling or showing a lot of excitement and interest about somebody/something',#enthusiastic(adjective)\n",
    "'without flaws and therefore perfect',#flawless(adjective)\n",
    "'funny; showing a sense of humour',#humorous(adjective)\n",
    "'providing exciting new ideas; making somebody want to create something, especially in art, literature or music',#inspirational(adjective)\n",
    "]\n",
    "\n",
    "new_positive_word_meaning_sentences = [\n",
    "'taking all your attention; very attractive and interesting',#captivating(adjective)\n",
    "'to get pleasure from something',#enjoy(verb)\n",
    "'extremely good; excellent',#outstanding(adjective)\n",
    "'showing that you think about and care for other people',#thoughtful(adjective)\n",
    "'the feeling of enjoying yourself; activities that you enjoy',#fun(noun)\n",
    "'affording pleasure; being in harmony with your taste or likings', \n",
    "'get warm or warmer', \n",
    "'provoke someone to do something through (often false or exaggerated', \n",
    "'aware or expressing awareness of things as they really are', \n",
    "'kind and pleasant',\n",
    "'a very strong feeling of liking and caring for somebody/something, especially a member of your family or a friend',#love(noun)\n",
    "'of the present time or recent times',#modern(adjective)\n",
    "'wanting to do something, especially something that involves hard work and effort',#motivated(adjective)\n",
    "'a person or thing that somebody thinks about too much',#obsession(noun)\n",
    "'very great or impressive',#phenomenal(adjective)\n",
    "'accepting in a sensible way what it is actually possible to do or achieve in a particular situation',#realistic(adjective)\n",
    "'pleasantly new or different',#refreshing(adjective)\n",
    "'connected with or about love or a sexual relationship',#romantic(adjective)\n",
    "'full of life and energy',#vibrant(adjective)\n",
    "'morally good; having a good moral influence'#wholesome(adjective)\n",
    "]\n",
    "\n",
    "\n",
    "negative_word_meaning_sentences = [\n",
    "'that can be understood in more than one way; having different meanings', #ambiguous(adjective)\n",
    "'having strong feelings about something that you dislike very much or about an unfair situation',#angry(adjective)\n",
    "'making somebody feel slightly angry',#annoying(adjective)\n",
    "'extremely bad, especially from a moral point of view',#appalling(adjective)\n",
    "'very bad or unpleasant',#awful(adjective)\n",
    "'cruel and violent and not as expected from people who are educated and respect each other',#barbaric(adjective)\n",
    "'very strange or unusual',#bizarre(adjective)\n",
    "'(of behaviour or language) showing a lack of respect for God or religion',#blasphemous(adjective)\n",
    "'stupid; not able to think or talk in an intelligent way',#brainless(adjective)\n",
    "'without any order; in a completely confused state',#chaotic(adjective)\n",
    "'containing or showing a lack of agreement between statements, facts, opinions or actions',#contradictory(adjective)\n",
    "'public discussion and argument about something that many people strongly disagree about, think is bad, or are shocked by',#controversy(noun)\n",
    "'to feel very embarrassed and uncomfortable about something',#cringe(verb)\n",
    "'having a desire to cause physical or mental pain and make somebody suffer',#cruel(adjective)\n",
    "'treating somebody as if they have no value, so that they lose their self-respect and the respect of other people',#degrading(adjective)\n",
    "'mentally ill, especially because of very unhappy or unpleasant experiences',#disturbed(adjective)\n",
    "'not successful', #failed(adjective)\n",
    "'not what somebody claims it is; appearing to be something it is not',#fake(adjective)\n",
    "'an unusual trick or unnecessary device that is intended to attract attention or to persuade people to buy something',#gimmick(noun)\n",
    "'very unkind or unpleasant',#hateful(adjective)\n",
    "]\n",
    "\n",
    "new_negative_word_meaning_sentences = [\n",
    "'tending to show favour towards or against one group of people or one opinion for personal reasons; making unfair judgements',#biased(adjective)\n",
    "'very bad or unpleasant; used to describe something that you do not like',#horrible(adjective)\n",
    "'feeling tired and impatient because you have lost interest in somebody/something or because you have nothing to do',#bored(adjective)\n",
    "'upset because something you hoped for has not happened or been as good, successful, etc. as you expected',#disappointed(adjective)\n",
    "'to make somebody feel annoyed or impatient because they cannot do or achieve what they want',#frustrate(verb),\n",
    "'showing or feeling opposition or dislike; unfriendly',\n",
    "'inspiring scornful pity', \n",
    "'speak unfavorably about', \n",
    "'socially incorrect in behavior', \n",
    "'offensive or disagreeable; causing discomfort or unhappiness',\n",
    "'very ugly or unpleasant',#hideous(adjective)\n",
    "'not enough; not good enough',#inadequate(adjective)\n",
    "'not suitable or appropriate in a particular situation',#inappropriate(adjective)\n",
    "'unable to express yourself clearly, often because of emotion',#incoherent(adjective)\n",
    "'a mistake in the way a law, contract, etc. has been written that enables people to legally avoid doing something that the law, contract, etc. had intended them to do',#loophole(noun)\n",
    "'without any purpose or reason and therefore not worth doing or having',#meaningless(adjective)\n",
    "'difficult to understand',#obscure(adjective)\n",
    "'rude in a way that causes somebody to feel upset or annoyed because it shows a lack of respect',#offensive(adjective)\n",
    "'making you feel sad',#pathetic\n",
    "'very strange or unusual and difficult to explain',#weird(adjective)\n",
    "]"
   ]
  },
  {
   "cell_type": "code",
   "execution_count": 12,
   "metadata": {
    "colab": {
     "base_uri": "https://localhost:8080/"
    },
    "executionInfo": {
     "elapsed": 30,
     "status": "ok",
     "timestamp": 1695323767308,
     "user": {
      "displayName": "m m",
      "userId": "12156804663229931259"
     },
     "user_tz": -360
    },
    "id": "Y_8HhXvskRFY",
    "outputId": "a8dbea0e-bd42-4116-8e55-4b9c17f6f627",
    "tags": []
   },
   "outputs": [
    {
     "name": "stdout",
     "output_type": "stream",
     "text": [
      "20\n",
      "20\n"
     ]
    }
   ],
   "source": [
    "print(len(new_positive_word_meaning_sentences))\n",
    "print(len(new_negative_word_meaning_sentences))"
   ]
  },
  {
   "cell_type": "code",
   "execution_count": 13,
   "metadata": {
    "executionInfo": {
     "elapsed": 3468,
     "status": "ok",
     "timestamp": 1695323770756,
     "user": {
      "displayName": "m m",
      "userId": "12156804663229931259"
     },
     "user_tz": -360
    },
    "id": "LNSmtyIyoOUv",
    "tags": []
   },
   "outputs": [],
   "source": [
    "p_emb = torch.tensor([[1.]*config.hidden_size]).to(device)\n",
    "n_emb = torch.tensor([[1.]*config.hidden_size]).to(device)\n",
    "\n",
    "\n",
    "for i in positive_word_meaning_sentences:\n",
    "  p_emb = torch.cat((p_emb,get_cls(i).unsqueeze(dim=0)), dim=0)\n",
    "\n",
    "for i in negative_word_meaning_sentences:\n",
    "  n_emb = torch.cat((n_emb,get_cls(i).unsqueeze(dim=0)), dim=0)\n",
    "\n",
    "\n",
    "\n",
    "p_emb = p_emb[1:]\n",
    "n_emb = n_emb[1:]"
   ]
  },
  {
   "cell_type": "code",
   "execution_count": 14,
   "metadata": {
    "colab": {
     "base_uri": "https://localhost:8080/"
    },
    "executionInfo": {
     "elapsed": 27,
     "status": "ok",
     "timestamp": 1695323770759,
     "user": {
      "displayName": "m m",
      "userId": "12156804663229931259"
     },
     "user_tz": -360
    },
    "id": "V_qXeXCGgjtq",
    "outputId": "b32eec10-206d-4ac3-ed65-f7bef84586d2",
    "tags": []
   },
   "outputs": [
    {
     "name": "stdout",
     "output_type": "stream",
     "text": [
      "torch.Size([20, 768])\n",
      "torch.Size([20, 768])\n"
     ]
    }
   ],
   "source": [
    "print(p_emb.shape)\n",
    "print(n_emb.shape)"
   ]
  },
  {
   "cell_type": "code",
   "execution_count": 15,
   "metadata": {
    "executionInfo": {
     "elapsed": 24,
     "status": "ok",
     "timestamp": 1695323770760,
     "user": {
      "displayName": "m m",
      "userId": "12156804663229931259"
     },
     "user_tz": -360
    },
    "id": "OtZt1p7ys7XD",
    "tags": []
   },
   "outputs": [],
   "source": [
    "class IMDBDataset(Dataset):\n",
    "\n",
    "  def __init__(self, reviews, sentiments, tokenizer, max_len):\n",
    "    self.reviews = reviews\n",
    "    self.sentiments = sentiments\n",
    "    self.tokenizer = tokenizer\n",
    "    self.max_len = max_len\n",
    "\n",
    "  def __len__(self):\n",
    "    return len(self.reviews)\n",
    "\n",
    "  def __getitem__(self, item):\n",
    "    review = str(self.reviews[item])\n",
    "    sentiment = self.sentiments[item]\n",
    "\n",
    "\n",
    "    encoding = self.tokenizer.encode_plus(\n",
    "      review,\n",
    "      add_special_tokens=True,\n",
    "      max_length=self.max_len,\n",
    "      return_token_type_ids=False,\n",
    "      padding='max_length',\n",
    "      truncation = True,\n",
    "      return_attention_mask=True,\n",
    "      return_tensors='pt',\n",
    "    )\n",
    "\n",
    "    return {\n",
    "      'review': review,\n",
    "      'input_ids': encoding['input_ids'].flatten(),\n",
    "      'attention_mask': encoding['attention_mask'].flatten(),\n",
    "      'sentiments': torch.tensor(sentiment, dtype=torch.long),\n",
    "\n",
    "    }"
   ]
  },
  {
   "cell_type": "code",
   "execution_count": 16,
   "metadata": {
    "executionInfo": {
     "elapsed": 6,
     "status": "ok",
     "timestamp": 1695325189268,
     "user": {
      "displayName": "m m",
      "userId": "12156804663229931259"
     },
     "user_tz": -360
    },
    "id": "UuOujQajtL5f",
    "tags": []
   },
   "outputs": [],
   "source": [
    "def create_data_loader(df, tokenizer, max_len, batch_size):\n",
    "  ds = IMDBDataset(\n",
    "    reviews=df.review.to_numpy(),\n",
    "    sentiments=df['sentiment'].to_numpy(),\n",
    "    tokenizer=tokenizer,\n",
    "    max_len=max_len\n",
    "  )\n",
    "\n",
    "  return DataLoader(\n",
    "    ds,\n",
    "    batch_size=batch_size,\n",
    "    num_workers=8\n",
    "  )"
   ]
  },
  {
   "cell_type": "code",
   "execution_count": 17,
   "metadata": {
    "executionInfo": {
     "elapsed": 24,
     "status": "ok",
     "timestamp": 1695323770761,
     "user": {
      "displayName": "m m",
      "userId": "12156804663229931259"
     },
     "user_tz": -360
    },
    "id": "3zzA4eBytOqj",
    "tags": []
   },
   "outputs": [],
   "source": [
    "BATCH_SIZE = 32\n",
    "\n",
    "train_data_loader = create_data_loader(df_train, tokenizer, MAX_LEN, BATCH_SIZE)\n",
    "val_data_loader = create_data_loader(df_val, tokenizer, MAX_LEN, BATCH_SIZE)\n",
    "test_data_loader = create_data_loader(df_test, tokenizer, MAX_LEN, BATCH_SIZE)"
   ]
  },
  {
   "cell_type": "code",
   "execution_count": 18,
   "metadata": {
    "colab": {
     "base_uri": "https://localhost:8080/"
    },
    "executionInfo": {
     "elapsed": 6,
     "status": "ok",
     "timestamp": 1695325187523,
     "user": {
      "displayName": "m m",
      "userId": "12156804663229931259"
     },
     "user_tz": -360
    },
    "id": "AoUfRPy0tQgk",
    "outputId": "4cc31257-8fe1-4cce-883e-8aff4ebf2185",
    "tags": []
   },
   "outputs": [
    {
     "data": {
      "text/plain": [
       "dict_keys(['review', 'input_ids', 'attention_mask', 'sentiments'])"
      ]
     },
     "execution_count": 18,
     "metadata": {},
     "output_type": "execute_result"
    }
   ],
   "source": [
    "data = next(iter(train_data_loader))\n",
    "data.keys()"
   ]
  },
  {
   "cell_type": "code",
   "execution_count": 19,
   "metadata": {
    "executionInfo": {
     "elapsed": 3,
     "status": "ok",
     "timestamp": 1695325688712,
     "user": {
      "displayName": "m m",
      "userId": "12156804663229931259"
     },
     "user_tz": -360
    },
    "id": "Y3Nil-yatUqF",
    "tags": []
   },
   "outputs": [],
   "source": [
    "class Classifier(nn.Module):\n",
    "  def __init__(self):\n",
    "    super(Classifier, self).__init__()\n",
    "    self.bert = BertModel.from_pretrained(PRE_TRAINED_MODEL_NAME,config=config)\n",
    "    self.FC = nn.Linear(config.hidden_size,config.hidden_size, bias=False)\n",
    "\n",
    "  def CosineNorm(self, c, b, n_words):\n",
    "    cos = torch.nn.CosineSimilarity(dim=-1, eps=1e-8)\n",
    "    simi = torch.tensor([[1.]*n_words]).to(device)\n",
    "    for i in c:\n",
    "      temp = cos(i,b).to(device)\n",
    "      temp = torch.unsqueeze(temp,0)\n",
    "      simi = torch.cat((simi,temp), dim=0)\n",
    "\n",
    "    return simi[1:]\n",
    "\n",
    "  def binary_output(self,positive, negative):\n",
    "    positive = torch.max(positive,1).values\n",
    "    negative = torch.max(negative,1).values\n",
    "\n",
    "    p_temp = torch.unsqueeze(positive,0)\n",
    "    n_temp = torch.unsqueeze(negative,0)\n",
    "\n",
    "\n",
    "    res = torch.cat((p_temp,n_temp), dim=0)\n",
    "\n",
    "    return torch.t(res)\n",
    "\n",
    "  def forward(self, input_ids, attention_mask, return_scores=False):\n",
    "    with torch.no_grad():\n",
    "      pooled_output = self.bert(\n",
    "        input_ids=input_ids,\n",
    "        attention_mask=attention_mask,\n",
    "        return_dict = False\n",
    "      )\n",
    "    pooled_output = torch.mean(pooled_output[0], dim=1) # Taking Averge pooled last layer embedding\n",
    "\n",
    "    x_sent = self.FC(pooled_output)\n",
    "\n",
    "    Ept = self.FC(p_emb)\n",
    "    Ent = self.FC(n_emb)\n",
    "\n",
    "    positive = F.relu(self.CosineNorm(x_sent, Ept, p_emb.size()[0]))\n",
    "    negative = F.relu(self.CosineNorm(x_sent, Ent, n_emb.size()[0]))\n",
    "\n",
    "    binary_out = self.binary_output(positive,negative)\n",
    "    if(return_scores==True):\n",
    "      return (positive,negative) , binary_out\n",
    "    return binary_out"
   ]
  },
  {
   "cell_type": "code",
   "execution_count": 20,
   "metadata": {
    "id": "HWZ37gsztWzL",
    "tags": []
   },
   "outputs": [],
   "source": [
    "model = Classifier()\n",
    "model = model.to(device)\n",
    "clear_output()"
   ]
  },
  {
   "cell_type": "code",
   "execution_count": 21,
   "metadata": {
    "executionInfo": {
     "elapsed": 22,
     "status": "ok",
     "timestamp": 1695325221207,
     "user": {
      "displayName": "m m",
      "userId": "12156804663229931259"
     },
     "user_tz": -360
    },
    "id": "HWy57v2CxxCM",
    "tags": []
   },
   "outputs": [],
   "source": [
    "for name, param in model.named_parameters():\n",
    "    if name.startswith('bert'):\n",
    "        param.requires_grad = False"
   ]
  },
  {
   "cell_type": "code",
   "execution_count": 22,
   "metadata": {
    "executionInfo": {
     "elapsed": 20,
     "status": "ok",
     "timestamp": 1695325221207,
     "user": {
      "displayName": "m m",
      "userId": "12156804663229931259"
     },
     "user_tz": -360
    },
    "id": "e5iLu13CYlux",
    "tags": []
   },
   "outputs": [],
   "source": [
    "#for name, param in model.named_parameters():\n",
    "#    print(name, param.requires_grad)"
   ]
  },
  {
   "cell_type": "code",
   "execution_count": 23,
   "metadata": {
    "colab": {
     "base_uri": "https://localhost:8080/"
    },
    "executionInfo": {
     "elapsed": 21,
     "status": "ok",
     "timestamp": 1695325221208,
     "user": {
      "displayName": "m m",
      "userId": "12156804663229931259"
     },
     "user_tz": -360
    },
    "id": "nZpqz6yDtYZ4",
    "outputId": "c0ba4f97-cad5-46b8-e1ff-e818ff5b4035",
    "tags": []
   },
   "outputs": [
    {
     "name": "stdout",
     "output_type": "stream",
     "text": [
      "torch.Size([32, 200])\n",
      "torch.Size([32, 200])\n"
     ]
    }
   ],
   "source": [
    "input_ids = data['input_ids'].to(device)\n",
    "attention_mask = data['attention_mask'].to(device)\n",
    "sentiments = data['sentiments'].to(device)\n",
    "\n",
    "print(input_ids.shape) # batch size x seq length\n",
    "print(attention_mask.shape) # batch size x seq length"
   ]
  },
  {
   "cell_type": "code",
   "execution_count": 24,
   "metadata": {
    "executionInfo": {
     "elapsed": 12,
     "status": "ok",
     "timestamp": 1695325221208,
     "user": {
      "displayName": "m m",
      "userId": "12156804663229931259"
     },
     "user_tz": -360
    },
    "id": "NwvA-zp7vqc1",
    "tags": []
   },
   "outputs": [],
   "source": [
    "#del test\n",
    "torch.cuda.empty_cache()"
   ]
  },
  {
   "cell_type": "code",
   "execution_count": 25,
   "metadata": {
    "executionInfo": {
     "elapsed": 603,
     "status": "ok",
     "timestamp": 1695325221800,
     "user": {
      "displayName": "m m",
      "userId": "12156804663229931259"
     },
     "user_tz": -360
    },
    "id": "-9Z37OXOtb0q",
    "tags": []
   },
   "outputs": [],
   "source": [
    "(positive,negative),outs = model(input_ids, attention_mask,return_scores=True)"
   ]
  },
  {
   "cell_type": "code",
   "execution_count": 26,
   "metadata": {
    "colab": {
     "base_uri": "https://localhost:8080/"
    },
    "executionInfo": {
     "elapsed": 15,
     "status": "ok",
     "timestamp": 1695325221800,
     "user": {
      "displayName": "m m",
      "userId": "12156804663229931259"
     },
     "user_tz": -360
    },
    "id": "NHFM3QUhg3n0",
    "outputId": "602bd955-db78-44a6-931e-e5e901bb1856",
    "tags": []
   },
   "outputs": [
    {
     "data": {
      "text/plain": [
       "tensor([[0.7787, 0.7418],\n",
       "        [0.6113, 0.6000],\n",
       "        [0.5249, 0.5214],\n",
       "        [0.5865, 0.5298],\n",
       "        [0.5628, 0.5107],\n",
       "        [0.6240, 0.5789],\n",
       "        [0.6570, 0.6334],\n",
       "        [0.5873, 0.5240],\n",
       "        [0.6013, 0.5566],\n",
       "        [0.5580, 0.5310],\n",
       "        [0.5968, 0.5503],\n",
       "        [0.5646, 0.5202],\n",
       "        [0.5744, 0.5418],\n",
       "        [0.6685, 0.6126],\n",
       "        [0.6362, 0.5906],\n",
       "        [0.5838, 0.5487],\n",
       "        [0.5841, 0.5069],\n",
       "        [0.6330, 0.5700],\n",
       "        [0.6680, 0.6189],\n",
       "        [0.5592, 0.5441],\n",
       "        [0.5393, 0.5341],\n",
       "        [0.5757, 0.5478],\n",
       "        [0.3895, 0.3685],\n",
       "        [0.5862, 0.5498],\n",
       "        [0.7733, 0.7106],\n",
       "        [0.5794, 0.5528],\n",
       "        [0.5690, 0.5451],\n",
       "        [0.6809, 0.6763],\n",
       "        [0.5971, 0.5540],\n",
       "        [0.6146, 0.5749],\n",
       "        [0.7245, 0.7167],\n",
       "        [0.6103, 0.5649]], device='cuda:0', grad_fn=<TBackward0>)"
      ]
     },
     "execution_count": 26,
     "metadata": {},
     "output_type": "execute_result"
    }
   ],
   "source": [
    "outs"
   ]
  },
  {
   "cell_type": "code",
   "execution_count": 27,
   "metadata": {
    "colab": {
     "base_uri": "https://localhost:8080/"
    },
    "executionInfo": {
     "elapsed": 1022,
     "status": "ok",
     "timestamp": 1695325845248,
     "user": {
      "displayName": "m m",
      "userId": "12156804663229931259"
     },
     "user_tz": -360
    },
    "id": "cjMVWA5a_6lf",
    "outputId": "bae8764e-0ce8-4118-e676-267b2c3ac06b",
    "tags": []
   },
   "outputs": [],
   "source": [
    "EPOCHS = 8\n",
    "\n",
    "optimizer = AdamW(model.parameters(), lr=0.001)\n",
    "total_steps = len(train_data_loader) * EPOCHS\n",
    "\n",
    "scheduler = get_linear_schedule_with_warmup(\n",
    "  optimizer,\n",
    "  num_warmup_steps=math.floor((1./5)*total_steps),\n",
    "  num_training_steps=total_steps\n",
    ")\n",
    "\n",
    "loss_fn = nn.CrossEntropyLoss().to(device)"
   ]
  },
  {
   "cell_type": "code",
   "execution_count": 28,
   "metadata": {
    "executionInfo": {
     "elapsed": 8,
     "status": "ok",
     "timestamp": 1695325845969,
     "user": {
      "displayName": "m m",
      "userId": "12156804663229931259"
     },
     "user_tz": -360
    },
    "id": "cLFDb4pzbx9W",
    "tags": []
   },
   "outputs": [],
   "source": [
    "def train_epoch(\n",
    "  model,\n",
    "  data_loader,\n",
    "  loss_fn,\n",
    "  optimizer,\n",
    "  device,\n",
    "  scheduler,\n",
    "  n_examples\n",
    "):\n",
    "  model = model.train()\n",
    "\n",
    "  losses = []\n",
    "  correct_predictions = 0\n",
    "\n",
    "  for d in data_loader:\n",
    "    input_ids = d[\"input_ids\"].to(device)\n",
    "    attention_mask = d[\"attention_mask\"].to(device)\n",
    "    sentiments = d[\"sentiments\"].to(device)\n",
    "\n",
    "    outputs = model(\n",
    "      input_ids=input_ids,\n",
    "      attention_mask=attention_mask\n",
    "    ).to(device)\n",
    "\n",
    "    _, preds = torch.max(outputs, dim=1)\n",
    "    loss = loss_fn(outputs, sentiments)\n",
    "\n",
    "    correct_predictions += torch.sum(preds == sentiments)\n",
    "    losses.append(loss.item())\n",
    "\n",
    "\n",
    "    loss.backward()\n",
    "    nn.utils.clip_grad_norm_(model.parameters(), max_norm=1.0)\n",
    "    optimizer.step()\n",
    "    scheduler.step()\n",
    "    optimizer.zero_grad()\n",
    "\n",
    "  return correct_predictions.double() / n_examples, np.mean(losses)"
   ]
  },
  {
   "cell_type": "code",
   "execution_count": 29,
   "metadata": {
    "executionInfo": {
     "elapsed": 9,
     "status": "ok",
     "timestamp": 1695325845971,
     "user": {
      "displayName": "m m",
      "userId": "12156804663229931259"
     },
     "user_tz": -360
    },
    "id": "z4GAdIawtUue",
    "tags": []
   },
   "outputs": [],
   "source": [
    "def eval_model(model, data_loader, loss_fn, device, n_examples, on_new=False):\n",
    "  model = model.eval()\n",
    "\n",
    "  losses = []\n",
    "  f1s = []\n",
    "\n",
    "  correct_predictions = 0\n",
    "\n",
    "  with torch.no_grad():\n",
    "    for d in data_loader:\n",
    "      input_ids = d[\"input_ids\"].to(device)\n",
    "      attention_mask = d[\"attention_mask\"].to(device)\n",
    "      sentiments = d[\"sentiments\"].to(device)\n",
    "\n",
    "      outputs = model(\n",
    "        input_ids=input_ids,\n",
    "        attention_mask=attention_mask,\n",
    "      ).to(device)\n",
    "      _, preds = torch.max(outputs, dim=1)\n",
    "\n",
    "      loss = loss_fn(outputs, sentiments)\n",
    "\n",
    "      correct_predictions += torch.sum(preds == sentiments)\n",
    "      losses.append(loss.item())\n",
    "\n",
    "      f1s.append(f1_score(sentiments.cpu(), preds.cpu(), average='macro'))\n",
    "\n",
    "  return correct_predictions.double() / n_examples, np.mean(losses), np.mean(f1s)"
   ]
  },
  {
   "cell_type": "code",
   "execution_count": 30,
   "metadata": {
    "executionInfo": {
     "elapsed": 8,
     "status": "ok",
     "timestamp": 1695325846655,
     "user": {
      "displayName": "m m",
      "userId": "12156804663229931259"
     },
     "user_tz": -360
    },
    "id": "9tWEJ4saOU6Q",
    "tags": []
   },
   "outputs": [],
   "source": [
    "def batch_calc_score_sum(positive, negative, sentiments):\n",
    "  p_filter = sentiments ^ torch.ones(sentiments.size()[0], dtype=torch.int8).to(device) # Positive ( sentiment xor [1,1,...])\n",
    "  n_filter = sentiments # Negative\n",
    "\n",
    "  pos_score_pos_sent = positive[p_filter.nonzero(), :]\n",
    "  pos_score_neg_sent = positive[n_filter.nonzero(), :]\n",
    "\n",
    "  neg_score_pos_sent = negative[p_filter.nonzero(), :]\n",
    "  neg_score_neg_sent = negative[n_filter.nonzero(), :]\n",
    "\n",
    "  pp_count = pos_score_pos_sent.size()[0]\n",
    "  pn_count = pos_score_neg_sent.size()[0]\n",
    "  pp_sum = torch.sum(pos_score_pos_sent,dim=0)\n",
    "  pn_sum = torch.sum(pos_score_neg_sent,dim=0)\n",
    "\n",
    "\n",
    "#  np_count = neg_score_pos_sent.size()[0] # same as pn_count\n",
    "#  nn_count = neg_score_neg_sent.size()[0] # same as pn_count\n",
    "  np_sum = torch.sum(neg_score_pos_sent,dim=0)\n",
    "  nn_sum = torch.sum(neg_score_neg_sent,dim=0)\n",
    "\n",
    "  return pp_sum,pn_sum,np_sum,nn_sum, pp_count, pn_count\n",
    "\n",
    "def eval_scores_average(model, data_loader, device):\n",
    "  model = model.eval()\n",
    "\n",
    "\n",
    "  pp_sum_agg = torch.zeros(1,p_emb.size()[0]).to(device)\n",
    "  pn_sum_agg = torch.zeros(1,p_emb.size()[0]).to(device)\n",
    "\n",
    "  np_sum_agg = torch.zeros(1,n_emb.size()[0]).to(device)\n",
    "  nn_sum_agg = torch.zeros(1,n_emb.size()[0]).to(device)\n",
    "\n",
    "  pp_count_agg, pn_count_agg = 0,0\n",
    "\n",
    "  with torch.no_grad():\n",
    "    for d in data_loader:\n",
    "      input_ids = d[\"input_ids\"].to(device)\n",
    "      attention_mask = d[\"attention_mask\"].to(device)\n",
    "      sentiments = d[\"sentiments\"].to(device)\n",
    "\n",
    "      (positive,negative),_= model(\n",
    "        input_ids=input_ids,\n",
    "        attention_mask=attention_mask,\n",
    "        return_scores=True\n",
    "      )\n",
    "      positive.to(device)\n",
    "      negative.to(device)\n",
    "\n",
    "\n",
    "      pp_sum,pn_sum,np_sum,nn_sum, pp_count, pn_count = batch_calc_score_sum(positive,negative,sentiments)\n",
    "\n",
    "      pp_sum_agg += pp_sum\n",
    "      pn_sum_agg += pn_sum\n",
    "\n",
    "      np_sum_agg += np_sum\n",
    "      nn_sum_agg += nn_sum\n",
    "\n",
    "      pp_count_agg += pp_count\n",
    "      pn_count_agg += pn_count\n",
    "\n",
    "\n",
    "\n",
    "  return pp_sum_agg/pp_count_agg, pn_sum_agg/pn_count_agg, np_sum_agg/pp_count_agg, nn_sum_agg/pn_count_agg"
   ]
  },
  {
   "cell_type": "code",
   "execution_count": 31,
   "metadata": {
    "executionInfo": {
     "elapsed": 8,
     "status": "ok",
     "timestamp": 1695325846656,
     "user": {
      "displayName": "m m",
      "userId": "12156804663229931259"
     },
     "user_tz": -360
    },
    "id": "IxncgTh4awi7",
    "tags": []
   },
   "outputs": [],
   "source": [
    "def box_plot(pp,pn,np,nn):\n",
    "  pp = pp.tolist()[0]\n",
    "  pn = pn.tolist()[0]\n",
    "  np = np.tolist()[0]\n",
    "  nn = nn.tolist()[0]\n",
    "  # Create a box plot with beeswarm using seaborn\n",
    "  sns.set(style=\"whitegrid\")  # Set the style of the plot\n",
    "  plt.figure(figsize=(8, 6))  # Set the figure size\n",
    "  ax = sns.boxplot(data=[pp,pn,np,nn], orient=\"v\", palette=\"Set2\")  # Create the box plot\n",
    "  ax = sns.swarmplot(data=[pp,pn,np,nn], orient=\"v\", color=\"0.2\")  # Add the swarm plot\n",
    "\n",
    "  # Set labels for the axes\n",
    "  ax.set_xlabel('Categories')\n",
    "  ax.set_xticklabels(['pp','pn','np','nn'])\n",
    "  ax.set_ylabel('Scores(µ)')\n",
    "\n",
    "  # Set a title for the plot\n",
    "  #plt.title()\n",
    "\n",
    "  # Show the plot\n",
    "  plt.show()"
   ]
  },
  {
   "cell_type": "code",
   "execution_count": 32,
   "metadata": {
    "colab": {
     "base_uri": "https://localhost:8080/",
     "height": 1000
    },
    "executionInfo": {
     "elapsed": 3203929,
     "status": "ok",
     "timestamp": 1695329051836,
     "user": {
      "displayName": "m m",
      "userId": "12156804663229931259"
     },
     "user_tz": -360
    },
    "id": "IqdIHJsrANr0",
    "outputId": "ee79ec9a-a033-47e0-bc8b-a7b71698465c",
    "tags": []
   },
   "outputs": [
    {
     "name": "stdout",
     "output_type": "stream",
     "text": [
      "Epoch 1/8\n",
      "----------\n",
      "Train loss 0.5172158502340317 accuracy 0.79835\n",
      "Val   loss 0.4626644360032051 accuracy 0.8502000000000001\n",
      "\n",
      "Epoch 2/8\n",
      "----------\n",
      "Train loss 0.4786549539804459 accuracy 0.8298000000000001\n",
      "Val   loss 0.4574837891539191 accuracy 0.8496\n",
      "\n",
      "Epoch 3/8\n",
      "----------\n",
      "Train loss 0.4683668098211288 accuracy 0.8396250000000001\n",
      "Val   loss 0.4651137687218417 accuracy 0.8464\n",
      "\n",
      "Epoch 4/8\n",
      "----------\n",
      "Train loss 0.4657680220603943 accuracy 0.8423\n",
      "Val   loss 0.47870393562468755 accuracy 0.8298000000000001\n",
      "\n",
      "Epoch 5/8\n",
      "----------\n",
      "Train loss 0.46242413325309756 accuracy 0.8447250000000001\n",
      "Val   loss 0.4534809705178449 accuracy 0.8546\n",
      "\n",
      "Epoch 6/8\n",
      "----------\n",
      "Train loss 0.45975721588134766 accuracy 0.8464250000000001\n",
      "Val   loss 0.4507953370832334 accuracy 0.8548\n",
      "\n",
      "Epoch 7/8\n",
      "----------\n",
      "Train loss 0.45698634297847746 accuracy 0.848375\n",
      "Val   loss 0.4513694040334908 accuracy 0.8524\n",
      "\n",
      "Epoch 8/8\n",
      "----------\n",
      "Train loss 0.4545000075340271 accuracy 0.8530000000000001\n",
      "Val   loss 0.4493409194004763 accuracy 0.8542000000000001\n",
      "\n",
      "CPU times: user 44min 41s, sys: 10 s, total: 44min 51s\n",
      "Wall time: 45min\n"
     ]
    }
   ],
   "source": [
    "%%time\n",
    "\n",
    "train_a = []\n",
    "train_l = []\n",
    "val_a = []\n",
    "val_l = []\n",
    "best_accuracy = 0\n",
    "\n",
    "for epoch in range(EPOCHS):\n",
    "\n",
    "  print(f'Epoch {epoch + 1}/{EPOCHS}')\n",
    "  print('-' * 10)\n",
    "\n",
    "  train_acc, train_loss = train_epoch(\n",
    "    model,\n",
    "    train_data_loader,\n",
    "    loss_fn,\n",
    "    optimizer,\n",
    "    device,\n",
    "    scheduler,\n",
    "    len(df_train)\n",
    "  )\n",
    "\n",
    "  print(f'Train loss {train_loss} accuracy {train_acc}')\n",
    "\n",
    "  val_acc, val_loss, val_f1 = eval_model(\n",
    "    model,\n",
    "    val_data_loader,\n",
    "    loss_fn,\n",
    "    device,\n",
    "    len(df_val)\n",
    "  )\n",
    "\n",
    "  print(f'Val   loss {val_loss} accuracy {val_acc}')\n",
    "  print()\n",
    "\n",
    "  train_a.append(train_acc)\n",
    "  train_l.append(train_loss)\n",
    "  val_a.append(val_acc)\n",
    "  val_l.append(val_loss)\n",
    "\n",
    "  if val_acc > best_accuracy:\n",
    "    torch.save(model.state_dict(), 'bert_best_model_state.bin')\n",
    "    best_accuracy = val_acc"
   ]
  },
  {
   "cell_type": "code",
   "execution_count": 33,
   "metadata": {
    "executionInfo": {
     "elapsed": 51,
     "status": "ok",
     "timestamp": 1695329137842,
     "user": {
      "displayName": "m m",
      "userId": "12156804663229931259"
     },
     "user_tz": -360
    },
    "id": "FowMSU5U7SDQ",
    "tags": []
   },
   "outputs": [],
   "source": [
    "train_a = [i.item() for i in train_a]\n",
    "train_l = [i.item() for i in train_l]\n",
    "val_a = [i.item() for i in val_a]\n",
    "val_l = [i.item() for i in val_l]"
   ]
  },
  {
   "cell_type": "code",
   "execution_count": 34,
   "metadata": {
    "colab": {
     "base_uri": "https://localhost:8080/",
     "height": 480
    },
    "executionInfo": {
     "elapsed": 2888,
     "status": "ok",
     "timestamp": 1695329143450,
     "user": {
      "displayName": "m m",
      "userId": "12156804663229931259"
     },
     "user_tz": -360
    },
    "id": "aUQbxyTEAPhM",
    "outputId": "b103ca88-1886-4f16-ea21-5b966a08fe7c",
    "tags": []
   },
   "outputs": [
    {
     "data": {
      "image/png": "[encoded data removed]",
      "text/plain": [
       "<Figure size 640x480 with 1 Axes>"
      ]
     },
     "metadata": {},
     "output_type": "display_data"
    }
   ],
   "source": [
    "plt.plot(train_a, label='train accuracy')\n",
    "plt.plot(val_a, label='validation accuracy')\n",
    "\n",
    "plt.title('Training history')\n",
    "plt.ylabel('Accuracy')\n",
    "plt.xlabel('Epoch')\n",
    "plt.legend()\n",
    "plt.ylim([0, 1])\n",
    "plt.show()"
   ]
  },
  {
   "cell_type": "markdown",
   "metadata": {
    "id": "SbT4YzHFh1s7"
   },
   "source": [
    "Accuracy of Pos/Neg on Test Set"
   ]
  },
  {
   "cell_type": "code",
   "execution_count": 35,
   "metadata": {
    "colab": {
     "base_uri": "https://localhost:8080/"
    },
    "executionInfo": {
     "elapsed": 28664,
     "status": "ok",
     "timestamp": 1695329081374,
     "user": {
      "displayName": "m m",
      "userId": "12156804663229931259"
     },
     "user_tz": -360
    },
    "id": "L1ZzFERMAQk9",
    "outputId": "56411273-fc8c-476f-f660-21239bd321ad",
    "tags": []
   },
   "outputs": [
    {
     "name": "stdout",
     "output_type": "stream",
     "text": [
      "Accuracy:  0.8494\n",
      "F1-Macro:  0.8443936391180008\n"
     ]
    }
   ],
   "source": [
    "import numpy as np\n",
    "test_acc, _, test_f1 = eval_model(\n",
    "  model,\n",
    "  test_data_loader,\n",
    "  loss_fn,\n",
    "  device,\n",
    "  len(df_test)\n",
    ")\n",
    "\n",
    "\n",
    "print(\"Accuracy: \",test_acc.item())\n",
    "print(\"F1-Macro: \",test_f1.item())"
   ]
  },
  {
   "cell_type": "markdown",
   "metadata": {
    "id": "-Vexpkg79IXK"
   },
   "source": [
    "Scores Average of PP - Poisitve Scores on Positive Sentences\n",
    "                  PN - Poisitve Scores on Negative Sentences\n",
    "                  NP - Negative Scores on Positive Sentences\n",
    "                  NN - Negative Scores on Negative Sentences"
   ]
  },
  {
   "cell_type": "code",
   "execution_count": 36,
   "metadata": {
    "colab": {
     "base_uri": "https://localhost:8080/",
     "height": 605
    },
    "executionInfo": {
     "elapsed": 29278,
     "status": "ok",
     "timestamp": 1695329182045,
     "user": {
      "displayName": "m m",
      "userId": "12156804663229931259"
     },
     "user_tz": -360
    },
    "id": "zUrNTiUp8kPc",
    "outputId": "e99daa47-22f9-471e-97d4-245bf6f0b8ab",
    "tags": []
   },
   "outputs": [
    {
     "data": {
      "image/png": "[encoded data removed]",
      "text/plain": [
       "<Figure size 800x600 with 1 Axes>"
      ]
     },
     "metadata": {},
     "output_type": "display_data"
    }
   ],
   "source": [
    "pp,pn,np,nn = eval_scores_average(\n",
    "  model,\n",
    "  test_data_loader,\n",
    "  device,\n",
    ")\n",
    "\n",
    "box_plot(pp,pn,np,nn)"
   ]
  },
  {
   "cell_type": "markdown",
   "metadata": {
    "id": "uSAQhl1kh5jw"
   },
   "source": [
    "Accuracy of Emotions on Test Set"
   ]
  },
  {
   "cell_type": "code",
   "execution_count": 37,
   "metadata": {
    "executionInfo": {
     "elapsed": 8,
     "status": "ok",
     "timestamp": 1695329212064,
     "user": {
      "displayName": "m m",
      "userId": "12156804663229931259"
     },
     "user_tz": -360
    },
    "id": "d7DaFLMiAWps",
    "tags": []
   },
   "outputs": [],
   "source": [
    "def get_predictions(model, data_loader):\n",
    "  model = model.eval()\n",
    "\n",
    "  review = []\n",
    "  predictions = []\n",
    "\n",
    "  prediction_probs = []\n",
    "  real_values = []\n",
    "\n",
    "  pos_scores = []\n",
    "  neg_scores = []\n",
    "\n",
    "\n",
    "  with torch.no_grad():\n",
    "    for d in data_loader:\n",
    "\n",
    "      reviews = d[\"review\"]\n",
    "      input_ids = d[\"input_ids\"].to(device)\n",
    "      attention_mask = d[\"attention_mask\"].to(device)\n",
    "      sentiments = d[\"sentiments\"].to(device)\n",
    "\n",
    "\n",
    "      scores,outputs = model(\n",
    "        input_ids=input_ids,\n",
    "        attention_mask=attention_mask,\n",
    "        return_scores=True,\n",
    "      )\n",
    "      _, preds = torch.max(outputs, dim=1)\n",
    "\n",
    "\n",
    "      probs = F.softmax(outputs, dim=1)\n",
    "\n",
    "      review.extend(reviews)\n",
    "      predictions.extend(preds)\n",
    "\n",
    "      prediction_probs.extend(probs)\n",
    "      real_values.extend(sentiments)\n",
    "\n",
    "      pos_scores.extend(scores[0])\n",
    "      neg_scores.extend(scores[1])\n",
    "\n",
    "\n",
    "  predictions = torch.stack(predictions).cpu()\n",
    "\n",
    "  prediction_probs = torch.stack(prediction_probs).cpu()\n",
    "  real_values = torch.stack(real_values).cpu()\n",
    "    \n",
    "  pos_scores = torch.stack(pos_scores).cpu()\n",
    "  neg_scores = torch.stack(neg_scores).cpu()\n",
    "  return review, predictions, prediction_probs, real_values, pos_scores, neg_scores"
   ]
  },
  {
   "cell_type": "code",
   "execution_count": 38,
   "metadata": {
    "executionInfo": {
     "elapsed": 27254,
     "status": "ok",
     "timestamp": 1695329239311,
     "user": {
      "displayName": "m m",
      "userId": "12156804663229931259"
     },
     "user_tz": -360
    },
    "id": "kZhYtki1AYx8",
    "tags": []
   },
   "outputs": [],
   "source": [
    "y_review_texts, y_pred , y_pred_probs, y_test, pos_scores, neg_scores = get_predictions(\n",
    "  model,\n",
    "  test_data_loader\n",
    ")"
   ]
  },
  {
   "cell_type": "code",
   "execution_count": 39,
   "metadata": {
    "executionInfo": {
     "elapsed": 9,
     "status": "ok",
     "timestamp": 1695329239312,
     "user": {
      "displayName": "m m",
      "userId": "12156804663229931259"
     },
     "user_tz": -360
    },
    "id": "mO1FHn0GAbCU",
    "tags": []
   },
   "outputs": [],
   "source": [
    "from sklearn.metrics import classification_report\n",
    "from sklearn.metrics import confusion_matrix\n",
    "class_names = ['negative', 'positive']"
   ]
  },
  {
   "cell_type": "markdown",
   "metadata": {
    "id": "PnBSQFJuh_As"
   },
   "source": [
    "Pos/Neg Classification Report"
   ]
  },
  {
   "cell_type": "code",
   "execution_count": 40,
   "metadata": {
    "colab": {
     "base_uri": "https://localhost:8080/"
    },
    "executionInfo": {
     "elapsed": 9,
     "status": "ok",
     "timestamp": 1695329239312,
     "user": {
      "displayName": "m m",
      "userId": "12156804663229931259"
     },
     "user_tz": -360
    },
    "id": "J9-01snpAcM8",
    "outputId": "4d6f7fff-9a14-49bf-c847-d2e8ba79f5f7",
    "tags": []
   },
   "outputs": [
    {
     "name": "stdout",
     "output_type": "stream",
     "text": [
      "              precision    recall  f1-score   support\n",
      "\n",
      "    negative       0.83      0.88      0.85      2511\n",
      "    positive       0.87      0.82      0.84      2489\n",
      "\n",
      "    accuracy                           0.85      5000\n",
      "   macro avg       0.85      0.85      0.85      5000\n",
      "weighted avg       0.85      0.85      0.85      5000\n",
      "\n"
     ]
    }
   ],
   "source": [
    "print(classification_report(y_test, y_pred, target_names=class_names))"
   ]
  },
  {
   "cell_type": "markdown",
   "metadata": {
    "id": "GhTpYmfdiF-P"
   },
   "source": [
    "Reverse Native Injection Accuracy"
   ]
  },
  {
   "cell_type": "code",
   "execution_count": 41,
   "metadata": {
    "colab": {
     "base_uri": "https://localhost:8080/"
    },
    "executionInfo": {
     "elapsed": 30105,
     "status": "ok",
     "timestamp": 1695329269413,
     "user": {
      "displayName": "m m",
      "userId": "12156804663229931259"
     },
     "user_tz": -360
    },
    "id": "pOutPTF6qJY8",
    "outputId": "a034fc7e-f3ae-44e3-9bd9-2c416c5b45b3",
    "tags": []
   },
   "outputs": [
    {
     "name": "stdout",
     "output_type": "stream",
     "text": [
      "Accuracy:  0.1506\n",
      "F1-Macro:  0.1466251959518551\n"
     ]
    }
   ],
   "source": [
    "import numpy as np\n",
    "p_emb, n_emb = n_emb, p_emb\n",
    "\n",
    "\n",
    "test_acc, _, test_f1 = eval_model(\n",
    "  model,\n",
    "  test_data_loader,\n",
    "  loss_fn,\n",
    "  device,\n",
    "  len(df_test)\n",
    ")\n",
    "\n",
    "print(\"Accuracy: \",test_acc.item())\n",
    "print(\"F1-Macro: \",test_f1.item())"
   ]
  },
  {
   "cell_type": "code",
   "execution_count": 42,
   "metadata": {
    "colab": {
     "base_uri": "https://localhost:8080/",
     "height": 605
    },
    "executionInfo": {
     "elapsed": 28733,
     "status": "ok",
     "timestamp": 1695329298142,
     "user": {
      "displayName": "m m",
      "userId": "12156804663229931259"
     },
     "user_tz": -360
    },
    "id": "F25gPUqgvw0w",
    "outputId": "747d6857-a67e-4f00-f9a9-fea35eee0d06",
    "tags": []
   },
   "outputs": [
    {
     "data": {
      "image/png": "[encoded data removed]",
      "text/plain": [
       "<Figure size 800x600 with 1 Axes>"
      ]
     },
     "metadata": {},
     "output_type": "display_data"
    }
   ],
   "source": [
    "pp,pn,np,nn = eval_scores_average(\n",
    "  model,\n",
    "  test_data_loader,\n",
    "  device,\n",
    ")\n",
    "\n",
    "box_plot(pp,pn,np,nn)"
   ]
  },
  {
   "cell_type": "markdown",
   "metadata": {
    "id": "3NU7ySjLiPKH"
   },
   "source": [
    "Foreign Injection Accuracy"
   ]
  },
  {
   "cell_type": "code",
   "execution_count": 43,
   "metadata": {
    "colab": {
     "base_uri": "https://localhost:8080/"
    },
    "executionInfo": {
     "elapsed": 27580,
     "status": "ok",
     "timestamp": 1695329325716,
     "user": {
      "displayName": "m m",
      "userId": "12156804663229931259"
     },
     "user_tz": -360
    },
    "id": "zlbzZWECocpp",
    "outputId": "27337f4e-b8c6-4b92-a088-77f03f0ccd93",
    "tags": []
   },
   "outputs": [
    {
     "name": "stdout",
     "output_type": "stream",
     "text": [
      "Accuracy:  0.7982\n",
      "F1-Macro:  0.7927509900641921\n"
     ]
    }
   ],
   "source": [
    "import numpy as np\n",
    "\n",
    "\n",
    "\n",
    "p_emb = torch.tensor([[1.]*config.hidden_size]).to(device)\n",
    "n_emb = torch.tensor([[1.]*config.hidden_size]).to(device)\n",
    "\n",
    "for i in new_positive_word_meaning_sentences:\n",
    "  p_emb = torch.cat((p_emb,get_cls(i).unsqueeze(dim=0)), dim=0)\n",
    "\n",
    "for i in new_negative_word_meaning_sentences:\n",
    "  n_emb = torch.cat((n_emb,get_cls(i).unsqueeze(dim=0)), dim=0)\n",
    "\n",
    "p_emb = p_emb[1:]\n",
    "n_emb = n_emb[1:]\n",
    "\n",
    "test_acc, _, test_f1 = eval_model(\n",
    "  model,\n",
    "  test_data_loader,\n",
    "  loss_fn,\n",
    "  device,\n",
    "  len(df_test)\n",
    ")\n",
    "\n",
    "print(\"Accuracy: \",test_acc.item())\n",
    "print(\"F1-Macro: \",test_f1.item())"
   ]
  },
  {
   "cell_type": "code",
   "execution_count": 44,
   "metadata": {
    "colab": {
     "base_uri": "https://localhost:8080/",
     "height": 605
    },
    "executionInfo": {
     "elapsed": 29037,
     "status": "ok",
     "timestamp": 1695329354749,
     "user": {
      "displayName": "m m",
      "userId": "12156804663229931259"
     },
     "user_tz": -360
    },
    "id": "DGrasP1mxQrD",
    "outputId": "87f1fe38-fe1b-4d6c-bf39-3c3e36c56fae",
    "tags": []
   },
   "outputs": [
    {
     "data": {
      "image/png": "[encoded data removed]",
      "text/plain": [
       "<Figure size 800x600 with 1 Axes>"
      ]
     },
     "metadata": {},
     "output_type": "display_data"
    }
   ],
   "source": [
    "pp,pn,np,nn = eval_scores_average(\n",
    "  model,\n",
    "  test_data_loader,\n",
    "  device,\n",
    ")\n",
    "\n",
    "box_plot(pp,pn,np,nn)"
   ]
  },
  {
   "cell_type": "code",
   "execution_count": 57,
   "metadata": {
    "id": "K-QhJy24rDkl",
    "tags": []
   },
   "outputs": [],
   "source": [
    "from parrot import Parrot\n",
    "import torch\n",
    "import warnings\n",
    "warnings.filterwarnings(\"ignore\")\n",
    "\n",
    "\n",
    "def random_state(seed):\n",
    "  torch.manual_seed(seed)\n",
    "  if torch.cuda.is_available():\n",
    "    torch.cuda.manual_seed_all(seed)\n",
    "\n",
    "random_state(1234)\n",
    "\n",
    "parrot = Parrot(model_tag=\"prithivida/parrot_paraphraser_on_T5\")\n",
    "clear_output()"
   ]
  },
  {
   "cell_type": "code",
   "execution_count": 46,
   "metadata": {
    "executionInfo": {
     "elapsed": 16,
     "status": "ok",
     "timestamp": 1695329438385,
     "user": {
      "displayName": "m m",
      "userId": "12156804663229931259"
     },
     "user_tz": -360
    },
    "id": "Ppy-K6l2gWtd",
    "tags": []
   },
   "outputs": [],
   "source": [
    "from IPython.display import clear_output"
   ]
  },
  {
   "cell_type": "code",
   "execution_count": 93,
   "metadata": {
    "tags": []
   },
   "outputs": [
    {
     "data": {
      "text/plain": [
       "20"
      ]
     },
     "execution_count": 93,
     "metadata": {},
     "output_type": "execute_result"
    }
   ],
   "source": [
    "new_positive_word_meaning_sentences = ['an acknowledgement or a public welcome',\n",
    " 'true to the point',\n",
    " 'including new and interesting things, methods and ideas',\n",
    " \"it's surprising\",\n",
    " 'known to be real and what somebody claims it is and not a copy',\n",
    " 'beauty delights the senses or the mind',\n",
    " \"to make someone quiet and more relaxed especially when there's intense emotion or excitement\",\n",
    " 'pleasant and easily remembered',\n",
    " 'the personal power of a person to attract and impress other people',\n",
    " '(of a person or their behaviour) happy and cheerful',\n",
    " '(of ideas, thoughts, arguments, etc.) logical and well organized; easy to understand and clear',\n",
    " 'having a useful and helpful effect rather than being negative or with no purpose',\n",
    " 'used to show that you admire or approve of somebody/something because they are/it is fashionable, attractive and often different',\n",
    " 'attractive and pretty',\n",
    " 'brave enough to do something dangerous or unusual involving danger or taking risks',\n",
    " 'allow yourself to use language and express your views well especially when speaking in public',\n",
    " 'feeling excitement or showing an interest about someone  something',\n",
    " 'without flaws and therefore perfect',\n",
    " 'funny with a sense of humor',\n",
    " 'providing exciting new ideas; making somebody want to create something, especially in art, literature or music' \n",
    " ]\n",
    "\n",
    "len(new_positive_word_meaning_sentences)"
   ]
  },
  {
   "cell_type": "code",
   "execution_count": 94,
   "metadata": {
    "tags": []
   },
   "outputs": [
    {
     "data": {
      "text/plain": [
       "20"
      ]
     },
     "execution_count": 94,
     "metadata": {},
     "output_type": "execute_result"
    }
   ],
   "source": [
    "new_negative_word_meaning_sentences = ['that can be understood in more than one way; having different meanings',\n",
    " 'having strong feelings about something you really dislike or an unfair situation',\n",
    " 'making somebody feel slightly angry',\n",
    " 'extremely bad, especially from a moral point of view',\n",
    " 'very bad or uncomfortable',\n",
    " 'cruel and violent and not what one wants from people who suss out education and respect each other',\n",
    " 'very strange or unusual',\n",
    " '(of behaviour or language) showing a lack of respect for God or religion',\n",
    " 'stupid; not able to think or talk in an intelligent way',\n",
    " 'without any order; in a completely confused state',\n",
    " 'containing or showing a lack of agreement between statements, facts, opinions or actions',\n",
    " 'public discussion and argument about something that many people strongly disagree about, think is bad, or are shocked by',\n",
    " 'to feel very embarrassed about something',\n",
    " 'a desire to cause psychological or physical pain',\n",
    " \"treating someone as if they don't have any value so that they lose their self-respect and respect for other people\",\n",
    " 'mentally ill particularly because of very unpleasant or extremely unhappy experiences',\n",
    " 'not doing well',\n",
    " 'not what somebody claims it is; appearing to be something it is not',\n",
    " \"a strange trick or unnecessary device that's meant to appeal to people or to get them to buy something\",\n",
    " 'very unfriendly or unpleasant'\n",
    " ]\n",
    "\n",
    "len(new_negative_word_meaning_sentences)"
   ]
  },
  {
   "cell_type": "code",
   "execution_count": 95,
   "metadata": {
    "executionInfo": {
     "elapsed": 38794,
     "status": "ok",
     "timestamp": 1695329477164,
     "user": {
      "displayName": "m m",
      "userId": "12156804663229931259"
     },
     "user_tz": -360
    },
    "id": "_OCeDQY6gHMj",
    "tags": []
   },
   "outputs": [
    {
     "data": {
      "text/plain": [
       "'\\nnew_positive_word_meaning_sentences = []\\n\\nfor i in positive_word_meaning_sentences:\\n  print(i)\\n  para_phrases = parrot.augment(input_phrase=i, max_return_phrases = 10)\\n  temp = list(list(zip(*para_phrases))[0])[0]\\n  new_positive_word_meaning_sentences.append(temp)\\n\\n\\nnew_negative_word_meaning_sentences = []\\n\\nfor i in negative_word_meaning_sentences:\\n  print(i)\\n  para_phrases = parrot.augment(input_phrase=i, max_return_phrases = 10)\\n  temp = list(list(zip(*para_phrases))[0])[0]\\n  new_negative_word_meaning_sentences.append(temp)\\n\\nclear_output()\\n'"
      ]
     },
     "execution_count": 95,
     "metadata": {},
     "output_type": "execute_result"
    }
   ],
   "source": [
    "'''\n",
    "new_positive_word_meaning_sentences = []\n",
    "\n",
    "for i in positive_word_meaning_sentences:\n",
    "  print(i)\n",
    "  para_phrases = parrot.augment(input_phrase=i, max_return_phrases = 10)\n",
    "  temp = list(list(zip(*para_phrases))[0])[0]\n",
    "  new_positive_word_meaning_sentences.append(temp)\n",
    "\n",
    "\n",
    "new_negative_word_meaning_sentences = []\n",
    "\n",
    "for i in negative_word_meaning_sentences:\n",
    "  print(i)\n",
    "  para_phrases = parrot.augment(input_phrase=i, max_return_phrases = 10)\n",
    "  temp = list(list(zip(*para_phrases))[0])[0]\n",
    "  new_negative_word_meaning_sentences.append(temp)\n",
    "\n",
    "clear_output()\n",
    "'''\n"
   ]
  },
  {
   "cell_type": "markdown",
   "metadata": {
    "id": "oEdEBFPQiasC"
   },
   "source": [
    "Paraphrased Native Injection Accuracy"
   ]
  },
  {
   "cell_type": "code",
   "execution_count": 96,
   "metadata": {
    "colab": {
     "base_uri": "https://localhost:8080/"
    },
    "executionInfo": {
     "elapsed": 30045,
     "status": "ok",
     "timestamp": 1695329507205,
     "user": {
      "displayName": "m m",
      "userId": "12156804663229931259"
     },
     "user_tz": -360
    },
    "id": "uEuhYVF-gMqC",
    "outputId": "3c4d554a-9320-4704-990c-0a6f0b392083",
    "tags": []
   },
   "outputs": [
    {
     "name": "stdout",
     "output_type": "stream",
     "text": [
      "Accuracy:  0.8512000000000001\n",
      "F1-Macro:  0.8462264065177272\n"
     ]
    }
   ],
   "source": [
    "import numpy as np\n",
    "p_emb = torch.tensor([[1.]*config.hidden_size]).to(device)\n",
    "n_emb = torch.tensor([[1.]*config.hidden_size]).to(device)\n",
    "\n",
    "for i in new_positive_word_meaning_sentences:\n",
    "  p_emb = torch.cat((p_emb,get_cls(i).unsqueeze(dim=0)), dim=0)\n",
    "\n",
    "for i in new_negative_word_meaning_sentences:\n",
    "  n_emb = torch.cat((n_emb,get_cls(i).unsqueeze(dim=0)), dim=0)\n",
    "\n",
    "p_emb = p_emb[1:]\n",
    "n_emb = n_emb[1:]\n",
    "\n",
    "test_acc, _, test_f1 = eval_model(\n",
    "  model,\n",
    "  test_data_loader,\n",
    "  loss_fn,\n",
    "  device,\n",
    "  len(df_test)\n",
    ")\n",
    "\n",
    "\n",
    "\n",
    "print(\"Accuracy: \",test_acc.item())\n",
    "print(\"F1-Macro: \",test_f1.item())"
   ]
  },
  {
   "cell_type": "code",
   "execution_count": 32,
   "metadata": {
    "tags": []
   },
   "outputs": [
    {
     "data": {
      "text/plain": [
       "<All keys matched successfully>"
      ]
     },
     "execution_count": 32,
     "metadata": {},
     "output_type": "execute_result"
    }
   ],
   "source": [
    "model.load_state_dict(torch.load('/home/m_nsu/ICLR/bert_best_model_state.bin'))"
   ]
  },
  {
   "cell_type": "code",
   "execution_count": 33,
   "metadata": {
    "executionInfo": {
     "elapsed": 13,
     "status": "ok",
     "timestamp": 1695329507206,
     "user": {
      "displayName": "m m",
      "userId": "12156804663229931259"
     },
     "user_tz": -360
    },
    "id": "2qBYfr3zgvAs",
    "tags": []
   },
   "outputs": [],
   "source": [
    "import random\n",
    "random.seed(42)\n",
    "\n",
    "inputNumbers = range(0,10000)\n",
    "random_seeds = random.sample(inputNumbers, 300)"
   ]
  },
  {
   "cell_type": "code",
   "execution_count": 34,
   "metadata": {
    "executionInfo": {
     "elapsed": 11,
     "status": "ok",
     "timestamp": 1695329507206,
     "user": {
      "displayName": "m m",
      "userId": "12156804663229931259"
     },
     "user_tz": -360
    },
    "id": "nysMxY5myqsd",
    "tags": []
   },
   "outputs": [],
   "source": [
    "import numpy as np"
   ]
  },
  {
   "cell_type": "code",
   "execution_count": 35,
   "metadata": {
    "colab": {
     "base_uri": "https://localhost:8080/"
    },
    "id": "JuMwkV_v4GvV",
    "outputId": "24e92f01-d79f-4514-f879-14a50b1f8477",
    "tags": []
   },
   "outputs": [
    {
     "name": "stdout",
     "output_type": "stream",
     "text": [
      "Working ... ... ... ... ... ... ... ... ... ... ... ... ... ... ... ... ... ... ... ... ... ... ... ... ... ... ... ... ... ... ... ... ... ... ... ... ... ... ... ... ... ... ... ... ... ... ... ... ... ... ... ... ... ... ... ... ... ... ... ... ... ... ... ... ... ... ... ... ... ... ... ... ... ... ... ... ... ... ... ... ... ... ... ... ... ... ... ... ... ... ... ... ... ... ... ... ... ... ... ... ... ... ... ... ... ... ... ... ... ... ... ... ... ... ... ... ... ... ... ... ... ... ... ... ... ... ... ... ... ... ... ... ... ... ... ... ... ... ... ... ... ... ... ... ... ... ... ... ... ... ... ... ... ... ... ... ... ... ... ... ... ... ... ... ... ... ... ... ... ... ... ... ... ... ... ... ... ... ... ... ... ... ... ... ... ... ... ... ... ... ... ... ... ... ... ... ... ... ... ... ... ... ... ... ... ... ... ... ... ... ... ... ... ... ... ... ... ... ... ... ... ... ... ... ... ... ... ... ... ... ... ... ... ... ... ... ... ... ... ... ... ... ... ... ... ... ... ... ... ... ... ... ... ... ... ... ... ... ... ... ... ... ... ... ... ... ... ... ... ... ... ... ... ... ... ... ... ... ... ... ... ... ... ... ... ... ... ... ... ... ... ... ... ... ... ... ... ... "
     ]
    }
   ],
   "source": [
    "f1s = []\n",
    "accuracy = []\n",
    "p_word_list = []\n",
    "n_word_list = []\n",
    "\n",
    "print(\"Working\", end=' ')\n",
    "for i in range(300):\n",
    "    #SELECT RANDOM WORDS FROM NEUTRAL SENTIWORD\n",
    "    df_neutral = df_senti[df_senti['Sentiment']=='Neutral'].sample(n=20, random_state=random_seeds[i])\n",
    "    neutral_words = list(df_neutral[\"Word\"])\n",
    "\n",
    "    #FETCH DEFINITIONS OF THOSE WORDS\n",
    "    neutral_word_meaning_sentences = []\n",
    "    for i in neutral_words:\n",
    "        a = list(df_senti.loc[df_senti['Word'] == i, 'Definition'])[0]\n",
    "        neutral_word_meaning_sentences.append(a)\n",
    "\n",
    "    #MAKE EMBEDDING OF THESE DEFINITIONS\n",
    "    neutral_p_emb = torch.tensor([[1.]*config.hidden_size]).to(device)\n",
    "    neutral_n_emb = torch.tensor([[1.]*config.hidden_size]).to(device)\n",
    "\n",
    "\n",
    "    for i in neutral_word_meaning_sentences[0:10]:\n",
    "      neutral_p_emb = torch.cat((neutral_p_emb,get_cls(i).unsqueeze(0)), dim=0)\n",
    "\n",
    "    for i in neutral_word_meaning_sentences[10:20]:\n",
    "      neutral_n_emb = torch.cat((neutral_n_emb,get_cls(i).unsqueeze(0)), dim=0)\n",
    "\n",
    "    p_emb = neutral_p_emb[1:]\n",
    "    n_emb = neutral_n_emb[1:]\n",
    "\n",
    "    print('...', end=' ')\n",
    "\n",
    "    p_samples = neutral_words[0:10]\n",
    "    n_samples = neutral_words[10:20]\n",
    "\n",
    "    #EVALUATE ON THESE WORDS\n",
    "    test_acc,_, test_f1 = eval_model(\n",
    "      model,\n",
    "      test_data_loader,\n",
    "      loss_fn,\n",
    "      device,\n",
    "      len(df_test),\n",
    "    )\n",
    "\n",
    "    accuracy.append(test_acc.item())\n",
    "    f1s.append(test_f1.item())\n",
    "    p_word_list.append(p_samples)\n",
    "    n_word_list.append(n_samples)\n"
   ]
  },
  {
   "cell_type": "code",
   "execution_count": 36,
   "metadata": {
    "executionInfo": {
     "elapsed": 13,
     "status": "ok",
     "timestamp": 1695379584055,
     "user": {
      "displayName": "m m",
      "userId": "12156804663229931259"
     },
     "user_tz": -360
    },
    "id": "36UtUdOcDjLK",
    "tags": []
   },
   "outputs": [],
   "source": [
    "import statistics"
   ]
  },
  {
   "cell_type": "code",
   "execution_count": 37,
   "metadata": {
    "colab": {
     "base_uri": "https://localhost:8080/",
     "height": 245
    },
    "executionInfo": {
     "elapsed": 13,
     "status": "error",
     "timestamp": 1695379584056,
     "user": {
      "displayName": "m m",
      "userId": "12156804663229931259"
     },
     "user_tz": -360
    },
    "id": "N_1_hH8S4Hit",
    "outputId": "85d5684e-8de1-402e-9386-f53b050bd477",
    "tags": []
   },
   "outputs": [],
   "source": [
    "stdv = statistics.pstdev(f1s)\n",
    "median = statistics.median(f1s)\n",
    "#filters = [i>median+(2*stdv) for i in f1s]\n",
    "filters = [i>.7 for i in f1s]\n",
    "def filter_2std(target_list, filters):\n",
    "    index = [i for i in range(len(filters)) if filters[i]]\n",
    "    list_a_filtered = [target_list[i] for i in index]\n",
    "    return list_a_filtered\n",
    "\n",
    "p_words_spurious = filter_2std(p_word_list,filters)\n",
    "n_words_spurious = filter_2std(n_word_list,filters)\n",
    "\n",
    "#print(p_words_spurious)\n",
    "#print(n_words_spurious)"
   ]
  },
  {
   "cell_type": "markdown",
   "metadata": {
    "id": "6l78c6yoikRS"
   },
   "source": [
    "Neutral Injection Accuracies"
   ]
  },
  {
   "cell_type": "code",
   "execution_count": 38,
   "metadata": {
    "executionInfo": {
     "elapsed": 19,
     "status": "ok",
     "timestamp": 1695379585268,
     "user": {
      "displayName": "m m",
      "userId": "12156804663229931259"
     },
     "user_tz": -360
    },
    "id": "mmW3cTd4o6Hb",
    "tags": []
   },
   "outputs": [],
   "source": [
    "import numpy as np"
   ]
  },
  {
   "cell_type": "code",
   "execution_count": 39,
   "metadata": {
    "colab": {
     "base_uri": "https://localhost:8080/",
     "height": 175
    },
    "executionInfo": {
     "elapsed": 17,
     "status": "error",
     "timestamp": 1695379585269,
     "user": {
      "displayName": "m m",
      "userId": "12156804663229931259"
     },
     "user_tz": -360
    },
    "id": "_sc9N6PqFDAF",
    "outputId": "86645206-6fd6-4dcd-eb48-1555f0dcda27",
    "tags": []
   },
   "outputs": [],
   "source": [
    "(hist, bin_edges) = np.histogram(f1s,bins=15)"
   ]
  },
  {
   "cell_type": "code",
   "execution_count": 48,
   "metadata": {
    "executionInfo": {
     "elapsed": 15,
     "status": "aborted",
     "timestamp": 1695379585271,
     "user": {
      "displayName": "m m",
      "userId": "12156804663229931259"
     },
     "user_tz": -360
    },
    "id": "uMGPmojj4SeF",
    "tags": []
   },
   "outputs": [
    {
     "data": {
      "image/png": "[encoded data removed]",
      "text/plain": [
       "<Figure size 640x480 with 1 Axes>"
      ]
     },
     "metadata": {},
     "output_type": "display_data"
    }
   ],
   "source": [
    "plt.hist(f1s, bins=15,facecolor = '#008080', edgecolor='#000000', linewidth=0.5)\n",
    "\n",
    "\n",
    "vertical_line_position = 0.846  # Change this to the desired position\n",
    "plt.axvline(x=vertical_line_position, color='r', linestyle='--', label='Vne')\n",
    "plt.text(x=vertical_line_position,y=max(hist),s='Native',ha='left', va='bottom')\n",
    "\n",
    "\n",
    "    \n",
    "plt.xlabel(\"F1-Macro\")\n",
    "plt.ylabel(\"frequency\")\n",
    "\n",
    "#plt.title(\"bert-base\")\n",
    "plt.show()"
   ]
  },
  {
   "cell_type": "code",
   "execution_count": 42,
   "metadata": {
    "tags": []
   },
   "outputs": [],
   "source": [
    "'''\n",
    "df_randomization_test = pd.DataFrame(list(zip(f1s, accuracy,p_word_list,n_word_list)),\n",
    "               columns =['f1s', 'accuracy','p_word_list','n_word_list'])\n",
    "df_randomization_test.to_csv('bert_imdb_randomizationtest.csv')\n",
    "'''"
   ]
  },
  {
   "cell_type": "code",
   "execution_count": 49,
   "metadata": {
    "tags": []
   },
   "outputs": [],
   "source": [
    "df_neutral = df_senti[df_senti['Sentiment']=='Neutral'].sample(n=20, random_state=random_seeds[16])\n",
    "neutral_words = list(df_neutral[\"Word\"])\n",
    "\n",
    "#FETCH DEFINITIONS OF THOSE WORDS\n",
    "neutral_word_meaning_sentences = []\n",
    "for i in neutral_words:\n",
    "    a = list(df_senti.loc[df_senti['Word'] == i, 'Definition'])[0]\n",
    "    neutral_word_meaning_sentences.append(a)"
   ]
  },
  {
   "cell_type": "code",
   "execution_count": 50,
   "metadata": {
    "executionInfo": {
     "elapsed": 33,
     "status": "aborted",
     "timestamp": 1695329093833,
     "user": {
      "displayName": "m m",
      "userId": "12156804663229931259"
     },
     "user_tz": -360
    },
    "id": "-nnwzm980k1q",
    "tags": []
   },
   "outputs": [
    {
     "name": "stdout",
     "output_type": "stream",
     "text": [
      "Accuracy:  0.5936\n",
      "F1-Macro:  0.5823088393032435\n"
     ]
    }
   ],
   "source": [
    "import numpy as np\n",
    "p_emb = torch.tensor([[1.]*config.hidden_size]).to(device)\n",
    "n_emb = torch.tensor([[1.]*config.hidden_size]).to(device)\n",
    "\n",
    "for i in neutral_word_meaning_sentences[0:10]:\n",
    "  p_emb = torch.cat((p_emb,get_cls(i).unsqueeze(dim=0)), dim=0)\n",
    "\n",
    "for i in neutral_word_meaning_sentences[10:20]:\n",
    "  n_emb = torch.cat((n_emb,get_cls(i).unsqueeze(dim=0)), dim=0)\n",
    "\n",
    "p_emb = p_emb[1:]\n",
    "n_emb = n_emb[1:]\n",
    "\n",
    "test_acc, _, test_f1 = eval_model(\n",
    "  model,\n",
    "  test_data_loader,\n",
    "  loss_fn,\n",
    "  device,\n",
    "  len(df_test)\n",
    ")\n",
    "\n",
    "\n",
    "print(\"Accuracy: \",test_acc.item())\n",
    "print(\"F1-Macro: \",test_f1.item())"
   ]
  },
  {
   "cell_type": "code",
   "execution_count": 51,
   "metadata": {
    "executionInfo": {
     "elapsed": 32,
     "status": "aborted",
     "timestamp": 1695329093833,
     "user": {
      "displayName": "m m",
      "userId": "12156804663229931259"
     },
     "user_tz": -360
    },
    "id": "7cdh2kXd0-Zb",
    "tags": []
   },
   "outputs": [
    {
     "data": {
      "image/png": "[encoded data removed]",
      "text/plain": [
       "<Figure size 800x600 with 1 Axes>"
      ]
     },
     "metadata": {},
     "output_type": "display_data"
    }
   ],
   "source": [
    "pp,pn,np,nn = eval_scores_average(\n",
    "  model,\n",
    "  test_data_loader,\n",
    "  device,\n",
    ")\n",
    "\n",
    "box_plot(pp,pn,np,nn)"
   ]
  },
  {
   "cell_type": "code",
   "execution_count": 56,
   "metadata": {
    "executionInfo": {
     "elapsed": 32,
     "status": "aborted",
     "timestamp": 1695329093833,
     "user": {
      "displayName": "m m",
      "userId": "12156804663229931259"
     },
     "user_tz": -360
    },
    "id": "1MTPlFIVEd6y",
    "tags": []
   },
   "outputs": [],
   "source": [
    "max_f1_index = 0"
   ]
  },
  {
   "cell_type": "code",
   "execution_count": 57,
   "metadata": {
    "executionInfo": {
     "elapsed": 32,
     "status": "aborted",
     "timestamp": 1695329093834,
     "user": {
      "displayName": "m m",
      "userId": "12156804663229931259"
     },
     "user_tz": -360
    },
    "id": "J3ymzSst9jH9",
    "tags": []
   },
   "outputs": [],
   "source": [
    "p_spurious_sentences = [list(df_senti[df_senti['Word'] == i]['Definition'])[0] for i in p_words_spurious[max_f1_index]]\n",
    "n_spurious_sentences = [list(df_senti[df_senti['Word'] == i]['Definition'])[0] for i in n_words_spurious[max_f1_index]]"
   ]
  },
  {
   "cell_type": "code",
   "execution_count": 58,
   "metadata": {
    "executionInfo": {
     "elapsed": 32,
     "status": "aborted",
     "timestamp": 1695329093834,
     "user": {
      "displayName": "m m",
      "userId": "12156804663229931259"
     },
     "user_tz": -360
    },
    "id": "AoDiCBpM6glm",
    "tags": []
   },
   "outputs": [
    {
     "name": "stdout",
     "output_type": "stream",
     "text": [
      "Accuracy:  0.7806000000000001\n",
      "F1-Macro:  0.7696040079285819\n"
     ]
    },
    {
     "data": {
      "image/png": "[encoded data removed]",
      "text/plain": [
       "<Figure size 800x600 with 1 Axes>"
      ]
     },
     "metadata": {},
     "output_type": "display_data"
    }
   ],
   "source": [
    "import numpy as np\n",
    "p_emb = torch.tensor([[1.]*config.hidden_size]).to(device)\n",
    "n_emb = torch.tensor([[1.]*config.hidden_size]).to(device)\n",
    "\n",
    "for i in p_spurious_sentences:\n",
    "  p_emb = torch.cat((p_emb,get_cls(i).unsqueeze(dim=0)), dim=0)\n",
    "\n",
    "for i in n_spurious_sentences:\n",
    "  n_emb = torch.cat((n_emb,get_cls(i).unsqueeze(dim=0)), dim=0)\n",
    "\n",
    "p_emb = p_emb[1:]\n",
    "n_emb = n_emb[1:]\n",
    "\n",
    "test_acc, _, test_f1 = eval_model(\n",
    "  model,\n",
    "  test_data_loader,\n",
    "  loss_fn,\n",
    "  device,\n",
    "  len(df_test)\n",
    ")\n",
    "\n",
    "print(\"Accuracy: \",test_acc.item())\n",
    "print(\"F1-Macro: \",test_f1.item())\n",
    "\n",
    "\n",
    "pp,pn,np,nn = eval_scores_average(\n",
    "  model,\n",
    "  test_data_loader,\n",
    "  device,\n",
    ")\n",
    "\n",
    "box_plot(pp,pn,np,nn)"
   ]
  },
  {
   "cell_type": "code",
   "execution_count": 59,
   "metadata": {
    "executionInfo": {
     "elapsed": 32,
     "status": "aborted",
     "timestamp": 1695329093835,
     "user": {
      "displayName": "m m",
      "userId": "12156804663229931259"
     },
     "user_tz": -360
    },
    "id": "t-1o_fPd_MEy",
    "tags": []
   },
   "outputs": [
    {
     "data": {
      "text/plain": [
       "['habit',\n",
       " 'calcium_hypochlorite',\n",
       " 'providence capital_of_rhode_island',\n",
       " 'phonogramic',\n",
       " 'going_under foundering',\n",
       " 'instill instil',\n",
       " 'bit',\n",
       " 'baltic-finnic',\n",
       " 'bank_of_japan',\n",
       " 'silver flatware']"
      ]
     },
     "execution_count": 59,
     "metadata": {},
     "output_type": "execute_result"
    }
   ],
   "source": [
    "n_words_spurious[0]"
   ]
  },
  {
   "cell_type": "code",
   "execution_count": 60,
   "metadata": {
    "executionInfo": {
     "elapsed": 33,
     "status": "aborted",
     "timestamp": 1695329093836,
     "user": {
      "displayName": "m m",
      "userId": "12156804663229931259"
     },
     "user_tz": -360
    },
    "id": "lvMoMpyEXQVt",
    "tags": []
   },
   "outputs": [
    {
     "data": {
      "text/plain": [
       "['skipper captain',\n",
       " 'tuareg',\n",
       " 'deploy',\n",
       " 'wavy-leaved_aster',\n",
       " \"white_dogtooth_violet white_dog's-tooth_violet erythronium_albidum blonde_lilian\",\n",
       " 'focal_infection',\n",
       " 'demotic_script demotic',\n",
       " 'magnus_hitch',\n",
       " 'bath_mat',\n",
       " 'use']"
      ]
     },
     "execution_count": 60,
     "metadata": {},
     "output_type": "execute_result"
    }
   ],
   "source": [
    "p_words_spurious[0]"
   ]
  },
  {
   "cell_type": "markdown",
   "metadata": {
    "id": "aUzQP5etB1qH"
   },
   "source": [
    "Using Bias categories to test if they are neutral or not"
   ]
  },
  {
   "cell_type": "code",
   "execution_count": 61,
   "metadata": {
    "executionInfo": {
     "elapsed": 32,
     "status": "aborted",
     "timestamp": 1695329093836,
     "user": {
      "displayName": "m m",
      "userId": "12156804663229931259"
     },
     "user_tz": -360
    },
    "id": "M4c1i-jEnOia",
    "tags": []
   },
   "outputs": [],
   "source": [
    "import os, sys\n",
    "\n",
    "filenames = []\n",
    "\n",
    "path = \"/home/m_nsu/ICLR/Datasets/GoEmotion/bias_criterias\"\n",
    "dir = os.listdir( path )\n",
    "\n",
    "for file in dir:\n",
    "   if(file.endswith('.csv')):\n",
    "    filenames.append(file)"
   ]
  },
  {
   "cell_type": "code",
   "execution_count": 62,
   "metadata": {
    "executionInfo": {
     "elapsed": 32,
     "status": "aborted",
     "timestamp": 1695329093836,
     "user": {
      "displayName": "m m",
      "userId": "12156804663229931259"
     },
     "user_tz": -360
    },
    "id": "uAcBqk9LpYds",
    "tags": []
   },
   "outputs": [
    {
     "name": "stdout",
     "output_type": "stream",
     "text": [
      "Advocate.csv is Positively Spurious.\n",
      "Positive Acc: 0.832462037671474 \n",
      "Negative Acc: 0.148456520230875\n",
      "------------------------------------------------------------------------\n",
      "Dialogue.csv is Positively Spurious.\n",
      "Positive Acc: 0.8463753931244277 \n",
      "Negative Acc: 0.14868128011221735\n",
      "------------------------------------------------------------------------\n",
      "Indian.csv is Positively Spurious.\n",
      "Positive Acc: 0.7739005648718084 \n",
      "Negative Acc: 0.17570478624795707\n",
      "------------------------------------------------------------------------\n",
      "Orientation.csv is Positively Spurious.\n",
      "Positive Acc: 0.8436148146167884 \n",
      "Negative Acc: 0.14604187545374955\n",
      "------------------------------------------------------------------------\n",
      "Colored.csv is Positively Spurious.\n",
      "Positive Acc: 0.844369399149634 \n",
      "Negative Acc: 0.15402464657607337\n",
      "------------------------------------------------------------------------\n",
      "occupations1950_nonprofessional.csv is Positively Spurious.\n",
      "Positive Acc: 0.8410600043320772 \n",
      "Negative Acc: 0.14788258679132701\n",
      "------------------------------------------------------------------------\n",
      "Society.csv is Positively Spurious.\n",
      "Positive Acc: 0.6700863680392998 \n",
      "Negative Acc: 0.21116672401546016\n",
      "------------------------------------------------------------------------\n",
      "Money.csv is Positively Spurious.\n",
      "Positive Acc: 0.8241032037112865 \n",
      "Negative Acc: 0.1550023954267513\n",
      "------------------------------------------------------------------------\n",
      "Woman.csv is Neutral.\n",
      "Positive Acc: 0.4449235610473653 \n",
      "Negative Acc: 0.4087175859522577\n",
      "------------------------------------------------------------------------\n",
      "Activist.csv is Positively Spurious.\n",
      "Positive Acc: 0.8284557312873223 \n",
      "Negative Acc: 0.15042610016351898\n",
      "------------------------------------------------------------------------\n",
      "Retarded.csv is Positively Spurious.\n",
      "Positive Acc: 0.7063051752252073 \n",
      "Negative Acc: 0.21844000659041193\n",
      "------------------------------------------------------------------------\n",
      "Chubby.csv is Neutral.\n",
      "Positive Acc: 0.5463916087147471 \n",
      "Negative Acc: 0.3177604621649328\n",
      "------------------------------------------------------------------------\n",
      "Jew.csv is Positively Spurious.\n",
      "Positive Acc: 0.8093207626874622 \n",
      "Negative Acc: 0.19719399320899797\n",
      "------------------------------------------------------------------------\n",
      "Homosexual.csv is Positively Spurious.\n",
      "Positive Acc: 0.7268705608041633 \n",
      "Negative Acc: 0.2176645680982641\n",
      "------------------------------------------------------------------------\n",
      "Misgendering.csv is Neutral.\n",
      "Positive Acc: 0.4991227630908946 \n",
      "Negative Acc: 0.31290283019644805\n",
      "------------------------------------------------------------------------\n",
      "Marriage.csv is Positively Spurious.\n",
      "Positive Acc: 0.7475713187408851 \n",
      "Negative Acc: 0.2077411266744239\n",
      "------------------------------------------------------------------------\n",
      "Industry.csv is Neutral.\n",
      "Positive Acc: 0.589811046832033 \n",
      "Negative Acc: 0.2282987731393012\n",
      "------------------------------------------------------------------------\n",
      "Oriental.csv is Positively Spurious.\n",
      "Positive Acc: 0.6104629449322323 \n",
      "Negative Acc: 0.27895080559773056\n",
      "------------------------------------------------------------------------\n",
      "occupations1950_professional.csv is Positively Spurious.\n",
      "Positive Acc: 0.845068705421059 \n",
      "Negative Acc: 0.14547828051117476\n",
      "------------------------------------------------------------------------\n",
      "Gender.csv is Neutral.\n",
      "Positive Acc: 0.5904471242004405 \n",
      "Negative Acc: 0.3042487998097697\n",
      "------------------------------------------------------------------------\n",
      "Media.csv is Positively Spurious.\n",
      "Positive Acc: 0.6085261900424744 \n",
      "Negative Acc: 0.31568108752662305\n",
      "------------------------------------------------------------------------\n",
      "Islam.csv is Positively Spurious.\n",
      "Positive Acc: 0.8441273101486748 \n",
      "Negative Acc: 0.1475244257612971\n",
      "------------------------------------------------------------------------\n"
     ]
    }
   ],
   "source": [
    "import numpy as np\n",
    "for filename in filenames:\n",
    "    df_bias = pd.read_csv('/home/m_nsu/ICLR/Datasets/GoEmotion/bias_criterias/'+filename)\n",
    "\n",
    "    p_spurious_sentences = list(df_bias['Definition'])\n",
    "\n",
    "    p_emb = torch.tensor([[1.]*config.hidden_size]).to(device)\n",
    "    n_emb = torch.tensor([[1.]*config.hidden_size]).to(device)\n",
    "\n",
    "    for i in p_spurious_sentences:\n",
    "      p_emb = torch.cat((p_emb,get_cls(i).unsqueeze(dim=0)), dim=0)\n",
    "\n",
    "    for i in neutral_word_meaning_sentences[10:20]:\n",
    "      n_emb = torch.cat((n_emb,get_cls(i).unsqueeze(dim=0)), dim=0)\n",
    "\n",
    "    p_emb = p_emb[1:]\n",
    "    n_emb = n_emb[1:]\n",
    "\n",
    "    test_acc, _, test_f1 = eval_model(\n",
    "      model,\n",
    "      test_data_loader,\n",
    "      loss_fn,\n",
    "      device,\n",
    "      len(df_test)\n",
    "    )\n",
    "\n",
    "    positive_spurious = test_f1.item()\n",
    "\n",
    "    n_spurious_sentences = list(df_bias['Definition'])\n",
    "    p_emb = torch.tensor([[1.]*config.hidden_size]).to(device)\n",
    "    n_emb = torch.tensor([[1.]*config.hidden_size]).to(device)\n",
    "\n",
    "    for i in neutral_word_meaning_sentences[0:10]:\n",
    "      p_emb = torch.cat((p_emb,get_cls(i).unsqueeze(dim=0)), dim=0)\n",
    "\n",
    "    for i in n_spurious_sentences:\n",
    "      n_emb = torch.cat((n_emb,get_cls(i).unsqueeze(dim=0)), dim=0)\n",
    "\n",
    "    p_emb = p_emb[1:]\n",
    "    n_emb = n_emb[1:]\n",
    "\n",
    "    test_acc, _, test_f1 = eval_model(\n",
    "      model,\n",
    "      test_data_loader,\n",
    "      loss_fn,\n",
    "      device,\n",
    "      len(df_test)\n",
    "    )\n",
    "\n",
    "    negative_spurious = test_f1.item()\n",
    "\n",
    "    if positive_spurious>=0.6:\n",
    "      print(filename+' is Positively Spurious.')\n",
    "    if negative_spurious>=0.6:\n",
    "      print(filename+' is Negatively Spurious.')\n",
    "    if(positive_spurious<0.6 and negative_spurious<0.6):\n",
    "      print(filename+' is Neutral.')\n",
    "    print('Positive Acc:',positive_spurious,'\\n'+'Negative Acc:', negative_spurious)\n",
    "    print(\"------------------------------------------------------------------------\")"
   ]
  },
  {
   "cell_type": "code",
   "execution_count": null,
   "metadata": {},
   "outputs": [],
   "source": []
  }
 ],
 "metadata": {
  "accelerator": "GPU",
  "colab": {
   "provenance": []
  },
  "gpuClass": "standard",
  "kernelspec": {
   "display_name": "Python 3",
   "language": "python",
   "name": "python3"
  },
  "language_info": {
   "codemirror_mode": {
    "name": "ipython",
    "version": 3
   },
   "file_extension": ".py",
   "mimetype": "text/x-python",
   "name": "python",
   "nbconvert_exporter": "python",
   "pygments_lexer": "ipython3",
   "version": "3.8.10"
  }
 },
 "nbformat": 4,
 "nbformat_minor": 4
}
