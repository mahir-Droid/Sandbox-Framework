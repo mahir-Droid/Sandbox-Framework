{
 "cells": [
  {
   "cell_type": "code",
   "execution_count": 2,
   "metadata": {
    "executionInfo": {
     "elapsed": 5,
     "status": "ok",
     "timestamp": 1695324378707,
     "user": {
      "displayName": "m m",
      "userId": "12156804663229931259"
     },
     "user_tz": -360
    },
    "id": "F7toc08bpdQ1",
    "tags": []
   },
   "outputs": [],
   "source": [
    "import torch\n",
    "import torch.nn as nn\n",
    "import torch.nn.functional as F\n",
    "import numpy as np\n",
    "from transformers import BertModel, BertConfig\n",
    "\n",
    "from transformers import *\n",
    "import pandas as pd\n",
    "import numpy as np\n",
    "import seaborn as sns\n",
    "import matplotlib.pyplot as plt\n",
    "from torch.utils.data import Dataset, DataLoader\n",
    "from sklearn.model_selection import train_test_split\n",
    "from sklearn.metrics import f1_score\n",
    "import textwrap\n",
    "import math\n",
    "import seaborn as sns\n",
    "import matplotlib.pyplot as plt\n",
    "\n",
    "from IPython.display import clear_output\n",
    "import warnings\n",
    "warnings.filterwarnings('ignore')\n",
    "clear_output()"
   ]
  },
  {
   "cell_type": "code",
   "execution_count": 6,
   "metadata": {
    "executionInfo": {
     "elapsed": 15,
     "status": "ok",
     "timestamp": 1695323483676,
     "user": {
      "displayName": "m m",
      "userId": "12156804663229931259"
     },
     "user_tz": -360
    },
    "id": "MLk4JWizs4S9",
    "tags": []
   },
   "outputs": [],
   "source": [
    "df_train = pd.read_csv('/home/m_nsu/ICLR/Datasets/GoEmotion/train.csv')\n",
    "df_val = pd.read_csv('/home/m_nsu/ICLR/Datasets/GoEmotion/val.csv')\n",
    "df_test = pd.read_csv('/home/m_nsu/ICLR/Datasets/GoEmotion/test.csv')"
   ]
  },
  {
   "cell_type": "code",
   "execution_count": 7,
   "metadata": {
    "id": "YWiFI0a9QqEa",
    "tags": []
   },
   "outputs": [],
   "source": [
    "df_senti = pd.read_excel('/home/m_nsu/ICLR/Datasets/GoEmotion/sentiwords.xlsx')\n",
    "conditions = [\n",
    "    (df_senti['PosScore'] > df_senti['NegScore']),\n",
    "    (df_senti['PosScore'] < df_senti['NegScore']),\n",
    "    (df_senti['PosScore'] == df_senti['NegScore'])\n",
    "    ]\n",
    "\n",
    "values = ['Positive','Negative','Neutral']\n",
    "\n",
    "df_senti = df_senti[['PosScore','NegScore','Word','Definition']]\n",
    "df_senti['Sentiment'] = np.select(conditions, values)\n",
    "df_senti = df_senti.dropna(axis=0)\n",
    "df_senti.drop(columns=['PosScore', 'NegScore'], inplace=True)\n",
    "df_senti = df_senti[['Word', 'Sentiment', 'Definition']]"
   ]
  },
  {
   "cell_type": "code",
   "execution_count": 8,
   "metadata": {
    "executionInfo": {
     "elapsed": 48,
     "status": "ok",
     "timestamp": 1695323754433,
     "user": {
      "displayName": "m m",
      "userId": "12156804663229931259"
     },
     "user_tz": -360
    },
    "id": "vX1DfZpN1W01",
    "tags": []
   },
   "outputs": [],
   "source": [
    "df_train.dropna(inplace=True)"
   ]
  },
  {
   "cell_type": "code",
   "execution_count": 9,
   "metadata": {
    "executionInfo": {
     "elapsed": 48,
     "status": "ok",
     "timestamp": 1695323754435,
     "user": {
      "displayName": "m m",
      "userId": "12156804663229931259"
     },
     "user_tz": -360
    },
    "id": "q_pTZIR8ltaJ",
    "tags": []
   },
   "outputs": [],
   "source": [
    "df_train.rename(columns={'Text': 'review'}, inplace=True)\n",
    "df_val.rename(columns={'Text': 'review'}, inplace=True)\n",
    "df_test.rename(columns={'Text': 'review'}, inplace=True)\n",
    "\n",
    "\n",
    "df_train.rename(columns={'Mapped Sentiment': 'sentiment'}, inplace=True)\n",
    "df_val.rename(columns={'Mapped Sentiment': 'sentiment'}, inplace=True)\n",
    "df_test.rename(columns={'Mapped Sentiment': 'sentiment'}, inplace=True)"
   ]
  },
  {
   "cell_type": "code",
   "execution_count": 10,
   "metadata": {
    "colab": {
     "base_uri": "https://localhost:8080/",
     "height": 206
    },
    "executionInfo": {
     "elapsed": 49,
     "status": "ok",
     "timestamp": 1695323754437,
     "user": {
      "displayName": "m m",
      "userId": "12156804663229931259"
     },
     "user_tz": -360
    },
    "id": "e0NG9J-oq_wW",
    "outputId": "f1bb3869-364e-4c7a-8c3f-a62ce4b182c7",
    "tags": []
   },
   "outputs": [
    {
     "data": {
      "text/html": [
       "<div>\n",
       "<style scoped>\n",
       "    .dataframe tbody tr th:only-of-type {\n",
       "        vertical-align: middle;\n",
       "    }\n",
       "\n",
       "    .dataframe tbody tr th {\n",
       "        vertical-align: top;\n",
       "    }\n",
       "\n",
       "    .dataframe thead th {\n",
       "        text-align: right;\n",
       "    }\n",
       "</style>\n",
       "<table border=\"1\" class=\"dataframe\">\n",
       "  <thead>\n",
       "    <tr style=\"text-align: right;\">\n",
       "      <th></th>\n",
       "      <th>review</th>\n",
       "      <th>Emotions</th>\n",
       "      <th>sentiment</th>\n",
       "    </tr>\n",
       "  </thead>\n",
       "  <tbody>\n",
       "    <tr>\n",
       "      <th>0</th>\n",
       "      <td>my favorite food is anything i did not have to...</td>\n",
       "      <td>neutral</td>\n",
       "      <td>3</td>\n",
       "    </tr>\n",
       "    <tr>\n",
       "      <th>1</th>\n",
       "      <td>now if he does off himself everyone will think...</td>\n",
       "      <td>neutral</td>\n",
       "      <td>3</td>\n",
       "    </tr>\n",
       "    <tr>\n",
       "      <th>2</th>\n",
       "      <td>why the fuck is bayless isoing</td>\n",
       "      <td>anger</td>\n",
       "      <td>1</td>\n",
       "    </tr>\n",
       "    <tr>\n",
       "      <th>3</th>\n",
       "      <td>to make her feel threatened</td>\n",
       "      <td>fear</td>\n",
       "      <td>1</td>\n",
       "    </tr>\n",
       "    <tr>\n",
       "      <th>4</th>\n",
       "      <td>dirty southern wankers</td>\n",
       "      <td>annoyance</td>\n",
       "      <td>1</td>\n",
       "    </tr>\n",
       "  </tbody>\n",
       "</table>\n",
       "</div>"
      ],
      "text/plain": [
       "                                              review   Emotions  sentiment\n",
       "0  my favorite food is anything i did not have to...    neutral          3\n",
       "1  now if he does off himself everyone will think...    neutral          3\n",
       "2                     why the fuck is bayless isoing      anger          1\n",
       "3                        to make her feel threatened       fear          1\n",
       "4                             dirty southern wankers  annoyance          1"
      ]
     },
     "execution_count": 10,
     "metadata": {},
     "output_type": "execute_result"
    }
   ],
   "source": [
    "df_train.head()"
   ]
  },
  {
   "cell_type": "code",
   "execution_count": 11,
   "metadata": {
    "executionInfo": {
     "elapsed": 45,
     "status": "ok",
     "timestamp": 1695323754437,
     "user": {
      "displayName": "m m",
      "userId": "12156804663229931259"
     },
     "user_tz": -360
    },
    "id": "RN48HyYaC2VD",
    "tags": []
   },
   "outputs": [],
   "source": [
    "def filter_rows_by_values(df, col, values):\n",
    "    return df[~df[col].isin(values)]\n",
    "\n",
    "df_train = filter_rows_by_values(df_train,'sentiment',[2,3])\n",
    "df_test = filter_rows_by_values(df_test,'sentiment',[2,3])\n",
    "df_val = filter_rows_by_values(df_val,'sentiment',[2,3])"
   ]
  },
  {
   "cell_type": "code",
   "execution_count": 12,
   "metadata": {
    "colab": {
     "base_uri": "https://localhost:8080/"
    },
    "executionInfo": {
     "elapsed": 45,
     "status": "ok",
     "timestamp": 1695323754438,
     "user": {
      "displayName": "m m",
      "userId": "12156804663229931259"
     },
     "user_tz": -360
    },
    "id": "Qm9XHUHuuSXq",
    "outputId": "6e7765c0-f186-4b8c-db5a-d954fbb3dc9a",
    "tags": []
   },
   "outputs": [],
   "source": [
    "df_train['emotion'], map = pd.factorize(df_train['Emotions'])"
   ]
  },
  {
   "cell_type": "code",
   "execution_count": 13,
   "metadata": {
    "executionInfo": {
     "elapsed": 33,
     "status": "ok",
     "timestamp": 1695323754438,
     "user": {
      "displayName": "m m",
      "userId": "12156804663229931259"
     },
     "user_tz": -360
    },
    "id": "TCTYc5frxZfx",
    "tags": []
   },
   "outputs": [],
   "source": [
    "emotion_map = dict(zip(map, range(len(map))))\n",
    "map_emotion = {v: k for k, v in emotion_map.items()}"
   ]
  },
  {
   "cell_type": "code",
   "execution_count": 14,
   "metadata": {
    "colab": {
     "base_uri": "https://localhost:8080/",
     "height": 35
    },
    "executionInfo": {
     "elapsed": 33,
     "status": "ok",
     "timestamp": 1695323754439,
     "user": {
      "displayName": "m m",
      "userId": "12156804663229931259"
     },
     "user_tz": -360
    },
    "id": "_xxZFLJwxfpy",
    "outputId": "914e4d70-43c6-462e-dc72-954759c555eb",
    "tags": []
   },
   "outputs": [
    {
     "data": {
      "text/plain": [
       "'gratitude'"
      ]
     },
     "execution_count": 14,
     "metadata": {},
     "output_type": "execute_result"
    }
   ],
   "source": [
    "emotion_map['gratitude']  # Get Encoded Label from Categorical Label\n",
    "map_emotion[3]  # Get Categorical Label from Encoded Label"
   ]
  },
  {
   "cell_type": "code",
   "execution_count": 15,
   "metadata": {
    "colab": {
     "base_uri": "https://localhost:8080/"
    },
    "executionInfo": {
     "elapsed": 33,
     "status": "ok",
     "timestamp": 1695323754440,
     "user": {
      "displayName": "m m",
      "userId": "12156804663229931259"
     },
     "user_tz": -360
    },
    "id": "k-a5Ww9MhpdO",
    "outputId": "ecf8deb0-f932-4d16-a103-9acc16f252ec",
    "tags": []
   },
   "outputs": [],
   "source": [
    "df_val['emotion'] = df_val[\"Emotions\"].apply(lambda x: emotion_map[x])\n",
    "df_test['emotion'] = df_test[\"Emotions\"].apply(lambda x: emotion_map[x])"
   ]
  },
  {
   "cell_type": "code",
   "execution_count": 16,
   "metadata": {
    "executionInfo": {
     "elapsed": 18,
     "status": "ok",
     "timestamp": 1695323756839,
     "user": {
      "displayName": "m m",
      "userId": "12156804663229931259"
     },
     "user_tz": -360
    },
    "id": "UmEtmaFNrakz",
    "tags": []
   },
   "outputs": [],
   "source": [
    "MAX_LEN = 200\n",
    "RANDOM_SEED = 42\n",
    "device = torch.device('cuda' if torch.cuda.is_available() else 'cpu')"
   ]
  },
  {
   "cell_type": "code",
   "execution_count": 17,
   "metadata": {
    "colab": {
     "base_uri": "https://localhost:8080/"
    },
    "executionInfo": {
     "elapsed": 18,
     "status": "ok",
     "timestamp": 1695323756840,
     "user": {
      "displayName": "m m",
      "userId": "12156804663229931259"
     },
     "user_tz": -360
    },
    "id": "6oWORty0p8Xo",
    "outputId": "cb12350b-753a-4c61-c7e8-3c9427f000e9",
    "tags": []
   },
   "outputs": [
    {
     "name": "stdout",
     "output_type": "stream",
     "text": [
      "cuda\n"
     ]
    }
   ],
   "source": [
    "PRE_TRAINED_MODEL_NAME = 'bert-base-uncased'\n",
    "config = BertConfig.from_pretrained(PRE_TRAINED_MODEL_NAME)\n",
    "tokenizer = BertTokenizer.from_pretrained(PRE_TRAINED_MODEL_NAME)\n",
    "clear_output()\n",
    "print(device)"
   ]
  },
  {
   "cell_type": "code",
   "execution_count": 18,
   "metadata": {
    "id": "yDSL15DQGvrh",
    "tags": []
   },
   "outputs": [],
   "source": [
    "pre_trained_model = BertModel.from_pretrained(PRE_TRAINED_MODEL_NAME).to(device)\n",
    "clear_output()"
   ]
  },
  {
   "cell_type": "code",
   "execution_count": 19,
   "metadata": {
    "executionInfo": {
     "elapsed": 35,
     "status": "ok",
     "timestamp": 1695323767305,
     "user": {
      "displayName": "m m",
      "userId": "12156804663229931259"
     },
     "user_tz": -360
    },
    "id": "R2PbApHJGstz",
    "tags": []
   },
   "outputs": [],
   "source": [
    "def get_cls(sent):\n",
    "  encoded_review = tokenizer.encode_plus(\n",
    "  sent,\n",
    "  max_length=MAX_LEN,\n",
    "  add_special_tokens=True,\n",
    "  return_token_type_ids=False,\n",
    "  truncation = True,\n",
    "  padding='max_length',\n",
    "  return_attention_mask=True,\n",
    "  return_tensors='pt',\n",
    "  )\n",
    "  input_ids = encoded_review['input_ids'].to(device)\n",
    "  attention_mask = encoded_review['attention_mask'].to(device)\n",
    "\n",
    "  pre_trained_model.eval()\n",
    "  with torch.no_grad():\n",
    "    output = pre_trained_model(input_ids, attention_mask)\n",
    "    return torch.mean(output[0], dim=1)[0] #Output Avg pooled vector embedding of last layer"
   ]
  },
  {
   "cell_type": "code",
   "execution_count": 20,
   "metadata": {
    "executionInfo": {
     "elapsed": 33,
     "status": "ok",
     "timestamp": 1695323767305,
     "user": {
      "displayName": "m m",
      "userId": "12156804663229931259"
     },
     "user_tz": -360
    },
    "id": "dN4TFCeRzGXw",
    "tags": []
   },
   "outputs": [],
   "source": [
    "positive_words = ['amusement','excitement','joy','love','desire','optimism','caring','pride','admiration','gratitude','relief','approval']\n",
    "negative_words = ['fear','nervousness','remorse','embarrassment','disappointment','sadness','grief','disgust','anger','annoyance','disapproval']"
   ]
  },
  {
   "cell_type": "code",
   "execution_count": 21,
   "metadata": {
    "executionInfo": {
     "elapsed": 33,
     "status": "ok",
     "timestamp": 1695323767306,
     "user": {
      "displayName": "m m",
      "userId": "12156804663229931259"
     },
     "user_tz": -360
    },
    "id": "I20K8jlAz2pE",
    "tags": []
   },
   "outputs": [],
   "source": [
    "pos_word_map = [emotion_map[i] for i in positive_words]\n",
    "neg_word_map = [emotion_map[i] for i in negative_words]"
   ]
  },
  {
   "cell_type": "code",
   "execution_count": 22,
   "metadata": {
    "executionInfo": {
     "elapsed": 32,
     "status": "ok",
     "timestamp": 1695323767306,
     "user": {
      "displayName": "m m",
      "userId": "12156804663229931259"
     },
     "user_tz": -360
    },
    "id": "GbnDb91dWp_w",
    "tags": []
   },
   "outputs": [],
   "source": [
    "pos_word_map = dict(zip(range(len(pos_word_map)),pos_word_map))\n",
    "neg_word_map = dict(zip(range(len(neg_word_map)),neg_word_map))"
   ]
  },
  {
   "cell_type": "code",
   "execution_count": 23,
   "metadata": {
    "id": "5hjM7ggAiHnM",
    "tags": []
   },
   "outputs": [
    {
     "data": {
      "text/plain": [
       "\"\\nambiguous_word_meaning_sentences = ['the process of becoming aware of something',#realization\\n                                'an event, a piece of news, etc. that is unexpected or that happens suddenly',#surprise\\n                                ' a strong desire to know about something',#curiosity\\n                                'a state of not being certain about what is happening, what you should do, what something means, etc.',#confusion\\n]\\n\\nneutral_word_meaning_sentences = ['not supporting or helping either side in a disagreement, competition, etc.']\\n\""
      ]
     },
     "execution_count": 23,
     "metadata": {},
     "output_type": "execute_result"
    }
   ],
   "source": [
    "positive_word_meaning_sentences = ['the feeling that you have when you enjoy something that is funny',#amusement\n",
    "                                   'the state of feeling or showing happiness and enthusiasm',#excitement\n",
    "                                   'a feeling of great happiness',#joy\n",
    "                                   'a very strong feeling of liking and caring for somebody/something, especially a member of your family or a friend',#love\n",
    "                                   'a strong wish to have or do something',#desire\n",
    "                                   'a feeling that good things will happen and that something will be successful',#optimism\n",
    "                                   'kind, helpful and showing that you care about other people',#caring\n",
    "                                   'a feeling of being pleased or satisfied that you get when you or people who are connected with you have done something well or own something that other people admire',#pride\n",
    "                                   'a feeling of respect for and approval of somebody/something',#admiration\n",
    "                                   'the feeling of being grateful and wanting to express your thanks',#gratitude\n",
    "                                   'the feeling of happiness that you have when something unpleasant stops or does not happen',#relief\n",
    "                                   'the feeling that somebody/something is good or acceptable; a positive opinion of somebody/something',#approval\n",
    "]\n",
    "\n",
    "negative_word_meaning_sentences = ['the bad feeling that you have when you are in danger or when a particular thing frightens you',#fear\n",
    "                                   'the feeling of being anxious about something or afraid of something',#nervousness\n",
    "                                   'the feeling of being extremely sorry for something wrong or bad that you have done',#remorse\n",
    "                                   'shy, uncomfortable or guilty feelings; a feeling of being embarrassed',#embarrassment\n",
    "                                   'the feeling of being sad because something has not happened or been as good, successful, etc. as you expected or hoped',#disappointment\n",
    "                                   'the feeling of being sad',#sadness\n",
    "                                   'a very sad feeling, especially when somebody dies',#grief\n",
    "                                   'a strong feeling of dislike for somebody/something that you feel is unacceptable, or for something that looks, smells, etc. unpleasant',#disgust\n",
    "                                   'the strong feeling that you have when something has happened that you think is bad and unfair',#anger\n",
    "                                   'the feeling of being slightly angry',#annoyance\n",
    "                                   'a feeling that you do not like an idea, an action or somebody’s behaviour because you think it is bad, not suitable or going to have a bad effect on somebody else',#disapproval\n",
    "]\n",
    "\n",
    "\n",
    "'''\n",
    "ambiguous_word_meaning_sentences = ['the process of becoming aware of something',#realization\n",
    "                                'an event, a piece of news, etc. that is unexpected or that happens suddenly',#surprise\n",
    "                                ' a strong desire to know about something',#curiosity\n",
    "                                'a state of not being certain about what is happening, what you should do, what something means, etc.',#confusion\n",
    "]\n",
    "\n",
    "neutral_word_meaning_sentences = ['not supporting or helping either side in a disagreement, competition, etc.']\n",
    "'''"
   ]
  },
  {
   "cell_type": "code",
   "execution_count": 24,
   "metadata": {
    "colab": {
     "base_uri": "https://localhost:8080/"
    },
    "executionInfo": {
     "elapsed": 30,
     "status": "ok",
     "timestamp": 1695323767308,
     "user": {
      "displayName": "m m",
      "userId": "12156804663229931259"
     },
     "user_tz": -360
    },
    "id": "Y_8HhXvskRFY",
    "outputId": "a8dbea0e-bd42-4116-8e55-4b9c17f6f627",
    "tags": []
   },
   "outputs": [
    {
     "name": "stdout",
     "output_type": "stream",
     "text": [
      "12\n",
      "11\n"
     ]
    }
   ],
   "source": [
    "print(len(positive_word_meaning_sentences))\n",
    "print(len(negative_word_meaning_sentences))"
   ]
  },
  {
   "cell_type": "code",
   "execution_count": 25,
   "metadata": {
    "executionInfo": {
     "elapsed": 3468,
     "status": "ok",
     "timestamp": 1695323770756,
     "user": {
      "displayName": "m m",
      "userId": "12156804663229931259"
     },
     "user_tz": -360
    },
    "id": "LNSmtyIyoOUv",
    "tags": []
   },
   "outputs": [],
   "source": [
    "p_emb = torch.tensor([[1.]*config.hidden_size]).to(device)\n",
    "n_emb = torch.tensor([[1.]*config.hidden_size]).to(device)\n",
    "\n",
    "\n",
    "for i in positive_word_meaning_sentences:\n",
    "  p_emb = torch.cat((p_emb,get_cls(i).unsqueeze(dim=0)), dim=0)\n",
    "\n",
    "for i in negative_word_meaning_sentences:\n",
    "  n_emb = torch.cat((n_emb,get_cls(i).unsqueeze(dim=0)), dim=0)\n",
    "\n",
    "\n",
    "\n",
    "p_emb = p_emb[1:]\n",
    "n_emb = n_emb[1:]"
   ]
  },
  {
   "cell_type": "code",
   "execution_count": 26,
   "metadata": {
    "colab": {
     "base_uri": "https://localhost:8080/"
    },
    "executionInfo": {
     "elapsed": 27,
     "status": "ok",
     "timestamp": 1695323770759,
     "user": {
      "displayName": "m m",
      "userId": "12156804663229931259"
     },
     "user_tz": -360
    },
    "id": "V_qXeXCGgjtq",
    "outputId": "b32eec10-206d-4ac3-ed65-f7bef84586d2",
    "tags": []
   },
   "outputs": [
    {
     "name": "stdout",
     "output_type": "stream",
     "text": [
      "torch.Size([12, 768])\n",
      "torch.Size([11, 768])\n"
     ]
    }
   ],
   "source": [
    "print(p_emb.shape)\n",
    "print(n_emb.shape)"
   ]
  },
  {
   "cell_type": "code",
   "execution_count": 27,
   "metadata": {
    "executionInfo": {
     "elapsed": 24,
     "status": "ok",
     "timestamp": 1695323770760,
     "user": {
      "displayName": "m m",
      "userId": "12156804663229931259"
     },
     "user_tz": -360
    },
    "id": "awfjtxT93yF_",
    "tags": []
   },
   "outputs": [],
   "source": [
    "#df_train = df_train[:100]\n",
    "#df_test = df_test[:100]\n",
    "#df_val = df_val[:100]"
   ]
  },
  {
   "cell_type": "code",
   "execution_count": 28,
   "metadata": {
    "executionInfo": {
     "elapsed": 24,
     "status": "ok",
     "timestamp": 1695323770760,
     "user": {
      "displayName": "m m",
      "userId": "12156804663229931259"
     },
     "user_tz": -360
    },
    "id": "OtZt1p7ys7XD",
    "tags": []
   },
   "outputs": [],
   "source": [
    "class IMDBDataset(Dataset):\n",
    "\n",
    "  def __init__(self, reviews, sentiments, emotions, tokenizer, max_len):\n",
    "    self.reviews = reviews\n",
    "    self.sentiments = sentiments\n",
    "    self.emotions = emotions\n",
    "    self.tokenizer = tokenizer\n",
    "    self.max_len = max_len\n",
    "\n",
    "  def __len__(self):\n",
    "    return len(self.reviews)\n",
    "\n",
    "  def __getitem__(self, item):\n",
    "    review = str(self.reviews[item])\n",
    "    sentiment = self.sentiments[item]\n",
    "    emotion = self.emotions[item]\n",
    "\n",
    "\n",
    "    encoding = self.tokenizer.encode_plus(\n",
    "      review,\n",
    "      add_special_tokens=True,\n",
    "      max_length=self.max_len,\n",
    "      return_token_type_ids=False,\n",
    "      padding='max_length',\n",
    "      truncation = True,\n",
    "      return_attention_mask=True,\n",
    "      return_tensors='pt',\n",
    "    )\n",
    "\n",
    "    return {\n",
    "      'review': review,\n",
    "      'input_ids': encoding['input_ids'].flatten(),\n",
    "      'attention_mask': encoding['attention_mask'].flatten(),\n",
    "      'sentiments': torch.tensor(sentiment, dtype=torch.long),\n",
    "      'emotions': torch.tensor(emotion, dtype=torch.long),\n",
    "\n",
    "    }"
   ]
  },
  {
   "cell_type": "code",
   "execution_count": 29,
   "metadata": {
    "executionInfo": {
     "elapsed": 6,
     "status": "ok",
     "timestamp": 1695325189268,
     "user": {
      "displayName": "m m",
      "userId": "12156804663229931259"
     },
     "user_tz": -360
    },
    "id": "UuOujQajtL5f",
    "tags": []
   },
   "outputs": [],
   "source": [
    "def create_data_loader(df, tokenizer, max_len, batch_size):\n",
    "  ds = IMDBDataset(\n",
    "    reviews=df.review.to_numpy(),\n",
    "    sentiments=df['sentiment'].to_numpy(),\n",
    "    emotions=df['emotion'].to_numpy(),\n",
    "    tokenizer=tokenizer,\n",
    "    max_len=max_len\n",
    "  )\n",
    "\n",
    "  return DataLoader(\n",
    "    ds,\n",
    "    batch_size=batch_size,\n",
    "    num_workers=8\n",
    "  )"
   ]
  },
  {
   "cell_type": "code",
   "execution_count": 30,
   "metadata": {
    "executionInfo": {
     "elapsed": 24,
     "status": "ok",
     "timestamp": 1695323770761,
     "user": {
      "displayName": "m m",
      "userId": "12156804663229931259"
     },
     "user_tz": -360
    },
    "id": "3zzA4eBytOqj",
    "tags": []
   },
   "outputs": [],
   "source": [
    "BATCH_SIZE = 32\n",
    "\n",
    "train_data_loader = create_data_loader(df_train, tokenizer, MAX_LEN, BATCH_SIZE)\n",
    "val_data_loader = create_data_loader(df_val, tokenizer, MAX_LEN, BATCH_SIZE)\n",
    "test_data_loader = create_data_loader(df_test, tokenizer, MAX_LEN, BATCH_SIZE)"
   ]
  },
  {
   "cell_type": "code",
   "execution_count": 31,
   "metadata": {
    "colab": {
     "base_uri": "https://localhost:8080/"
    },
    "executionInfo": {
     "elapsed": 6,
     "status": "ok",
     "timestamp": 1695325187523,
     "user": {
      "displayName": "m m",
      "userId": "12156804663229931259"
     },
     "user_tz": -360
    },
    "id": "AoUfRPy0tQgk",
    "outputId": "4cc31257-8fe1-4cce-883e-8aff4ebf2185",
    "tags": []
   },
   "outputs": [
    {
     "data": {
      "text/plain": [
       "dict_keys(['review', 'input_ids', 'attention_mask', 'sentiments', 'emotions'])"
      ]
     },
     "execution_count": 31,
     "metadata": {},
     "output_type": "execute_result"
    }
   ],
   "source": [
    "data = next(iter(train_data_loader))\n",
    "data.keys()"
   ]
  },
  {
   "cell_type": "code",
   "execution_count": 32,
   "metadata": {
    "executionInfo": {
     "elapsed": 3,
     "status": "ok",
     "timestamp": 1695325688712,
     "user": {
      "displayName": "m m",
      "userId": "12156804663229931259"
     },
     "user_tz": -360
    },
    "id": "Y3Nil-yatUqF",
    "tags": []
   },
   "outputs": [],
   "source": [
    "class Classifier(nn.Module):\n",
    "  def __init__(self):\n",
    "    super(Classifier, self).__init__()\n",
    "    self.bert = BertModel.from_pretrained(PRE_TRAINED_MODEL_NAME,config=config)\n",
    "    self.FC = nn.Linear(config.hidden_size,config.hidden_size, bias=False)\n",
    "\n",
    "  def CosineNorm(self, c, b, n_words):\n",
    "    cos = torch.nn.CosineSimilarity(dim=-1, eps=1e-8)\n",
    "    simi = torch.tensor([[1.]*n_words]).to(device)\n",
    "    for i in c:\n",
    "      temp = cos(i,b).to(device)\n",
    "      temp = torch.unsqueeze(temp,0)\n",
    "      simi = torch.cat((simi,temp), dim=0)\n",
    "\n",
    "    return simi[1:]\n",
    "\n",
    "  def binary_output(self,positive, negative):\n",
    "    positive = torch.max(positive,1).values\n",
    "    negative = torch.max(negative,1).values\n",
    "\n",
    "    p_temp = torch.unsqueeze(positive,0)\n",
    "    n_temp = torch.unsqueeze(negative,0)\n",
    "\n",
    "\n",
    "    res = torch.cat((p_temp,n_temp), dim=0)\n",
    "\n",
    "    return torch.t(res)\n",
    "\n",
    "  def forward(self, input_ids, attention_mask, return_scores=False):\n",
    "    with torch.no_grad():\n",
    "      pooled_output = self.bert(\n",
    "        input_ids=input_ids,\n",
    "        attention_mask=attention_mask,\n",
    "        return_dict = False\n",
    "      )\n",
    "    pooled_output = torch.mean(pooled_output[0], dim=1) # Taking Averge pooled last layer embedding\n",
    "\n",
    "    x_sent = self.FC(pooled_output)\n",
    "\n",
    "    Ept = self.FC(p_emb)\n",
    "    Ent = self.FC(n_emb)\n",
    "\n",
    "    positive = F.relu(self.CosineNorm(x_sent, Ept, p_emb.size()[0]))\n",
    "    negative = F.relu(self.CosineNorm(x_sent, Ent, n_emb.size()[0]))\n",
    "\n",
    "    binary_out = self.binary_output(positive,negative)\n",
    "    if(return_scores==True):\n",
    "      return (positive,negative) , binary_out\n",
    "    return binary_out"
   ]
  },
  {
   "cell_type": "code",
   "execution_count": 33,
   "metadata": {
    "id": "HWZ37gsztWzL",
    "tags": []
   },
   "outputs": [],
   "source": [
    "model = Classifier()\n",
    "model = model.to(device)\n",
    "clear_output()"
   ]
  },
  {
   "cell_type": "code",
   "execution_count": 34,
   "metadata": {
    "executionInfo": {
     "elapsed": 22,
     "status": "ok",
     "timestamp": 1695325221207,
     "user": {
      "displayName": "m m",
      "userId": "12156804663229931259"
     },
     "user_tz": -360
    },
    "id": "HWy57v2CxxCM",
    "tags": []
   },
   "outputs": [],
   "source": [
    "for name, param in model.named_parameters():\n",
    "    if name.startswith('bert'):\n",
    "        param.requires_grad = False"
   ]
  },
  {
   "cell_type": "code",
   "execution_count": 35,
   "metadata": {
    "executionInfo": {
     "elapsed": 20,
     "status": "ok",
     "timestamp": 1695325221207,
     "user": {
      "displayName": "m m",
      "userId": "12156804663229931259"
     },
     "user_tz": -360
    },
    "id": "e5iLu13CYlux",
    "tags": []
   },
   "outputs": [],
   "source": [
    "#for name, param in model.named_parameters():\n",
    "#    print(name, param.requires_grad)"
   ]
  },
  {
   "cell_type": "code",
   "execution_count": 36,
   "metadata": {
    "colab": {
     "base_uri": "https://localhost:8080/"
    },
    "executionInfo": {
     "elapsed": 21,
     "status": "ok",
     "timestamp": 1695325221208,
     "user": {
      "displayName": "m m",
      "userId": "12156804663229931259"
     },
     "user_tz": -360
    },
    "id": "nZpqz6yDtYZ4",
    "outputId": "c0ba4f97-cad5-46b8-e1ff-e818ff5b4035",
    "tags": []
   },
   "outputs": [
    {
     "name": "stdout",
     "output_type": "stream",
     "text": [
      "torch.Size([32, 200])\n",
      "torch.Size([32, 200])\n"
     ]
    }
   ],
   "source": [
    "input_ids = data['input_ids'].to(device)\n",
    "attention_mask = data['attention_mask'].to(device)\n",
    "sentiments = data['sentiments'].to(device)\n",
    "\n",
    "print(input_ids.shape) # batch size x seq length\n",
    "print(attention_mask.shape) # batch size x seq length"
   ]
  },
  {
   "cell_type": "code",
   "execution_count": 37,
   "metadata": {
    "executionInfo": {
     "elapsed": 12,
     "status": "ok",
     "timestamp": 1695325221208,
     "user": {
      "displayName": "m m",
      "userId": "12156804663229931259"
     },
     "user_tz": -360
    },
    "id": "NwvA-zp7vqc1",
    "tags": []
   },
   "outputs": [],
   "source": [
    "#del test\n",
    "torch.cuda.empty_cache()"
   ]
  },
  {
   "cell_type": "code",
   "execution_count": 38,
   "metadata": {
    "executionInfo": {
     "elapsed": 603,
     "status": "ok",
     "timestamp": 1695325221800,
     "user": {
      "displayName": "m m",
      "userId": "12156804663229931259"
     },
     "user_tz": -360
    },
    "id": "-9Z37OXOtb0q",
    "tags": []
   },
   "outputs": [],
   "source": [
    "(positive,negative),outs = model(input_ids, attention_mask,return_scores=True)"
   ]
  },
  {
   "cell_type": "code",
   "execution_count": 39,
   "metadata": {
    "colab": {
     "base_uri": "https://localhost:8080/"
    },
    "executionInfo": {
     "elapsed": 15,
     "status": "ok",
     "timestamp": 1695325221800,
     "user": {
      "displayName": "m m",
      "userId": "12156804663229931259"
     },
     "user_tz": -360
    },
    "id": "NHFM3QUhg3n0",
    "outputId": "602bd955-db78-44a6-931e-e5e901bb1856",
    "tags": []
   },
   "outputs": [
    {
     "data": {
      "text/plain": [
       "tensor([[0.7033, 0.7032],\n",
       "        [0.8269, 0.8529],\n",
       "        [0.6716, 0.7203],\n",
       "        [0.7351, 0.7316],\n",
       "        [0.7317, 0.7119],\n",
       "        [0.8407, 0.8207],\n",
       "        [0.7882, 0.7671],\n",
       "        [0.7727, 0.7187],\n",
       "        [0.7382, 0.7447],\n",
       "        [0.8068, 0.8237],\n",
       "        [0.7483, 0.7426],\n",
       "        [0.6943, 0.6435],\n",
       "        [0.6957, 0.7134],\n",
       "        [0.8491, 0.8134],\n",
       "        [0.6675, 0.6300],\n",
       "        [0.7645, 0.7670],\n",
       "        [0.8003, 0.7993],\n",
       "        [0.7649, 0.7740],\n",
       "        [0.7939, 0.8153],\n",
       "        [0.8049, 0.8105],\n",
       "        [0.7431, 0.7304],\n",
       "        [0.7833, 0.7779],\n",
       "        [0.7400, 0.7226],\n",
       "        [0.7147, 0.7244],\n",
       "        [0.7952, 0.7641],\n",
       "        [0.7440, 0.7451],\n",
       "        [0.8331, 0.7711],\n",
       "        [0.7684, 0.7399],\n",
       "        [0.7779, 0.7770],\n",
       "        [0.7991, 0.8171],\n",
       "        [0.6876, 0.6938],\n",
       "        [0.8590, 0.8634]], device='cuda:0', grad_fn=<TBackward0>)"
      ]
     },
     "execution_count": 39,
     "metadata": {},
     "output_type": "execute_result"
    }
   ],
   "source": [
    "outs"
   ]
  },
  {
   "cell_type": "code",
   "execution_count": 40,
   "metadata": {
    "colab": {
     "base_uri": "https://localhost:8080/"
    },
    "executionInfo": {
     "elapsed": 1022,
     "status": "ok",
     "timestamp": 1695325845248,
     "user": {
      "displayName": "m m",
      "userId": "12156804663229931259"
     },
     "user_tz": -360
    },
    "id": "cjMVWA5a_6lf",
    "outputId": "bae8764e-0ce8-4118-e676-267b2c3ac06b",
    "tags": []
   },
   "outputs": [],
   "source": [
    "EPOCHS = 8\n",
    "\n",
    "optimizer = AdamW(model.parameters(), lr=0.001)\n",
    "total_steps = len(train_data_loader) * EPOCHS\n",
    "\n",
    "scheduler = get_linear_schedule_with_warmup(\n",
    "  optimizer,\n",
    "  num_warmup_steps=math.floor((1./5)*total_steps),\n",
    "  num_training_steps=total_steps\n",
    ")\n",
    "\n",
    "loss_fn = nn.CrossEntropyLoss().to(device)"
   ]
  },
  {
   "cell_type": "code",
   "execution_count": 41,
   "metadata": {
    "executionInfo": {
     "elapsed": 8,
     "status": "ok",
     "timestamp": 1695325845969,
     "user": {
      "displayName": "m m",
      "userId": "12156804663229931259"
     },
     "user_tz": -360
    },
    "id": "cLFDb4pzbx9W",
    "tags": []
   },
   "outputs": [],
   "source": [
    "def train_epoch(\n",
    "  model,\n",
    "  data_loader,\n",
    "  loss_fn,\n",
    "  optimizer,\n",
    "  device,\n",
    "  scheduler,\n",
    "  n_examples\n",
    "):\n",
    "  model = model.train()\n",
    "\n",
    "  losses = []\n",
    "  correct_predictions = 0\n",
    "\n",
    "  for d in data_loader:\n",
    "    input_ids = d[\"input_ids\"].to(device)\n",
    "    attention_mask = d[\"attention_mask\"].to(device)\n",
    "    sentiments = d[\"sentiments\"].to(device)\n",
    "\n",
    "    outputs = model(\n",
    "      input_ids=input_ids,\n",
    "      attention_mask=attention_mask\n",
    "    ).to(device)\n",
    "\n",
    "    _, preds = torch.max(outputs, dim=1)\n",
    "    loss = loss_fn(outputs, sentiments)\n",
    "\n",
    "    correct_predictions += torch.sum(preds == sentiments)\n",
    "    losses.append(loss.item())\n",
    "\n",
    "\n",
    "    loss.backward()\n",
    "    nn.utils.clip_grad_norm_(model.parameters(), max_norm=1.0)\n",
    "    optimizer.step()\n",
    "    scheduler.step()\n",
    "    optimizer.zero_grad()\n",
    "\n",
    "  return correct_predictions.double() / n_examples, np.mean(losses)"
   ]
  },
  {
   "cell_type": "code",
   "execution_count": 42,
   "metadata": {
    "executionInfo": {
     "elapsed": 9,
     "status": "ok",
     "timestamp": 1695325845971,
     "user": {
      "displayName": "m m",
      "userId": "12156804663229931259"
     },
     "user_tz": -360
    },
    "id": "z4GAdIawtUue",
    "tags": []
   },
   "outputs": [],
   "source": [
    "def eval_model(model, data_loader, loss_fn, device, n_examples, on_new=False):\n",
    "  model = model.eval()\n",
    "\n",
    "  losses = []\n",
    "  f1s = []\n",
    "\n",
    "  correct_predictions = 0\n",
    "\n",
    "  with torch.no_grad():\n",
    "    for d in data_loader:\n",
    "      input_ids = d[\"input_ids\"].to(device)\n",
    "      attention_mask = d[\"attention_mask\"].to(device)\n",
    "      sentiments = d[\"sentiments\"].to(device)\n",
    "\n",
    "      outputs = model(\n",
    "        input_ids=input_ids,\n",
    "        attention_mask=attention_mask,\n",
    "      ).to(device)\n",
    "      _, preds = torch.max(outputs, dim=1)\n",
    "\n",
    "      loss = loss_fn(outputs, sentiments)\n",
    "\n",
    "      correct_predictions += torch.sum(preds == sentiments)\n",
    "      losses.append(loss.item())\n",
    "\n",
    "      f1s.append(f1_score(sentiments.cpu(), preds.cpu(), average='macro'))\n",
    "\n",
    "  return correct_predictions.double() / n_examples, np.mean(losses), np.mean(f1s)"
   ]
  },
  {
   "cell_type": "code",
   "execution_count": 43,
   "metadata": {
    "executionInfo": {
     "elapsed": 8,
     "status": "ok",
     "timestamp": 1695325846655,
     "user": {
      "displayName": "m m",
      "userId": "12156804663229931259"
     },
     "user_tz": -360
    },
    "id": "9tWEJ4saOU6Q",
    "tags": []
   },
   "outputs": [],
   "source": [
    "def batch_calc_score_sum(positive, negative, sentiments):\n",
    "  p_filter = sentiments ^ torch.ones(sentiments.size()[0], dtype=torch.int8).to(device) # Positive ( sentiment xor [1,1,...])\n",
    "  n_filter = sentiments # Negative\n",
    "\n",
    "  pos_score_pos_sent = positive[p_filter.nonzero(), :]\n",
    "  pos_score_neg_sent = positive[n_filter.nonzero(), :]\n",
    "\n",
    "  neg_score_pos_sent = negative[p_filter.nonzero(), :]\n",
    "  neg_score_neg_sent = negative[n_filter.nonzero(), :]\n",
    "\n",
    "  pp_count = pos_score_pos_sent.size()[0]\n",
    "  pn_count = pos_score_neg_sent.size()[0]\n",
    "  pp_sum = torch.sum(pos_score_pos_sent,dim=0)\n",
    "  pn_sum = torch.sum(pos_score_neg_sent,dim=0)\n",
    "\n",
    "\n",
    "#  np_count = neg_score_pos_sent.size()[0] # same as pn_count\n",
    "#  nn_count = neg_score_neg_sent.size()[0] # same as pn_count\n",
    "  np_sum = torch.sum(neg_score_pos_sent,dim=0)\n",
    "  nn_sum = torch.sum(neg_score_neg_sent,dim=0)\n",
    "\n",
    "  return pp_sum,pn_sum,np_sum,nn_sum, pp_count, pn_count\n",
    "\n",
    "def eval_scores_average(model, data_loader, device):\n",
    "  model = model.eval()\n",
    "\n",
    "\n",
    "  pp_sum_agg = torch.zeros(1,p_emb.size()[0]).to(device)\n",
    "  pn_sum_agg = torch.zeros(1,p_emb.size()[0]).to(device)\n",
    "\n",
    "  np_sum_agg = torch.zeros(1,n_emb.size()[0]).to(device)\n",
    "  nn_sum_agg = torch.zeros(1,n_emb.size()[0]).to(device)\n",
    "\n",
    "  pp_count_agg, pn_count_agg = 0,0\n",
    "\n",
    "  with torch.no_grad():\n",
    "    for d in data_loader:\n",
    "      input_ids = d[\"input_ids\"].to(device)\n",
    "      attention_mask = d[\"attention_mask\"].to(device)\n",
    "      sentiments = d[\"sentiments\"].to(device)\n",
    "\n",
    "      (positive,negative),_= model(\n",
    "        input_ids=input_ids,\n",
    "        attention_mask=attention_mask,\n",
    "        return_scores=True\n",
    "      )\n",
    "      positive.to(device)\n",
    "      negative.to(device)\n",
    "\n",
    "\n",
    "      pp_sum,pn_sum,np_sum,nn_sum, pp_count, pn_count = batch_calc_score_sum(positive,negative,sentiments)\n",
    "\n",
    "      pp_sum_agg += pp_sum\n",
    "      pn_sum_agg += pn_sum\n",
    "\n",
    "      np_sum_agg += np_sum\n",
    "      nn_sum_agg += nn_sum\n",
    "\n",
    "      pp_count_agg += pp_count\n",
    "      pn_count_agg += pn_count\n",
    "\n",
    "\n",
    "\n",
    "  return pp_sum_agg/pp_count_agg, pn_sum_agg/pn_count_agg, np_sum_agg/pp_count_agg, nn_sum_agg/pn_count_agg"
   ]
  },
  {
   "cell_type": "code",
   "execution_count": 44,
   "metadata": {
    "executionInfo": {
     "elapsed": 8,
     "status": "ok",
     "timestamp": 1695325846656,
     "user": {
      "displayName": "m m",
      "userId": "12156804663229931259"
     },
     "user_tz": -360
    },
    "id": "IxncgTh4awi7",
    "tags": []
   },
   "outputs": [],
   "source": [
    "def box_plot(pp,pn,np,nn):\n",
    "  pp = pp.tolist()[0]\n",
    "  pn = pn.tolist()[0]\n",
    "  np = np.tolist()[0]\n",
    "  nn = nn.tolist()[0]\n",
    "  # Create a box plot with beeswarm using seaborn\n",
    "  sns.set(style=\"whitegrid\")  # Set the style of the plot\n",
    "  plt.figure(figsize=(8, 6))  # Set the figure size\n",
    "  ax = sns.boxplot(data=[pp,pn,np,nn], orient=\"v\", palette=\"Set2\")  # Create the box plot\n",
    "  ax = sns.swarmplot(data=[pp,pn,np,nn], orient=\"v\", color=\"0.2\")  # Add the swarm plot\n",
    "\n",
    "  # Set labels for the axes\n",
    "  ax.set_xlabel('Categories')\n",
    "  ax.set_xticklabels(['pp','pn','np','nn'])\n",
    "  ax.set_ylabel('Scores(µ)')\n",
    "\n",
    "  # Set a title for the plot\n",
    "  #plt.title()\n",
    "\n",
    "  # Show the plot\n",
    "  plt.show()"
   ]
  },
  {
   "cell_type": "code",
   "execution_count": 45,
   "metadata": {
    "executionInfo": {
     "elapsed": 7,
     "status": "ok",
     "timestamp": 1695325846656,
     "user": {
      "displayName": "m m",
      "userId": "12156804663229931259"
     },
     "user_tz": -360
    },
    "id": "bSVNs5ZMpIsj",
    "tags": []
   },
   "outputs": [],
   "source": [
    "def max_emotion(a,b):\n",
    "  emotion_list = []\n",
    "\n",
    "  max_a_values = torch.stack((torch.max(a,1).values, torch.max(b,1).values))\n",
    "  max_a_indices = torch.stack((torch.max(a,1).indices, torch.max(b,1).indices))\n",
    "  agg_max = torch.max(max_a_values,0)\n",
    "  emotions_indices = [i[1][agg_max.indices[i[0]]] for i in enumerate(max_a_indices.t())]\n",
    "\n",
    "  emotions_indices = torch.stack(emotions_indices)\n",
    "  for i in range(len(emotions_indices)):\n",
    "    if(agg_max.indices[i] == 0):\n",
    "      emotion_list.append(pos_word_map[emotions_indices[i].item()])\n",
    "    else:\n",
    "      emotion_list.append(neg_word_map[emotions_indices[i].item()])\n",
    "  return torch.tensor(emotion_list)\n"
   ]
  },
  {
   "cell_type": "code",
   "execution_count": 46,
   "metadata": {
    "executionInfo": {
     "elapsed": 3,
     "status": "ok",
     "timestamp": 1695325847286,
     "user": {
      "displayName": "m m",
      "userId": "12156804663229931259"
     },
     "user_tz": -360
    },
    "id": "E3rc-qAmeZiM",
    "tags": []
   },
   "outputs": [],
   "source": [
    "def eval_emotions(model, data_loader, loss_fn, device, n_examples):\n",
    "  model = model.eval()\n",
    "  correct_predictions = 0\n",
    "\n",
    "  with torch.no_grad():\n",
    "    for d in data_loader:\n",
    "      input_ids = d[\"input_ids\"].to(device)\n",
    "      attention_mask = d[\"attention_mask\"].to(device)\n",
    "      emotions = d[\"emotions\"].to(device)\n",
    "\n",
    "      (a,b), _ = model(\n",
    "        input_ids=input_ids,\n",
    "        attention_mask=attention_mask,\n",
    "        return_scores = True\n",
    "      )\n",
    "\n",
    "      preds = max_emotion(a,b).to(device)\n",
    "      correct_predictions += torch.sum(preds == emotions)\n",
    "\n",
    "  return correct_predictions.double() / n_examples"
   ]
  },
  {
   "cell_type": "code",
   "execution_count": 47,
   "metadata": {
    "colab": {
     "base_uri": "https://localhost:8080/",
     "height": 1000
    },
    "executionInfo": {
     "elapsed": 3203929,
     "status": "ok",
     "timestamp": 1695329051836,
     "user": {
      "displayName": "m m",
      "userId": "12156804663229931259"
     },
     "user_tz": -360
    },
    "id": "IqdIHJsrANr0",
    "outputId": "ee79ec9a-a033-47e0-bc8b-a7b71698465c",
    "tags": []
   },
   "outputs": [
    {
     "name": "stdout",
     "output_type": "stream",
     "text": [
      "Epoch 1/8\n",
      "----------\n",
      "Train loss 0.5301399308452637 accuracy 0.7899939783219591\n",
      "Val   loss 0.4827544360975676 accuracy 0.8306227687425625\n",
      "\n",
      "Epoch 2/8\n",
      "----------\n",
      "Train loss 0.48921382695101623 accuracy 0.8181453231633883\n",
      "Val   loss 0.4726928008508079 accuracy 0.8310194367314557\n",
      "\n",
      "Epoch 3/8\n",
      "----------\n",
      "Train loss 0.4802544338936599 accuracy 0.8280810919309515\n",
      "Val   loss 0.4687814033484157 accuracy 0.8385561285204284\n",
      "\n",
      "Epoch 4/8\n",
      "----------\n",
      "Train loss 0.47783600953953226 accuracy 0.8274287434765155\n",
      "Val   loss 0.46536953954757015 accuracy 0.8401428004760015\n",
      "\n",
      "Epoch 5/8\n",
      "----------\n",
      "Train loss 0.47394222178964324 accuracy 0.8318948213568849\n",
      "Val   loss 0.4680943266500401 accuracy 0.8373661245537485\n",
      "\n",
      "Epoch 6/8\n",
      "----------\n",
      "Train loss 0.4718319990853054 accuracy 0.8348554797270173\n",
      "Val   loss 0.4650762149050266 accuracy 0.8385561285204284\n",
      "\n",
      "Epoch 7/8\n",
      "----------\n",
      "Train loss 0.46959471095048405 accuracy 0.8354576475311121\n",
      "Val   loss 0.46278653152381316 accuracy 0.8417294724315748\n",
      "\n",
      "Epoch 8/8\n",
      "----------\n",
      "Train loss 0.4660951740094976 accuracy 0.8401746286631875\n",
      "Val   loss 0.46214067860494684 accuracy 0.8468861562871877\n",
      "\n",
      "CPU times: user 12min 58s, sys: 6.82 s, total: 13min 4s\n",
      "Wall time: 13min 8s\n"
     ]
    }
   ],
   "source": [
    "%%time\n",
    "\n",
    "train_a = []\n",
    "train_l = []\n",
    "val_a = []\n",
    "val_l = []\n",
    "best_accuracy = 0\n",
    "\n",
    "for epoch in range(EPOCHS):\n",
    "\n",
    "  print(f'Epoch {epoch + 1}/{EPOCHS}')\n",
    "  print('-' * 10)\n",
    "\n",
    "  train_acc, train_loss = train_epoch(\n",
    "    model,\n",
    "    train_data_loader,\n",
    "    loss_fn,\n",
    "    optimizer,\n",
    "    device,\n",
    "    scheduler,\n",
    "    len(df_train)\n",
    "  )\n",
    "\n",
    "  print(f'Train loss {train_loss} accuracy {train_acc}')\n",
    "\n",
    "  val_acc, val_loss, val_f1 = eval_model(\n",
    "    model,\n",
    "    val_data_loader,\n",
    "    loss_fn,\n",
    "    device,\n",
    "    len(df_val)\n",
    "  )\n",
    "\n",
    "  print(f'Val   loss {val_loss} accuracy {val_acc}')\n",
    "  print()\n",
    "\n",
    "  train_a.append(train_acc)\n",
    "  train_l.append(train_loss)\n",
    "  val_a.append(val_acc)\n",
    "  val_l.append(val_loss)\n",
    "\n",
    "  if val_acc > best_accuracy:\n",
    "    torch.save(model.state_dict(), 'bert_best_model_state.bin')\n",
    "    best_accuracy = val_acc"
   ]
  },
  {
   "cell_type": "code",
   "execution_count": 48,
   "metadata": {
    "executionInfo": {
     "elapsed": 51,
     "status": "ok",
     "timestamp": 1695329137842,
     "user": {
      "displayName": "m m",
      "userId": "12156804663229931259"
     },
     "user_tz": -360
    },
    "id": "FowMSU5U7SDQ",
    "tags": []
   },
   "outputs": [],
   "source": [
    "train_a = [i.item() for i in train_a]\n",
    "train_l = [i.item() for i in train_l]\n",
    "val_a = [i.item() for i in val_a]\n",
    "val_l = [i.item() for i in val_l]"
   ]
  },
  {
   "cell_type": "code",
   "execution_count": 49,
   "metadata": {
    "colab": {
     "base_uri": "https://localhost:8080/",
     "height": 480
    },
    "executionInfo": {
     "elapsed": 2888,
     "status": "ok",
     "timestamp": 1695329143450,
     "user": {
      "displayName": "m m",
      "userId": "12156804663229931259"
     },
     "user_tz": -360
    },
    "id": "aUQbxyTEAPhM",
    "outputId": "b103ca88-1886-4f16-ea21-5b966a08fe7c",
    "tags": []
   },
   "outputs": [
    {
     "data": {
      "image/png": "[encoded data removed]",
      "text/plain": [
       "<Figure size 640x480 with 1 Axes>"
      ]
     },
     "metadata": {},
     "output_type": "display_data"
    }
   ],
   "source": [
    "plt.plot(train_a, label='train accuracy')\n",
    "plt.plot(val_a, label='validation accuracy')\n",
    "\n",
    "plt.title('Training history')\n",
    "plt.ylabel('Accuracy')\n",
    "plt.xlabel('Epoch')\n",
    "plt.legend()\n",
    "plt.ylim([0, 1])\n",
    "plt.show()"
   ]
  },
  {
   "cell_type": "markdown",
   "metadata": {
    "id": "SbT4YzHFh1s7"
   },
   "source": [
    "Accuracy of Pos/Neg on Test Set"
   ]
  },
  {
   "cell_type": "code",
   "execution_count": 50,
   "metadata": {
    "colab": {
     "base_uri": "https://localhost:8080/"
    },
    "executionInfo": {
     "elapsed": 28664,
     "status": "ok",
     "timestamp": 1695329081374,
     "user": {
      "displayName": "m m",
      "userId": "12156804663229931259"
     },
     "user_tz": -360
    },
    "id": "L1ZzFERMAQk9",
    "outputId": "56411273-fc8c-476f-f660-21239bd321ad",
    "tags": []
   },
   "outputs": [
    {
     "name": "stdout",
     "output_type": "stream",
     "text": [
      "Accuracy:  0.8347140039447731\n",
      "F1-Macro:  0.8150549425111414\n"
     ]
    }
   ],
   "source": [
    "import numpy as np\n",
    "test_acc, _, test_f1 = eval_model(\n",
    "  model,\n",
    "  test_data_loader,\n",
    "  loss_fn,\n",
    "  device,\n",
    "  len(df_test)\n",
    ")\n",
    "\n",
    "\n",
    "print(\"Accuracy: \",test_acc.item())\n",
    "print(\"F1-Macro: \",test_f1.item())"
   ]
  },
  {
   "cell_type": "markdown",
   "metadata": {
    "id": "-Vexpkg79IXK"
   },
   "source": [
    "Scores Average of PP - Poisitve Scores on Positive Sentences\n",
    "                  PN - Poisitve Scores on Negative Sentences\n",
    "                  NP - Negative Scores on Positive Sentences\n",
    "                  NN - Negative Scores on Negative Sentences"
   ]
  },
  {
   "cell_type": "code",
   "execution_count": 51,
   "metadata": {
    "colab": {
     "base_uri": "https://localhost:8080/",
     "height": 605
    },
    "executionInfo": {
     "elapsed": 29278,
     "status": "ok",
     "timestamp": 1695329182045,
     "user": {
      "displayName": "m m",
      "userId": "12156804663229931259"
     },
     "user_tz": -360
    },
    "id": "zUrNTiUp8kPc",
    "outputId": "e99daa47-22f9-471e-97d4-245bf6f0b8ab",
    "tags": []
   },
   "outputs": [
    {
     "data": {
      "image/png": "[encoded data removed]",
      "text/plain": [
       "<Figure size 800x600 with 1 Axes>"
      ]
     },
     "metadata": {},
     "output_type": "display_data"
    }
   ],
   "source": [
    "pp,pn,np,nn = eval_scores_average(\n",
    "  model,\n",
    "  test_data_loader,\n",
    "  device,\n",
    ")\n",
    "\n",
    "box_plot(pp,pn,np,nn)"
   ]
  },
  {
   "cell_type": "markdown",
   "metadata": {
    "id": "uSAQhl1kh5jw"
   },
   "source": [
    "Accuracy of Emotions on Test Set"
   ]
  },
  {
   "cell_type": "code",
   "execution_count": 52,
   "metadata": {
    "colab": {
     "base_uri": "https://localhost:8080/"
    },
    "executionInfo": {
     "elapsed": 30028,
     "status": "ok",
     "timestamp": 1695329212062,
     "user": {
      "displayName": "m m",
      "userId": "12156804663229931259"
     },
     "user_tz": -360
    },
    "id": "aw1XJc94pY9f",
    "outputId": "17d0fe97-0a2d-470d-aa5f-db29bc0c41f7",
    "tags": []
   },
   "outputs": [
    {
     "data": {
      "text/plain": [
       "0.08481262327416174"
      ]
     },
     "execution_count": 52,
     "metadata": {},
     "output_type": "execute_result"
    }
   ],
   "source": [
    "emotion_test_acc = eval_emotions(\n",
    "  model,\n",
    "  test_data_loader,\n",
    "  loss_fn,\n",
    "  device,\n",
    "  len(df_test)\n",
    ")\n",
    "\n",
    "emotion_test_acc.item()"
   ]
  },
  {
   "cell_type": "code",
   "execution_count": 53,
   "metadata": {
    "executionInfo": {
     "elapsed": 8,
     "status": "ok",
     "timestamp": 1695329212064,
     "user": {
      "displayName": "m m",
      "userId": "12156804663229931259"
     },
     "user_tz": -360
    },
    "id": "d7DaFLMiAWps",
    "tags": []
   },
   "outputs": [],
   "source": [
    "def get_predictions(model, data_loader):\n",
    "  model = model.eval()\n",
    "\n",
    "  review = []\n",
    "  predictions = []\n",
    "  emo_predictions = []\n",
    "\n",
    "  prediction_probs = []\n",
    "  real_values = []\n",
    "  emo_real_values = []\n",
    "\n",
    "  pos_scores = []\n",
    "  neg_scores = []\n",
    "\n",
    "\n",
    "  with torch.no_grad():\n",
    "    for d in data_loader:\n",
    "\n",
    "      reviews = d[\"review\"]\n",
    "      input_ids = d[\"input_ids\"].to(device)\n",
    "      attention_mask = d[\"attention_mask\"].to(device)\n",
    "      sentiments = d[\"sentiments\"].to(device)\n",
    "      emotions = d[\"emotions\"].to(device)\n",
    "\n",
    "\n",
    "      scores,outputs = model(\n",
    "        input_ids=input_ids,\n",
    "        attention_mask=attention_mask,\n",
    "        return_scores=True,\n",
    "      )\n",
    "      _, preds = torch.max(outputs, dim=1)\n",
    "\n",
    "      emo_preds = max_emotion(scores[0],scores[1]).to(device)\n",
    "\n",
    "      probs = F.softmax(outputs, dim=1)\n",
    "\n",
    "      review.extend(reviews)\n",
    "      predictions.extend(preds)\n",
    "      emo_predictions.extend(emo_preds)\n",
    "\n",
    "      prediction_probs.extend(probs)\n",
    "      real_values.extend(sentiments)\n",
    "      emo_real_values.extend(emotions)\n",
    "\n",
    "      pos_scores.extend(scores[0])\n",
    "      neg_scores.extend(scores[1])\n",
    "\n",
    "\n",
    "  predictions = torch.stack(predictions).cpu()\n",
    "  emo_predictions = torch.stack(emo_predictions).cpu()\n",
    "  prediction_probs = torch.stack(prediction_probs).cpu()\n",
    "  real_values = torch.stack(real_values).cpu()\n",
    "  emo_real_values = torch.stack(emo_real_values).cpu()\n",
    "  pos_scores = torch.stack(pos_scores).cpu()\n",
    "  neg_scores = torch.stack(neg_scores).cpu()\n",
    "  return review, predictions, emo_predictions, prediction_probs, real_values, emo_real_values, pos_scores, neg_scores"
   ]
  },
  {
   "cell_type": "code",
   "execution_count": 54,
   "metadata": {
    "executionInfo": {
     "elapsed": 27254,
     "status": "ok",
     "timestamp": 1695329239311,
     "user": {
      "displayName": "m m",
      "userId": "12156804663229931259"
     },
     "user_tz": -360
    },
    "id": "kZhYtki1AYx8",
    "tags": []
   },
   "outputs": [],
   "source": [
    "y_review_texts, y_pred, emo_pred , y_pred_probs, y_test, emo_y_test, pos_scores, neg_scores = get_predictions(\n",
    "  model,\n",
    "  test_data_loader\n",
    ")"
   ]
  },
  {
   "cell_type": "code",
   "execution_count": 55,
   "metadata": {
    "executionInfo": {
     "elapsed": 9,
     "status": "ok",
     "timestamp": 1695329239312,
     "user": {
      "displayName": "m m",
      "userId": "12156804663229931259"
     },
     "user_tz": -360
    },
    "id": "mO1FHn0GAbCU",
    "tags": []
   },
   "outputs": [],
   "source": [
    "from sklearn.metrics import classification_report\n",
    "from sklearn.metrics import confusion_matrix\n",
    "class_names = ['negative', 'positive']"
   ]
  },
  {
   "cell_type": "markdown",
   "metadata": {
    "id": "PnBSQFJuh_As"
   },
   "source": [
    "Pos/Neg Classification Report"
   ]
  },
  {
   "cell_type": "code",
   "execution_count": 56,
   "metadata": {
    "colab": {
     "base_uri": "https://localhost:8080/"
    },
    "executionInfo": {
     "elapsed": 9,
     "status": "ok",
     "timestamp": 1695329239312,
     "user": {
      "displayName": "m m",
      "userId": "12156804663229931259"
     },
     "user_tz": -360
    },
    "id": "J9-01snpAcM8",
    "outputId": "4d6f7fff-9a14-49bf-c847-d2e8ba79f5f7",
    "tags": []
   },
   "outputs": [
    {
     "name": "stdout",
     "output_type": "stream",
     "text": [
      "              precision    recall  f1-score   support\n",
      "\n",
      "    negative       0.86      0.88      0.87      1603\n",
      "    positive       0.79      0.76      0.77       932\n",
      "\n",
      "    accuracy                           0.83      2535\n",
      "   macro avg       0.82      0.82      0.82      2535\n",
      "weighted avg       0.83      0.83      0.83      2535\n",
      "\n"
     ]
    }
   ],
   "source": [
    "print(classification_report(y_test, y_pred, target_names=class_names))"
   ]
  },
  {
   "cell_type": "markdown",
   "metadata": {
    "id": "Bjg-0Nj-iCPU"
   },
   "source": [
    "Emotion Classification Report"
   ]
  },
  {
   "cell_type": "code",
   "execution_count": 57,
   "metadata": {
    "colab": {
     "base_uri": "https://localhost:8080/"
    },
    "executionInfo": {
     "elapsed": 7,
     "status": "ok",
     "timestamp": 1695329239312,
     "user": {
      "displayName": "m m",
      "userId": "12156804663229931259"
     },
     "user_tz": -360
    },
    "id": "DHauMLMCsqPx",
    "outputId": "44723e85-2e11-4fc7-ab2b-a901729cfc0a",
    "tags": []
   },
   "outputs": [
    {
     "name": "stdout",
     "output_type": "stream",
     "text": [
      "                precision    recall  f1-score   support\n",
      "\n",
      "         anger       0.06      0.09      0.07       131\n",
      "          fear       0.05      0.05      0.05        65\n",
      "     annoyance       0.25      0.04      0.06       194\n",
      "     gratitude       0.04      0.02      0.03       260\n",
      "    admiration       0.16      0.08      0.11       348\n",
      "        caring       0.01      0.01      0.01        86\n",
      " embarrassment       0.04      0.13      0.06        23\n",
      "           joy       0.14      0.14      0.14        93\n",
      "       sadness       0.19      0.19      0.19       102\n",
      "   disapproval       0.29      0.17      0.22       195\n",
      "      optimism       0.09      0.20      0.12       107\n",
      "      approval       0.12      0.01      0.02       236\n",
      "    excitement       0.02      0.04      0.02        57\n",
      "     amusement       0.11      0.24      0.15       186\n",
      "disappointment       0.10      0.08      0.09        88\n",
      "       remorse       0.00      0.00      0.00        44\n",
      "          love       0.04      0.03      0.04       160\n",
      "       disgust       0.09      0.09      0.09        76\n",
      "        relief       0.00      0.00      0.00         7\n",
      "         pride       0.00      0.00      0.00         7\n",
      "         grief       0.00      0.00      0.00         2\n",
      "        desire       0.04      0.04      0.04        56\n",
      "   nervousness       0.00      0.00      0.00        12\n",
      "\n",
      "      accuracy                           0.08      2535\n",
      "     macro avg       0.08      0.07      0.07      2535\n",
      "  weighted avg       0.12      0.08      0.08      2535\n",
      "\n"
     ]
    }
   ],
   "source": [
    "class_names = list(emotion_map.keys())\n",
    "\n",
    "print(classification_report(emo_y_test, emo_pred, target_names=class_names))"
   ]
  },
  {
   "cell_type": "markdown",
   "metadata": {
    "id": "GhTpYmfdiF-P"
   },
   "source": [
    "Reverse Native Injection Accuracy"
   ]
  },
  {
   "cell_type": "code",
   "execution_count": 58,
   "metadata": {
    "colab": {
     "base_uri": "https://localhost:8080/"
    },
    "executionInfo": {
     "elapsed": 30105,
     "status": "ok",
     "timestamp": 1695329269413,
     "user": {
      "displayName": "m m",
      "userId": "12156804663229931259"
     },
     "user_tz": -360
    },
    "id": "pOutPTF6qJY8",
    "outputId": "a034fc7e-f3ae-44e3-9bd9-2c416c5b45b3",
    "tags": []
   },
   "outputs": [
    {
     "name": "stdout",
     "output_type": "stream",
     "text": [
      "Accuracy:  0.1652859960552268\n",
      "F1-Macro:  0.16012829001169374\n"
     ]
    }
   ],
   "source": [
    "import numpy as np\n",
    "p_emb, n_emb = n_emb, p_emb\n",
    "\n",
    "\n",
    "test_acc, _, test_f1 = eval_model(\n",
    "  model,\n",
    "  test_data_loader,\n",
    "  loss_fn,\n",
    "  device,\n",
    "  len(df_test)\n",
    ")\n",
    "\n",
    "print(\"Accuracy: \",test_acc.item())\n",
    "print(\"F1-Macro: \",test_f1.item())"
   ]
  },
  {
   "cell_type": "code",
   "execution_count": 59,
   "metadata": {
    "colab": {
     "base_uri": "https://localhost:8080/",
     "height": 605
    },
    "executionInfo": {
     "elapsed": 28733,
     "status": "ok",
     "timestamp": 1695329298142,
     "user": {
      "displayName": "m m",
      "userId": "12156804663229931259"
     },
     "user_tz": -360
    },
    "id": "F25gPUqgvw0w",
    "outputId": "747d6857-a67e-4f00-f9a9-fea35eee0d06",
    "tags": []
   },
   "outputs": [
    {
     "data": {
      "image/png": "[encoded data removed]",
      "text/plain": [
       "<Figure size 800x600 with 1 Axes>"
      ]
     },
     "metadata": {},
     "output_type": "display_data"
    }
   ],
   "source": [
    "pp,pn,np,nn = eval_scores_average(\n",
    "  model,\n",
    "  test_data_loader,\n",
    "  device,\n",
    ")\n",
    "\n",
    "box_plot(pp,pn,np,nn)"
   ]
  },
  {
   "cell_type": "markdown",
   "metadata": {
    "id": "3NU7ySjLiPKH"
   },
   "source": [
    "Foreign Injection Accuracy"
   ]
  },
  {
   "cell_type": "code",
   "execution_count": 60,
   "metadata": {
    "colab": {
     "base_uri": "https://localhost:8080/"
    },
    "executionInfo": {
     "elapsed": 27580,
     "status": "ok",
     "timestamp": 1695329325716,
     "user": {
      "displayName": "m m",
      "userId": "12156804663229931259"
     },
     "user_tz": -360
    },
    "id": "zlbzZWECocpp",
    "outputId": "27337f4e-b8c6-4b92-a088-77f03f0ccd93",
    "tags": []
   },
   "outputs": [
    {
     "name": "stdout",
     "output_type": "stream",
     "text": [
      "Accuracy:  0.8335305719921104\n",
      "F1-Macro:  0.8130544141286602\n"
     ]
    }
   ],
   "source": [
    "import numpy as np\n",
    "new_positive_word_meaning_sentences = [\n",
    "'taking all your attention; very attractive and interesting',#captivating(adjective)\n",
    "'to get pleasure from something',#enjoy(verb)\n",
    "'extremely good; excellent',#outstanding(adjective)\n",
    "'showing that you think about and care for other people',#thoughtful(adjective)\n",
    "'the feeling of enjoying yourself; activities that you enjoy',#fun(noun)\n",
    "'affording pleasure; being in harmony with your taste or likings',\n",
    "'get warm or warmer',\n",
    "'provoke someone to do something through (often false or exaggerated)',\n",
    "'aware or expressing awareness of things as they really are',\n",
    "'kind and pleasant']\n",
    "\n",
    "new_negative_word_meaning_sentences = [\n",
    "'tending to show favour towards or against one group of people or one opinion for personal reasons; making unfair judgements',#biased(adjective)\n",
    "'very bad or unpleasant; used to describe something that you do not like',#horrible(adjective)\n",
    "'feeling tired and impatient because you have lost interest in somebody/something or because you have nothing to do',#bored(adjective)\n",
    "'upset because something you hoped for has not happened or been as good, successful, etc. as you expected',#disappointed(adjective)\n",
    "'to make somebody feel annoyed or impatient because they cannot do or achieve what they want',#frustrate(verb),\n",
    "'showing or feeling opposition or dislike; unfriendly',\n",
    "'inspiring scornful pity',\n",
    "'speak unfavorably about',\n",
    "'socially incorrect in behavior',\n",
    "'offensive or disagreeable; causing discomfort or unhappiness']\n",
    "\n",
    "\n",
    "\n",
    "p_emb = torch.tensor([[1.]*config.hidden_size]).to(device)\n",
    "n_emb = torch.tensor([[1.]*config.hidden_size]).to(device)\n",
    "\n",
    "for i in new_positive_word_meaning_sentences:\n",
    "  p_emb = torch.cat((p_emb,get_cls(i).unsqueeze(dim=0)), dim=0)\n",
    "\n",
    "for i in new_negative_word_meaning_sentences:\n",
    "  n_emb = torch.cat((n_emb,get_cls(i).unsqueeze(dim=0)), dim=0)\n",
    "\n",
    "p_emb = p_emb[1:]\n",
    "n_emb = n_emb[1:]\n",
    "\n",
    "test_acc, _, test_f1 = eval_model(\n",
    "  model,\n",
    "  test_data_loader,\n",
    "  loss_fn,\n",
    "  device,\n",
    "  len(df_test)\n",
    ")\n",
    "\n",
    "print(\"Accuracy: \",test_acc.item())\n",
    "print(\"F1-Macro: \",test_f1.item())"
   ]
  },
  {
   "cell_type": "code",
   "execution_count": 61,
   "metadata": {
    "colab": {
     "base_uri": "https://localhost:8080/",
     "height": 605
    },
    "executionInfo": {
     "elapsed": 29037,
     "status": "ok",
     "timestamp": 1695329354749,
     "user": {
      "displayName": "m m",
      "userId": "12156804663229931259"
     },
     "user_tz": -360
    },
    "id": "DGrasP1mxQrD",
    "outputId": "87f1fe38-fe1b-4d6c-bf39-3c3e36c56fae",
    "tags": []
   },
   "outputs": [
    {
     "data": {
      "image/png": "[encoded data removed]",
      "text/plain": [
       "<Figure size 800x600 with 1 Axes>"
      ]
     },
     "metadata": {},
     "output_type": "display_data"
    }
   ],
   "source": [
    "pp,pn,np,nn = eval_scores_average(\n",
    "  model,\n",
    "  test_data_loader,\n",
    "  device,\n",
    ")\n",
    "\n",
    "box_plot(pp,pn,np,nn)"
   ]
  },
  {
   "cell_type": "code",
   "execution_count": 62,
   "metadata": {
    "id": "K-QhJy24rDkl",
    "tags": []
   },
   "outputs": [],
   "source": [
    "from parrot import Parrot\n",
    "import torch\n",
    "import warnings\n",
    "warnings.filterwarnings(\"ignore\")\n",
    "\n",
    "\n",
    "def random_state(seed):\n",
    "  torch.manual_seed(seed)\n",
    "  if torch.cuda.is_available():\n",
    "    torch.cuda.manual_seed_all(seed)\n",
    "\n",
    "random_state(1234)\n",
    "\n",
    "parrot = Parrot(model_tag=\"prithivida/parrot_paraphraser_on_T5\")\n",
    "clear_output()"
   ]
  },
  {
   "cell_type": "code",
   "execution_count": 63,
   "metadata": {
    "executionInfo": {
     "elapsed": 18,
     "status": "ok",
     "timestamp": 1695329438384,
     "user": {
      "displayName": "m m",
      "userId": "12156804663229931259"
     },
     "user_tz": -360
    },
    "id": "p84O3JV6tRdP",
    "tags": []
   },
   "outputs": [],
   "source": [
    "#ORIGINAL EMOTION LABELS\n",
    "positive_word_meaning_sentences = ['the feeling that you have when you enjoy something that is funny',#amusement\n",
    "                                   'the state of feeling or showing happiness and enthusiasm',#excitement\n",
    "                                   'a feeling of great happiness',#joy\n",
    "                                   'a very strong feeling of liking and caring for somebody/something, especially a member of your family or a friend',#love\n",
    "                                   'a strong wish to have or do something',#desire\n",
    "                                   'a feeling that good things will happen and that something will be successful',#optimism\n",
    "                                   'kind, helpful and showing that you care about other people',#caring\n",
    "                                   'a feeling of being pleased or satisfied that you get when you or people who are connected with you have done something well or own something that other people admire',#pride\n",
    "                                   'a feeling of respect for and approval of somebody/something',#admiration\n",
    "                                   'the feeling of being grateful and wanting to express your thanks',#gratitude\n",
    "                                   'the feeling of happiness that you have when something unpleasant stops or does not happen',#relief\n",
    "                                   'the feeling that somebody/something is good or acceptable; a positive opinion of somebody/something',#approval\n",
    "]\n",
    "\n",
    "negative_word_meaning_sentences = ['the bad feeling that you have when you are in danger or when a particular thing frightens you',#fear\n",
    "                                   'the feeling of being anxious about something or afraid of something',#nervousness\n",
    "                                   'the feeling of being extremely sorry for something wrong or bad that you have done',#remorse\n",
    "                                   'shy, uncomfortable or guilty feelings; a feeling of being embarrassed',#embarrassment\n",
    "                                   'the feeling of being sad because something has not happened or been as good, successful, etc. as you expected or hoped',#disappointment\n",
    "                                   'the feeling of being sad',#sadness\n",
    "                                   'a very sad feeling, especially when somebody dies',#grief\n",
    "                                   'a strong feeling of dislike for somebody/something that you feel is unacceptable, or for something that looks, smells, etc. unpleasant',#disgust\n",
    "                                   'the strong feeling that you have when something has happened that you think is bad and unfair',#anger\n",
    "                                   'the feeling of being slightly angry',#annoyance\n",
    "                                   'a feeling that you do not like an idea, an action or somebody’s behaviour because you think it is bad, not suitable or going to have a bad effect on somebody else',#disapproval\n",
    "]"
   ]
  },
  {
   "cell_type": "code",
   "execution_count": 64,
   "metadata": {
    "executionInfo": {
     "elapsed": 16,
     "status": "ok",
     "timestamp": 1695329438385,
     "user": {
      "displayName": "m m",
      "userId": "12156804663229931259"
     },
     "user_tz": -360
    },
    "id": "Ppy-K6l2gWtd",
    "tags": []
   },
   "outputs": [],
   "source": [
    "from IPython.display import clear_output"
   ]
  },
  {
   "cell_type": "code",
   "execution_count": 65,
   "metadata": {
    "executionInfo": {
     "elapsed": 38794,
     "status": "ok",
     "timestamp": 1695329477164,
     "user": {
      "displayName": "m m",
      "userId": "12156804663229931259"
     },
     "user_tz": -360
    },
    "id": "_OCeDQY6gHMj",
    "tags": []
   },
   "outputs": [],
   "source": [
    "new_positive_word_meaning_sentences = []\n",
    "\n",
    "for i in positive_word_meaning_sentences:\n",
    "  para_phrases = parrot.augment(input_phrase=i, max_return_phrases = 10)\n",
    "  temp = list(list(zip(*para_phrases))[0])[0]\n",
    "  new_positive_word_meaning_sentences.append(temp)\n",
    "\n",
    "\n",
    "new_negative_word_meaning_sentences = []\n",
    "\n",
    "for i in negative_word_meaning_sentences:\n",
    "  para_phrases = parrot.augment(input_phrase=i, max_return_phrases = 10)\n",
    "  temp = list(list(zip(*para_phrases))[0])[0]\n",
    "  new_negative_word_meaning_sentences.append(temp)\n",
    "\n",
    "\n",
    "clear_output()"
   ]
  },
  {
   "cell_type": "markdown",
   "metadata": {
    "id": "oEdEBFPQiasC"
   },
   "source": [
    "Paraphrased Native Injection Accuracy"
   ]
  },
  {
   "cell_type": "code",
   "execution_count": 66,
   "metadata": {
    "colab": {
     "base_uri": "https://localhost:8080/"
    },
    "executionInfo": {
     "elapsed": 30045,
     "status": "ok",
     "timestamp": 1695329507205,
     "user": {
      "displayName": "m m",
      "userId": "12156804663229931259"
     },
     "user_tz": -360
    },
    "id": "uEuhYVF-gMqC",
    "outputId": "3c4d554a-9320-4704-990c-0a6f0b392083",
    "tags": []
   },
   "outputs": [
    {
     "name": "stdout",
     "output_type": "stream",
     "text": [
      "Accuracy:  0.8366863905325443\n",
      "F1-Macro:  0.8194121604441325\n"
     ]
    }
   ],
   "source": [
    "import numpy as np\n",
    "p_emb = torch.tensor([[1.]*config.hidden_size]).to(device)\n",
    "n_emb = torch.tensor([[1.]*config.hidden_size]).to(device)\n",
    "\n",
    "for i in new_positive_word_meaning_sentences:\n",
    "  p_emb = torch.cat((p_emb,get_cls(i).unsqueeze(dim=0)), dim=0)\n",
    "\n",
    "for i in new_negative_word_meaning_sentences:\n",
    "  n_emb = torch.cat((n_emb,get_cls(i).unsqueeze(dim=0)), dim=0)\n",
    "\n",
    "p_emb = p_emb[1:]\n",
    "n_emb = n_emb[1:]\n",
    "\n",
    "test_acc, _, test_f1 = eval_model(\n",
    "  model,\n",
    "  test_data_loader,\n",
    "  loss_fn,\n",
    "  device,\n",
    "  len(df_test)\n",
    ")\n",
    "\n",
    "\n",
    "\n",
    "print(\"Accuracy: \",test_acc.item())\n",
    "print(\"F1-Macro: \",test_f1.item())"
   ]
  },
  {
   "cell_type": "code",
   "execution_count": 67,
   "metadata": {
    "executionInfo": {
     "elapsed": 13,
     "status": "ok",
     "timestamp": 1695329507206,
     "user": {
      "displayName": "m m",
      "userId": "12156804663229931259"
     },
     "user_tz": -360
    },
    "id": "2qBYfr3zgvAs",
    "tags": []
   },
   "outputs": [],
   "source": [
    "import random\n",
    "random.seed(42)\n",
    "\n",
    "inputNumbers = range(0,10000)\n",
    "random_seeds = random.sample(inputNumbers, 300)"
   ]
  },
  {
   "cell_type": "code",
   "execution_count": 68,
   "metadata": {
    "executionInfo": {
     "elapsed": 11,
     "status": "ok",
     "timestamp": 1695329507206,
     "user": {
      "displayName": "m m",
      "userId": "12156804663229931259"
     },
     "user_tz": -360
    },
    "id": "nysMxY5myqsd",
    "tags": []
   },
   "outputs": [],
   "source": [
    "import numpy as np"
   ]
  },
  {
   "cell_type": "code",
   "execution_count": 69,
   "metadata": {
    "colab": {
     "base_uri": "https://localhost:8080/"
    },
    "id": "JuMwkV_v4GvV",
    "outputId": "24e92f01-d79f-4514-f879-14a50b1f8477",
    "tags": []
   },
   "outputs": [
    {
     "name": "stdout",
     "output_type": "stream",
     "text": [
      "Working ... ... ... ... ... ... ... ... ... ... ... ... ... ... ... ... ... ... ... ... ... ... ... ... ... ... ... ... ... ... ... ... ... ... ... ... ... ... ... ... ... ... ... ... ... ... ... ... ... ... ... ... ... ... ... ... ... ... ... ... ... ... ... ... ... ... ... ... ... ... ... ... ... ... ... ... ... ... ... ... ... ... ... ... ... ... ... ... ... ... ... ... ... ... ... ... ... ... ... ... ... ... ... ... ... ... ... ... ... ... ... ... ... ... ... ... ... ... ... ... ... ... ... ... ... ... ... ... ... ... ... ... ... ... ... ... ... ... ... ... ... ... ... ... ... ... ... ... ... ... ... ... ... ... ... ... ... ... ... ... ... ... ... ... ... ... ... ... ... ... ... ... ... ... ... ... ... ... ... ... ... ... ... ... ... ... ... ... ... ... ... ... ... ... ... ... ... ... ... ... ... ... ... ... ... ... ... ... ... ... ... ... ... ... ... ... ... ... ... ... ... ... ... ... ... ... ... ... ... ... ... ... ... ... ... ... ... ... ... ... ... ... ... ... ... ... ... ... ... ... ... ... ... ... ... ... ... ... ... ... ... ... ... ... ... ... ... ... ... ... ... ... ... ... ... ... ... ... ... ... ... ... ... ... ... ... ... ... ... ... ... ... ... ... ... ... ... ... ... ... "
     ]
    }
   ],
   "source": [
    "f1s = []\n",
    "accuracy = []\n",
    "p_word_list = []\n",
    "n_word_list = []\n",
    "\n",
    "print(\"Working\", end=' ')\n",
    "for i in range(300):\n",
    "    #SELECT RANDOM WORDS FROM NEUTRAL SENTIWORD\n",
    "    df_neutral = df_senti[df_senti['Sentiment']=='Neutral'].sample(n=20, random_state=random_seeds[i])\n",
    "    neutral_words = list(df_neutral[\"Word\"])\n",
    "\n",
    "    #FETCH DEFINITIONS OF THOSE WORDS\n",
    "    neutral_word_meaning_sentences = []\n",
    "    for i in neutral_words:\n",
    "        a = list(df_senti.loc[df_senti['Word'] == i, 'Definition'])[0]\n",
    "        neutral_word_meaning_sentences.append(a)\n",
    "\n",
    "    #MAKE EMBEDDING OF THESE DEFINITIONS\n",
    "    neutral_p_emb = torch.tensor([[1.]*config.hidden_size]).to(device)\n",
    "    neutral_n_emb = torch.tensor([[1.]*config.hidden_size]).to(device)\n",
    "\n",
    "\n",
    "    for i in neutral_word_meaning_sentences[0:10]:\n",
    "      neutral_p_emb = torch.cat((neutral_p_emb,get_cls(i).unsqueeze(0)), dim=0)\n",
    "\n",
    "    for i in neutral_word_meaning_sentences[10:20]:\n",
    "      neutral_n_emb = torch.cat((neutral_n_emb,get_cls(i).unsqueeze(0)), dim=0)\n",
    "\n",
    "    p_emb = neutral_p_emb[1:]\n",
    "    n_emb = neutral_n_emb[1:]\n",
    "\n",
    "    print('...', end=' ')\n",
    "\n",
    "    p_samples = neutral_words[0:10]\n",
    "    n_samples = neutral_words[10:20]\n",
    "\n",
    "    #EVALUATE ON THESE WORDS\n",
    "    test_acc,_, test_f1 = eval_model(\n",
    "      model,\n",
    "      test_data_loader,\n",
    "      loss_fn,\n",
    "      device,\n",
    "      len(df_test),\n",
    "    )\n",
    "\n",
    "    accuracy.append(test_acc.item())\n",
    "    f1s.append(test_f1.item())\n",
    "    p_word_list.append(p_samples)\n",
    "    n_word_list.append(n_samples)\n"
   ]
  },
  {
   "cell_type": "code",
   "execution_count": 70,
   "metadata": {
    "executionInfo": {
     "elapsed": 13,
     "status": "ok",
     "timestamp": 1695379584055,
     "user": {
      "displayName": "m m",
      "userId": "12156804663229931259"
     },
     "user_tz": -360
    },
    "id": "36UtUdOcDjLK",
    "tags": []
   },
   "outputs": [],
   "source": [
    "import statistics"
   ]
  },
  {
   "cell_type": "code",
   "execution_count": 71,
   "metadata": {
    "colab": {
     "base_uri": "https://localhost:8080/",
     "height": 245
    },
    "executionInfo": {
     "elapsed": 13,
     "status": "error",
     "timestamp": 1695379584056,
     "user": {
      "displayName": "m m",
      "userId": "12156804663229931259"
     },
     "user_tz": -360
    },
    "id": "N_1_hH8S4Hit",
    "outputId": "85d5684e-8de1-402e-9386-f53b050bd477",
    "tags": []
   },
   "outputs": [],
   "source": [
    "stdv = statistics.pstdev(f1s)\n",
    "median = statistics.median(f1s)\n",
    "#filters = [i>median+(2*stdv) for i in f1s]\n",
    "filters = [i>.7 for i in f1s]\n",
    "def filter_2std(target_list, filters):\n",
    "    index = [i for i in range(len(filters)) if filters[i]]\n",
    "    list_a_filtered = [target_list[i] for i in index]\n",
    "    return list_a_filtered\n",
    "\n",
    "p_words_spurious = filter_2std(p_word_list,filters)\n",
    "n_words_spurious = filter_2std(n_word_list,filters)\n",
    "\n",
    "#print(p_words_spurious)\n",
    "#print(n_words_spurious)"
   ]
  },
  {
   "cell_type": "markdown",
   "metadata": {
    "id": "6l78c6yoikRS"
   },
   "source": [
    "Neutral Injection Accuracies"
   ]
  },
  {
   "cell_type": "code",
   "execution_count": 72,
   "metadata": {
    "executionInfo": {
     "elapsed": 19,
     "status": "ok",
     "timestamp": 1695379585268,
     "user": {
      "displayName": "m m",
      "userId": "12156804663229931259"
     },
     "user_tz": -360
    },
    "id": "mmW3cTd4o6Hb",
    "tags": []
   },
   "outputs": [],
   "source": [
    "import numpy as np"
   ]
  },
  {
   "cell_type": "code",
   "execution_count": 7,
   "metadata": {
    "colab": {
     "base_uri": "https://localhost:8080/",
     "height": 175
    },
    "executionInfo": {
     "elapsed": 17,
     "status": "error",
     "timestamp": 1695379585269,
     "user": {
      "displayName": "m m",
      "userId": "12156804663229931259"
     },
     "user_tz": -360
    },
    "id": "_sc9N6PqFDAF",
    "outputId": "86645206-6fd6-4dcd-eb48-1555f0dcda27",
    "tags": []
   },
   "outputs": [],
   "source": [
    "(hist, bin_edges) = np.histogram(f1s,bins=15)"
   ]
  },
  {
   "cell_type": "code",
   "execution_count": 5,
   "metadata": {
    "tags": []
   },
   "outputs": [],
   "source": [
    "f1s = list(pd.read_csv('/home/m_nsu/ICLR/bert_randomizationtest.csv')['f1s'])"
   ]
  },
  {
   "cell_type": "code",
   "execution_count": 12,
   "metadata": {
    "executionInfo": {
     "elapsed": 15,
     "status": "aborted",
     "timestamp": 1695379585271,
     "user": {
      "displayName": "m m",
      "userId": "12156804663229931259"
     },
     "user_tz": -360
    },
    "id": "uMGPmojj4SeF",
    "tags": []
   },
   "outputs": [
    {
     "data": {
      "image/png": "[encoded data removed]",
      "text/plain": [
       "<Figure size 640x480 with 1 Axes>"
      ]
     },
     "metadata": {},
     "output_type": "display_data"
    }
   ],
   "source": [
    "plt.hist(f1s, bins=15,facecolor = '#008080', edgecolor='#000000', linewidth=0.5)\n",
    "\n",
    "\n",
    "vertical_line_position = 0.815  # Change this to the desired position\n",
    "plt.axvline(x=vertical_line_position, color='r', linestyle='--', label='Vne')\n",
    "plt.text(x=vertical_line_position,y=max(hist),s='Native',ha='left', va='bottom')\n",
    "\n",
    "    \n",
    "plt.xlabel(\"F1-Macro\")\n",
    "plt.ylabel(\"frequency\")\n",
    "\n",
    "#plt.title(\"bert-base\")\n",
    "plt.show()"
   ]
  },
  {
   "cell_type": "code",
   "execution_count": 109,
   "metadata": {
    "tags": []
   },
   "outputs": [],
   "source": [
    "'''\n",
    "df_randomization_test = pd.DataFrame(list(zip(f1s, accuracy,p_word_list,n_word_list)),\n",
    "               columns =['f1s', 'accuracy','p_word_list','n_word_list'])\n",
    "df_randomization_test.to_csv('bert_randomizationtest.csv')\n",
    "'''"
   ]
  },
  {
   "cell_type": "code",
   "execution_count": 115,
   "metadata": {
    "tags": []
   },
   "outputs": [],
   "source": [
    "df_neutral = df_senti[df_senti['Sentiment']=='Neutral'].sample(n=20, random_state=random_seeds[16])\n",
    "neutral_words = list(df_neutral[\"Word\"])\n",
    "\n",
    "#FETCH DEFINITIONS OF THOSE WORDS\n",
    "neutral_word_meaning_sentences = []\n",
    "for i in neutral_words:\n",
    "    a = list(df_senti.loc[df_senti['Word'] == i, 'Definition'])[0]\n",
    "    neutral_word_meaning_sentences.append(a)"
   ]
  },
  {
   "cell_type": "code",
   "execution_count": 116,
   "metadata": {
    "executionInfo": {
     "elapsed": 33,
     "status": "aborted",
     "timestamp": 1695329093833,
     "user": {
      "displayName": "m m",
      "userId": "12156804663229931259"
     },
     "user_tz": -360
    },
    "id": "-nnwzm980k1q",
    "tags": []
   },
   "outputs": [
    {
     "name": "stdout",
     "output_type": "stream",
     "text": [
      "Accuracy:  0.6094674556213018\n",
      "F1-Macro:  0.5524629333587217\n"
     ]
    }
   ],
   "source": [
    "import numpy as np\n",
    "p_emb = torch.tensor([[1.]*config.hidden_size]).to(device)\n",
    "n_emb = torch.tensor([[1.]*config.hidden_size]).to(device)\n",
    "\n",
    "for i in neutral_word_meaning_sentences[0:10]:\n",
    "  p_emb = torch.cat((p_emb,get_cls(i).unsqueeze(dim=0)), dim=0)\n",
    "\n",
    "for i in neutral_word_meaning_sentences[10:20]:\n",
    "  n_emb = torch.cat((n_emb,get_cls(i).unsqueeze(dim=0)), dim=0)\n",
    "\n",
    "p_emb = p_emb[1:]\n",
    "n_emb = n_emb[1:]\n",
    "\n",
    "test_acc, _, test_f1 = eval_model(\n",
    "  model,\n",
    "  test_data_loader,\n",
    "  loss_fn,\n",
    "  device,\n",
    "  len(df_test)\n",
    ")\n",
    "\n",
    "\n",
    "print(\"Accuracy: \",test_acc.item())\n",
    "print(\"F1-Macro: \",test_f1.item())"
   ]
  },
  {
   "cell_type": "code",
   "execution_count": 117,
   "metadata": {
    "executionInfo": {
     "elapsed": 32,
     "status": "aborted",
     "timestamp": 1695329093833,
     "user": {
      "displayName": "m m",
      "userId": "12156804663229931259"
     },
     "user_tz": -360
    },
    "id": "7cdh2kXd0-Zb",
    "tags": []
   },
   "outputs": [
    {
     "data": {
      "image/png": "[encoded data removed]",
      "text/plain": [
       "<Figure size 800x600 with 1 Axes>"
      ]
     },
     "metadata": {},
     "output_type": "display_data"
    }
   ],
   "source": [
    "pp,pn,np,nn = eval_scores_average(\n",
    "  model,\n",
    "  test_data_loader,\n",
    "  device,\n",
    ")\n",
    "\n",
    "box_plot(pp,pn,np,nn)"
   ]
  },
  {
   "cell_type": "code",
   "execution_count": 104,
   "metadata": {
    "executionInfo": {
     "elapsed": 32,
     "status": "aborted",
     "timestamp": 1695329093833,
     "user": {
      "displayName": "m m",
      "userId": "12156804663229931259"
     },
     "user_tz": -360
    },
    "id": "1MTPlFIVEd6y",
    "tags": []
   },
   "outputs": [],
   "source": [
    "max_f1_index = f1s.index(max(f1s))"
   ]
  },
  {
   "cell_type": "code",
   "execution_count": 105,
   "metadata": {
    "executionInfo": {
     "elapsed": 32,
     "status": "aborted",
     "timestamp": 1695329093834,
     "user": {
      "displayName": "m m",
      "userId": "12156804663229931259"
     },
     "user_tz": -360
    },
    "id": "J3ymzSst9jH9",
    "tags": []
   },
   "outputs": [],
   "source": [
    "p_spurious_sentences = [list(df_senti[df_senti['Word'] == i]['Definition'])[0] for i in p_words_spurious[max_f1_index]]\n",
    "n_spurious_sentences = [list(df_senti[df_senti['Word'] == i]['Definition'])[0] for i in n_words_spurious[max_f1_index]]"
   ]
  },
  {
   "cell_type": "code",
   "execution_count": 90,
   "metadata": {
    "executionInfo": {
     "elapsed": 32,
     "status": "aborted",
     "timestamp": 1695329093834,
     "user": {
      "displayName": "m m",
      "userId": "12156804663229931259"
     },
     "user_tz": -360
    },
    "id": "AoDiCBpM6glm",
    "tags": []
   },
   "outputs": [
    {
     "name": "stdout",
     "output_type": "stream",
     "text": [
      "Accuracy:  0.8335305719921104\n",
      "F1-Macro:  0.818038012859357\n"
     ]
    },
    {
     "data": {
      "image/png": "[encoded data removed]",
      "text/plain": [
       "<Figure size 800x600 with 1 Axes>"
      ]
     },
     "metadata": {},
     "output_type": "display_data"
    }
   ],
   "source": [
    "import numpy as np\n",
    "p_emb = torch.tensor([[1.]*config.hidden_size]).to(device)\n",
    "n_emb = torch.tensor([[1.]*config.hidden_size]).to(device)\n",
    "\n",
    "for i in p_spurious_sentences:\n",
    "  p_emb = torch.cat((p_emb,get_cls(i).unsqueeze(dim=0)), dim=0)\n",
    "\n",
    "for i in n_spurious_sentences:\n",
    "  n_emb = torch.cat((n_emb,get_cls(i).unsqueeze(dim=0)), dim=0)\n",
    "\n",
    "p_emb = p_emb[1:]\n",
    "n_emb = n_emb[1:]\n",
    "\n",
    "test_acc, _, test_f1 = eval_model(\n",
    "  model,\n",
    "  test_data_loader,\n",
    "  loss_fn,\n",
    "  device,\n",
    "  len(df_test)\n",
    ")\n",
    "\n",
    "print(\"Accuracy: \",test_acc.item())\n",
    "print(\"F1-Macro: \",test_f1.item())\n",
    "\n",
    "\n",
    "pp,pn,np,nn = eval_scores_average(\n",
    "  model,\n",
    "  test_data_loader,\n",
    "  device,\n",
    ")\n",
    "\n",
    "box_plot(pp,pn,np,nn)"
   ]
  },
  {
   "cell_type": "code",
   "execution_count": 106,
   "metadata": {
    "executionInfo": {
     "elapsed": 32,
     "status": "aborted",
     "timestamp": 1695329093835,
     "user": {
      "displayName": "m m",
      "userId": "12156804663229931259"
     },
     "user_tz": -360
    },
    "id": "t-1o_fPd_MEy",
    "tags": []
   },
   "outputs": [
    {
     "data": {
      "text/plain": [
       "['raft_foundation',\n",
       " 'sulky',\n",
       " 'torch',\n",
       " 'northwestern northwesterly northwest',\n",
       " 'table-tennis_racquet table-tennis_bat pingpong_paddle',\n",
       " 'script playscript book',\n",
       " 'flow',\n",
       " 'rock_of_gibraltar gibraltar calpe',\n",
       " 'creek_confederacy',\n",
       " 'usher show#']"
      ]
     },
     "execution_count": 106,
     "metadata": {},
     "output_type": "execute_result"
    }
   ],
   "source": [
    "n_words_spurious[0]"
   ]
  },
  {
   "cell_type": "code",
   "execution_count": 107,
   "metadata": {
    "executionInfo": {
     "elapsed": 33,
     "status": "aborted",
     "timestamp": 1695329093836,
     "user": {
      "displayName": "m m",
      "userId": "12156804663229931259"
     },
     "user_tz": -360
    },
    "id": "lvMoMpyEXQVt",
    "tags": []
   },
   "outputs": [
    {
     "data": {
      "text/plain": [
       "['individualist',\n",
       " 'instantiate',\n",
       " 'buhl boulle boule',\n",
       " 'optician lens_maker',\n",
       " 'pocket_borough',\n",
       " 'discovered_check',\n",
       " 'solanum_jasmoides potato_vine',\n",
       " 'genus_ascophyllum ascophyllum',\n",
       " 'readying preparation',\n",
       " 'enemy']"
      ]
     },
     "execution_count": 107,
     "metadata": {},
     "output_type": "execute_result"
    }
   ],
   "source": [
    "p_words_spurious[0]"
   ]
  },
  {
   "cell_type": "markdown",
   "metadata": {
    "id": "aUzQP5etB1qH"
   },
   "source": [
    "Using Bias categories to test if they are neutral or not"
   ]
  },
  {
   "cell_type": "code",
   "execution_count": 83,
   "metadata": {
    "executionInfo": {
     "elapsed": 32,
     "status": "aborted",
     "timestamp": 1695329093836,
     "user": {
      "displayName": "m m",
      "userId": "12156804663229931259"
     },
     "user_tz": -360
    },
    "id": "M4c1i-jEnOia",
    "tags": []
   },
   "outputs": [],
   "source": [
    "import os, sys\n",
    "\n",
    "filenames = []\n",
    "\n",
    "path = \"/home/m_nsu/ICLR/Datasets/GoEmotion/bias_criterias\"\n",
    "dir = os.listdir( path )\n",
    "\n",
    "for file in dir:\n",
    "   if(file.endswith('.csv')):\n",
    "    filenames.append(file)"
   ]
  },
  {
   "cell_type": "code",
   "execution_count": 84,
   "metadata": {
    "executionInfo": {
     "elapsed": 32,
     "status": "aborted",
     "timestamp": 1695329093836,
     "user": {
      "displayName": "m m",
      "userId": "12156804663229931259"
     },
     "user_tz": -360
    },
    "id": "uAcBqk9LpYds",
    "tags": []
   },
   "outputs": [
    {
     "name": "stdout",
     "output_type": "stream",
     "text": [
      "Advocate.csv is Positively Spurious.\n",
      "Positive Acc: 0.7442277978493754 \n",
      "Negative Acc: 0.1926682607971088\n",
      "------------------------------------------------------------------------\n",
      "Dialogue.csv is Positively Spurious.\n",
      "Positive Acc: 0.795307651349868 \n",
      "Negative Acc: 0.17815528087536062\n",
      "------------------------------------------------------------------------\n",
      "Indian.csv is Positively Spurious.\n",
      "Positive Acc: 0.6026092825070288 \n",
      "Negative Acc: 0.4731548724088669\n",
      "------------------------------------------------------------------------\n",
      "Orientation.csv is Positively Spurious.\n",
      "Positive Acc: 0.7943917767735169 \n",
      "Negative Acc: 0.1778215628090133\n",
      "------------------------------------------------------------------------\n",
      "Colored.csv is Positively Spurious.\n",
      "Positive Acc: 0.6354568724182916 \n",
      "Negative Acc: 0.37636581903706257\n",
      "------------------------------------------------------------------------\n",
      "occupations1950_nonprofessional.csv is Positively Spurious.\n",
      "Positive Acc: 0.7751970681086078 \n",
      "Negative Acc: 0.1701125979169698\n",
      "------------------------------------------------------------------------\n",
      "Society.csv is Positively Spurious.\n",
      "Positive Acc: 0.7672848005596581 \n",
      "Negative Acc: 0.19018920620711138\n",
      "------------------------------------------------------------------------\n",
      "Money.csv is Positively Spurious.\n",
      "Positive Acc: 0.7155108835802722 \n",
      "Negative Acc: 0.20646070412010467\n",
      "------------------------------------------------------------------------\n",
      "Woman.csv is Positively Spurious.\n",
      "Positive Acc: 0.6713060078745283 \n",
      "Negative Acc: 0.35736747127736723\n",
      "------------------------------------------------------------------------\n",
      "Activist.csv is Positively Spurious.\n",
      "Positive Acc: 0.65595083041886 \n",
      "Negative Acc: 0.305288964245287\n",
      "------------------------------------------------------------------------\n",
      "Retarded.csv is Positively Spurious.\n",
      "Positive Acc: 0.6824754659491721 \n",
      "Negative Acc: 0.3303057692967637\n",
      "------------------------------------------------------------------------\n",
      "Chubby.csv is Positively Spurious.\n",
      "Positive Acc: 0.7223161489510451 \n",
      "Negative Acc: 0.27239933547228234\n",
      "------------------------------------------------------------------------\n",
      "Jew.csv is Positively Spurious.\n",
      "Positive Acc: 0.673359636283101 \n",
      "Negative Acc: 0.3844341715508439\n",
      "------------------------------------------------------------------------\n",
      "Homosexual.csv is Positively Spurious.\n",
      "Positive Acc: 0.6801533497158339 \n",
      "Negative Acc: 0.31113101187677006\n",
      "------------------------------------------------------------------------\n",
      "Misgendering.csv is Positively Spurious.\n",
      "Positive Acc: 0.6257817091076874 \n",
      "Negative Acc: 0.330385999520901\n",
      "------------------------------------------------------------------------\n",
      "Marriage.csv is Positively Spurious.\n",
      "Positive Acc: 0.7245482510047351 \n",
      "Negative Acc: 0.2067018545278379\n",
      "------------------------------------------------------------------------\n",
      "Industry.csv is Positively Spurious.\n",
      "Positive Acc: 0.7471212739504296 \n",
      "Negative Acc: 0.2214257327299693\n",
      "------------------------------------------------------------------------\n",
      "Oriental.csv is Neutral.\n",
      "Positive Acc: 0.3151751611452216 \n",
      "Negative Acc: 0.43308655529816525\n",
      "------------------------------------------------------------------------\n",
      "occupations1950_professional.csv is Positively Spurious.\n",
      "Positive Acc: 0.7821787734258725 \n",
      "Negative Acc: 0.1689765185258502\n",
      "------------------------------------------------------------------------\n",
      "Gender.csv is Neutral.\n",
      "Positive Acc: 0.5614252104498483 \n",
      "Negative Acc: 0.5282229390557593\n",
      "------------------------------------------------------------------------\n",
      "Media.csv is Positively Spurious.\n",
      "Positive Acc: 0.711494371731243 \n",
      "Negative Acc: 0.30607614403357974\n",
      "------------------------------------------------------------------------\n",
      "Islam.csv is Positively Spurious.\n",
      "Positive Acc: 0.7751701631247382 \n",
      "Negative Acc: 0.20155462246500905\n",
      "------------------------------------------------------------------------\n"
     ]
    }
   ],
   "source": [
    "import numpy as np\n",
    "for filename in filenames:\n",
    "    df_bias = pd.read_csv('/home/m_nsu/ICLR/Datasets/GoEmotion/bias_criterias/'+filename)\n",
    "\n",
    "    p_spurious_sentences = list(df_bias['Definition'])\n",
    "\n",
    "    p_emb = torch.tensor([[1.]*config.hidden_size]).to(device)\n",
    "    n_emb = torch.tensor([[1.]*config.hidden_size]).to(device)\n",
    "\n",
    "    for i in p_spurious_sentences:\n",
    "      p_emb = torch.cat((p_emb,get_cls(i).unsqueeze(dim=0)), dim=0)\n",
    "\n",
    "    for i in neutral_word_meaning_sentences[10:20]:\n",
    "      n_emb = torch.cat((n_emb,get_cls(i).unsqueeze(dim=0)), dim=0)\n",
    "\n",
    "    p_emb = p_emb[1:]\n",
    "    n_emb = n_emb[1:]\n",
    "\n",
    "    test_acc, _, test_f1 = eval_model(\n",
    "      model,\n",
    "      test_data_loader,\n",
    "      loss_fn,\n",
    "      device,\n",
    "      len(df_test)\n",
    "    )\n",
    "\n",
    "    positive_spurious = test_f1.item()\n",
    "\n",
    "    n_spurious_sentences = list(df_bias['Definition'])\n",
    "    p_emb = torch.tensor([[1.]*config.hidden_size]).to(device)\n",
    "    n_emb = torch.tensor([[1.]*config.hidden_size]).to(device)\n",
    "\n",
    "    for i in neutral_word_meaning_sentences[0:10]:\n",
    "      p_emb = torch.cat((p_emb,get_cls(i).unsqueeze(dim=0)), dim=0)\n",
    "\n",
    "    for i in n_spurious_sentences:\n",
    "      n_emb = torch.cat((n_emb,get_cls(i).unsqueeze(dim=0)), dim=0)\n",
    "\n",
    "    p_emb = p_emb[1:]\n",
    "    n_emb = n_emb[1:]\n",
    "\n",
    "    test_acc, _, test_f1 = eval_model(\n",
    "      model,\n",
    "      test_data_loader,\n",
    "      loss_fn,\n",
    "      device,\n",
    "      len(df_test)\n",
    "    )\n",
    "\n",
    "    negative_spurious = test_f1.item()\n",
    "\n",
    "    if positive_spurious>=0.6:\n",
    "      print(filename+' is Positively Spurious.')\n",
    "    if negative_spurious>=0.6:\n",
    "      print(filename+' is Negatively Spurious.')\n",
    "    if(positive_spurious<0.6 and negative_spurious<0.6):\n",
    "      print(filename+' is Neutral.')\n",
    "    print('Positive Acc:',positive_spurious,'\\n'+'Negative Acc:', negative_spurious)\n",
    "    print(\"------------------------------------------------------------------------\")"
   ]
  },
  {
   "cell_type": "code",
   "execution_count": null,
   "metadata": {},
   "outputs": [],
   "source": []
  },
  {
   "cell_type": "code",
   "execution_count": null,
   "metadata": {},
   "outputs": [],
   "source": []
  }
 ],
 "metadata": {
  "accelerator": "GPU",
  "colab": {
   "provenance": []
  },
  "gpuClass": "standard",
  "kernelspec": {
   "display_name": "Python 3",
   "language": "python",
   "name": "python3"
  },
  "language_info": {
   "codemirror_mode": {
    "name": "ipython",
    "version": 3
   },
   "file_extension": ".py",
   "mimetype": "text/x-python",
   "name": "python",
   "nbconvert_exporter": "python",
   "pygments_lexer": "ipython3",
   "version": "3.8.10"
  }
 },
 "nbformat": 4,
 "nbformat_minor": 4
}
